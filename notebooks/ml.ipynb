{
 "cells": [
  {
   "cell_type": "markdown",
   "id": "0635285d-5589-4eeb-9091-9dd2143b3492",
   "metadata": {
    "tags": []
   },
   "source": [
    "# Connect to Hive"
   ]
  },
  {
   "cell_type": "code",
   "execution_count": 1,
   "id": "d4d77bfb-132e-422c-9933-69d0df5685dd",
   "metadata": {},
   "outputs": [],
   "source": [
    "from pyspark.sql import SparkSession\n",
    "\n",
    "# Add here your team number teamx\n",
    "team = \"team25\"\n",
    "\n",
    "# location of your Hive database in HDFS\n",
    "warehouse = \"project/hive/warehouse\"\n",
    "\n",
    "spark = SparkSession.builder\\\n",
    "        .appName(\"{} - spark ML\".format(team))\\\n",
    "        .master(\"yarn\")\\\n",
    "        .config(\"hive.metastore.uris\", \"thrift://hadoop-02.uni.innopolis.ru:9883\")\\\n",
    "        .config(\"spark.sql.warehouse.dir\", warehouse)\\\n",
    "        .config(\"spark.sql.avro.compression.codec\", \"snappy\")\\\n",
    "        .enableHiveSupport()\\\n",
    "        .getOrCreate()\n",
    "\n",
    "sc = spark.sparkContext"
   ]
  },
  {
   "cell_type": "code",
   "execution_count": 2,
   "id": "ab0a0875-0d8c-4f48-a65b-230e11c46d38",
   "metadata": {},
   "outputs": [
    {
     "data": {
      "text/html": [
       "\n",
       "            <div>\n",
       "                <p><b>SparkSession - hive</b></p>\n",
       "                \n",
       "        <div>\n",
       "            <p><b>SparkContext</b></p>\n",
       "\n",
       "            <p><a href=\"http://hadoop-01.uni.innopolis.ru:4141\">Spark UI</a></p>\n",
       "\n",
       "            <dl>\n",
       "              <dt>Version</dt>\n",
       "                <dd><code>v3.2.4</code></dd>\n",
       "              <dt>Master</dt>\n",
       "                <dd><code>yarn</code></dd>\n",
       "              <dt>AppName</dt>\n",
       "                <dd><code>team25 - spark ML</code></dd>\n",
       "            </dl>\n",
       "        </div>\n",
       "        \n",
       "            </div>\n",
       "        "
      ],
      "text/plain": [
       "<pyspark.sql.session.SparkSession at 0x7f3dfa28ac18>"
      ]
     },
     "execution_count": 2,
     "metadata": {},
     "output_type": "execute_result"
    }
   ],
   "source": [
    "spark"
   ]
  },
  {
   "cell_type": "markdown",
   "id": "ebbc89ee-c475-47d1-b000-a800563a8870",
   "metadata": {},
   "source": [
    "# list Hive databases"
   ]
  },
  {
   "cell_type": "code",
   "execution_count": 3,
   "id": "e2631136-e462-4815-a807-d1bd4bc3f7a8",
   "metadata": {},
   "outputs": [
    {
     "name": "stdout",
     "output_type": "stream",
     "text": [
      "[Database(name='default', description='Default Hive database', locationUri='hdfs://hadoop-02.uni.innopolis.ru:8020/apps/hive/warehouse'), Database(name='root_db', description='', locationUri='hdfs://hadoop-02.uni.innopolis.ru:8020/user/root/root_db'), Database(name='team0_projectdb', description='', locationUri='hdfs://hadoop-02.uni.innopolis.ru:8020/user/team0/project/hive/warehouse'), Database(name='team12_hive_projectdb', description='', locationUri='hdfs://hadoop-02.uni.innopolis.ru:8020/user/team12/project/hive/warehouse'), Database(name='team13_projectdb', description='', locationUri='hdfs://hadoop-02.uni.innopolis.ru:8020/user/team13/project/hive/warehouse'), Database(name='team14_projectdb', description='', locationUri='hdfs://hadoop-02.uni.innopolis.ru:8020/user/team14/project/hive/warehouse'), Database(name='team15_projectdb', description='', locationUri='hdfs://hadoop-02.uni.innopolis.ru:8020/user/team15/project/hive/warehouse'), Database(name='team16_projectdb', description='', locationUri='hdfs://hadoop-02.uni.innopolis.ru:8020/user/team16/project/hive/warehouse'), Database(name='team17_projectdb', description='', locationUri='hdfs://hadoop-02.uni.innopolis.ru:8020/user/team17/project/hive/warehouse'), Database(name='team18_projectdb', description='', locationUri='hdfs://hadoop-02.uni.innopolis.ru:8020/user/team18/project/hive/warehouse'), Database(name='team19_projectdb', description='', locationUri='hdfs://hadoop-02.uni.innopolis.ru:8020/user/team19/project/hive/warehouse'), Database(name='team1_projectdb', description='', locationUri='hdfs://hadoop-02.uni.innopolis.ru:8020/user/team1/project/hive/warehouse'), Database(name='team20_projectdb', description='', locationUri='hdfs://hadoop-02.uni.innopolis.ru:8020/user/team20/project/hive/warehouse'), Database(name='team21_projectdb', description='', locationUri='hdfs://hadoop-02.uni.innopolis.ru:8020/user/team21/project/hive/warehouse'), Database(name='team22_projectdb', description='', locationUri='hdfs://hadoop-02.uni.innopolis.ru:8020/user/team22/project/hive/warehouse'), Database(name='team23_projectdb', description='', locationUri='hdfs://hadoop-02.uni.innopolis.ru:8020/user/team23/project/hive/warehouse'), Database(name='team24_projectdb', description='', locationUri='hdfs://hadoop-02.uni.innopolis.ru:8020/user/team24/project/hive/warehouse'), Database(name='team25_projectdb', description='', locationUri='hdfs://hadoop-02.uni.innopolis.ru:8020/user/team25/project/hive/warehouse'), Database(name='team26_projectdb', description='', locationUri='hdfs://hadoop-02.uni.innopolis.ru:8020/user/team26/project/hive/warehouse'), Database(name='team27_projectdb', description='', locationUri='hdfs://hadoop-02.uni.innopolis.ru:8020/user/team27/project/hive/warehouse'), Database(name='team28_projectdb', description='', locationUri='hdfs://hadoop-02.uni.innopolis.ru:8020/user/team28/project/hive/warehouse'), Database(name='team29_projectdb', description='', locationUri='hdfs://hadoop-02.uni.innopolis.ru:8020/user/team29/project/hive/warehouse'), Database(name='team2_projectdb', description='', locationUri='hdfs://hadoop-02.uni.innopolis.ru:8020/user/team2/project/hive/warehouse'), Database(name='team30_projectdb', description='', locationUri='hdfs://hadoop-02.uni.innopolis.ru:8020/user/team30/project/hive/warehouse'), Database(name='team31_projectdb', description='', locationUri='hdfs://hadoop-02.uni.innopolis.ru:8020/user/team31/project/hive/warehouse'), Database(name='team3_projectdb', description='', locationUri='hdfs://hadoop-02.uni.innopolis.ru:8020/user/team3/project/hive/warehouse'), Database(name='team4_projectdb', description='', locationUri='hdfs://hadoop-02.uni.innopolis.ru:8020/user/team4/project/hive/warehouse'), Database(name='team5_projectdb', description='', locationUri='hdfs://hadoop-02.uni.innopolis.ru:8020/user/team5/project/hive/warehouse'), Database(name='team6_projectdb', description='', locationUri='hdfs://hadoop-02.uni.innopolis.ru:8020/user/team6/project/hive/warehouse'), Database(name='team7_projectdb', description='', locationUri='hdfs://hadoop-02.uni.innopolis.ru:8020/user/team7/project/hive/warehouse'), Database(name='team8_projectdb', description='', locationUri='hdfs://hadoop-02.uni.innopolis.ru:8020/user/team8/project/hive/warehouse'), Database(name='team9_projectdb', description='', locationUri='hdfs://hadoop-02.uni.innopolis.ru:8020/user/team9/project/hive/warehouse'), Database(name='testdb', description='', locationUri='hdfs://hadoop-02.uni.innopolis.ru:8020/apps/hive/warehouse/testdb.db')]\n",
      "+--------------------+\n",
      "|           namespace|\n",
      "+--------------------+\n",
      "|             default|\n",
      "|             root_db|\n",
      "|     team0_projectdb|\n",
      "|team12_hive_proje...|\n",
      "|    team13_projectdb|\n",
      "|    team14_projectdb|\n",
      "|    team15_projectdb|\n",
      "|    team16_projectdb|\n",
      "|    team17_projectdb|\n",
      "|    team18_projectdb|\n",
      "|    team19_projectdb|\n",
      "|     team1_projectdb|\n",
      "|    team20_projectdb|\n",
      "|    team21_projectdb|\n",
      "|    team22_projectdb|\n",
      "|    team23_projectdb|\n",
      "|    team24_projectdb|\n",
      "|    team25_projectdb|\n",
      "|    team26_projectdb|\n",
      "|    team27_projectdb|\n",
      "+--------------------+\n",
      "only showing top 20 rows\n",
      "\n"
     ]
    }
   ],
   "source": [
    "print(spark.catalog.listDatabases())\n",
    "spark.sql(\"SHOW DATABASES;\").show()"
   ]
  },
  {
   "cell_type": "markdown",
   "id": "c69a1fe4-d2d3-4fb0-9533-59f61a917d05",
   "metadata": {},
   "source": [
    "# Specify the input and output features"
   ]
  },
  {
   "cell_type": "code",
   "execution_count": 4,
   "id": "018f48d1-6fde-4ff5-b7ce-4eed719a7774",
   "metadata": {},
   "outputs": [],
   "source": [
    "numerical_columns = [\"travelDuration\", \"isBasicEconomy\", \"isRefundable\",\n",
    "                     \"isNonStop\", \"seatsRemaining\", \"totalTravelDistance\", \"segmentsDurationInSeconds\", \"day_sin\",\n",
    "                     \"day_cos\", \"month_sin\", \"month_cos\"]\n",
    "categorical_columns = [\"startingAirport\", \"destinationAirport\", \"segmentsCabinCode\", \"segmentsAirlineCode\"]\n",
    "\n",
    "features = numerical_columns + categorical_columns\n",
    "\n",
    "# The output/target of our model\n",
    "label = \"baseFare\""
   ]
  },
  {
   "cell_type": "markdown",
   "id": "2f5bf565-af4e-49d4-bf45-ca1e1baf971f",
   "metadata": {},
   "source": [
    "# Read hive tables"
   ]
  },
  {
   "cell_type": "code",
   "execution_count": 5,
   "id": "3376ccfd-3045-4c2d-9800-19ea2da702b3",
   "metadata": {},
   "outputs": [],
   "source": [
    "data = spark.read.format(\"avro\").table('team25_projectdb.flights_opt')\n"
   ]
  },
  {
   "cell_type": "code",
   "execution_count": 6,
   "id": "cef824c1-587d-4a7a-9d17-3ee7148ae8ee",
   "metadata": {},
   "outputs": [
    {
     "name": "stdout",
     "output_type": "stream",
     "text": [
      "Number of rows: 4106938\n",
      "Number of columns: 27\n",
      "root\n",
      " |-- legid: string (nullable = true)\n",
      " |-- searchdate: date (nullable = true)\n",
      " |-- flightdate: date (nullable = true)\n",
      " |-- destinationairport: string (nullable = true)\n",
      " |-- farebasiscode: string (nullable = true)\n",
      " |-- travelduration: string (nullable = true)\n",
      " |-- elapseddays: integer (nullable = true)\n",
      " |-- isbasiceconomy: boolean (nullable = true)\n",
      " |-- isrefundable: boolean (nullable = true)\n",
      " |-- isnonstop: boolean (nullable = true)\n",
      " |-- basefare: decimal(10,2) (nullable = true)\n",
      " |-- totalfare: decimal(10,2) (nullable = true)\n",
      " |-- seatsremaining: integer (nullable = true)\n",
      " |-- totaltraveldistance: string (nullable = true)\n",
      " |-- segmentsdeparturetimeepochseconds: string (nullable = true)\n",
      " |-- segmentsdeparturetimeraw: string (nullable = true)\n",
      " |-- segmentsarrivaltimeepochseconds: string (nullable = true)\n",
      " |-- segmentsarrivaltimeraw: string (nullable = true)\n",
      " |-- segmentsarrivalairportcode: string (nullable = true)\n",
      " |-- segmentsdepartureairportcode: string (nullable = true)\n",
      " |-- segmentsairlinename: string (nullable = true)\n",
      " |-- segmentsairlinecode: string (nullable = true)\n",
      " |-- segmentsequipmentdescription: string (nullable = true)\n",
      " |-- segmentsdurationinseconds: string (nullable = true)\n",
      " |-- segmentsdistance: string (nullable = true)\n",
      " |-- segmentscabincode: string (nullable = true)\n",
      " |-- startingairport: string (nullable = true)\n",
      "\n",
      "+--------------------+----------+----------+------------------+-------------+--------------+-----------+--------------+------------+---------+--------+---------+--------------+-------------------+---------------------------------+------------------------+-------------------------------+----------------------+--------------------------+----------------------------+--------------------+-------------------+----------------------------+-------------------------+----------------+-------------------+---------------+\n",
      "|               legid|searchdate|flightdate|destinationairport|farebasiscode|travelduration|elapseddays|isbasiceconomy|isrefundable|isnonstop|basefare|totalfare|seatsremaining|totaltraveldistance|segmentsdeparturetimeepochseconds|segmentsdeparturetimeraw|segmentsarrivaltimeepochseconds|segmentsarrivaltimeraw|segmentsarrivalairportcode|segmentsdepartureairportcode| segmentsairlinename|segmentsairlinecode|segmentsequipmentdescription|segmentsdurationinseconds|segmentsdistance|  segmentscabincode|startingairport|\n",
      "+--------------------+----------+----------+------------------+-------------+--------------+-----------+--------------+------------+---------+--------+---------+--------------+-------------------+---------------------------------+------------------------+-------------------------------+----------------------+--------------------------+----------------------------+--------------------+-------------------+----------------------------+-------------------------+----------------+-------------------+---------------+\n",
      "|de9486a469ce07e9a...|2022-05-27|2022-07-08|               LAX|     VAA3AHEN|       PT5H59M|          0|         false|       false|     true|  296.74|   333.60|             8|             2458.0|                       1657305300|    2022-07-08T14:35:...|                     1657326840|  2022-07-08T17:34:...|                       LAX|                         EWR|              United|                 UA|              Boeing 757-200|                    21540|            2458|              coach|            EWR|\n",
      "|6f893b03aa382ecb2...|2022-05-26|2022-06-02|               DTW|     GAA7AHDS|      PT11H43M|          1|         false|       false|    false|  174.88|   221.70|             2|              982.0|             1654221780||16542...|    2022-06-02T22:03:...|           1654226580||16542...|  2022-06-02T23:23:...|             BOS||IAD||DTW|               EWR||BOS||IAD|United||United||U...|         UA||UA||UA|        Boeing 737 MAX 8|...|         4800||5880||5460|   185||406||391|coach||coach||coach|            EWR|\n",
      "|87fbea93b02bd1197...|2022-05-27|2022-07-06|               ORD|     TAA2PFDN|       PT11H8M|          1|         false|       false|    false|  217.67|   263.20|             5|              735.0|             1657157340||16571...|    2022-07-06T21:29:...|           1657162860||16571...|  2022-07-06T23:01:...|                  PIT||ORD|                    EWR||PIT|      United||United|             UA||UA|        Embraer 175 (Enha...|               5520||5820|        329||406|       coach||coach|            EWR|\n",
      "|f74a7e91ca89958bc...|2022-05-27|2022-05-31|               MIA|     LA3OA0MQ|          PT5H|          0|         false|       false|    false|  218.60|   258.60|             7|             1358.0|             1654028640||16540...|    2022-05-31T16:24:...|           1654037100||16540...|  2022-05-31T18:45:...|                  ATL||MIA|                    EWR||ATL|        Delta||Delta|             DL||DL|        Boeing 737-900||A...|               8460||6840|        762||596|       coach||coach|            EWR|\n",
      "|630681e1306012bf9...|2022-05-27|2022-06-24|               DEN|        RA3NR|       PT8H23M|          0|         false|       false|    false|  160.00|   267.58|             0|               null|             1656102600||16561...|    2022-06-24T16:30:...|           1656114240||16561...|  2022-06-24T19:44:...|                  FLL||DEN|                    EWR||FLL|Spirit Airlines||...|             NK||NK|        AIRBUS INDUSTRIE ...|             11640||15780|      None||None|       coach||coach|            EWR|\n",
      "|07094dffd93805d46...|2022-05-27|2022-07-09|               SFO|     VH3AUEL1|       PT15H4M|          0|         false|       false|    false|  356.27|   412.19|             7|             2797.0|             1657364100||16574...|    2022-07-09T06:55:...|           1657384560||16574...|  2022-07-09T09:36:...|                  LAX||SFO|                    EWR||LAX|JetBlue Airways||...|             B6||B6|        Airbus A319-321||...|              20460||5040|       2458||339|       coach||coach|            EWR|\n",
      "|7d564d41b7415c9e5...|2022-05-26|2022-06-22|               ORD|     V0AHZNN1|       PT2H40M|          0|         false|       false|     true|  199.07|   228.60|             7|              720.0|                       1655941500|    2022-06-22T19:45:...|                     1655951100|  2022-06-22T21:25:...|                       ORD|                         EWR|   American Airlines|                 AA|              Boeing 737-800|                     9600|             720|              coach|            EWR|\n",
      "|f8a188264dd846349...|2022-05-27|2022-06-28|               SFO|     B0AJZNN1|       PT8H48M|          0|         false|       false|    false|  599.07|   667.60|             7|             2567.0|             1656438900||16564...|    2022-06-28T13:55:...|           1656448140||16564...|  2022-06-28T15:29:...|                  ORD||SFO|                    EWR||ORD|American Airlines...|             AA||AA|        Boeing 737-800||B...|              9240||16080|       720||1847|       coach||coach|            EWR|\n",
      "|60c0faa022edba490...|2022-05-26|2022-05-29|               CLT|     MAA0PFEN|        PT2H1M|          0|         false|       false|     true|  366.51|   408.60|             9|              545.0|                       1653849720|    2022-05-29T14:42:...|                     1653856980|  2022-05-29T16:43:...|                       CLT|                         EWR|              United|                 UA|        Embraer 175 (Enha...|                     7260|             545|              coach|            EWR|\n",
      "|35b92ccb050ee26c7...|2022-05-26|2022-06-03|               SFO|     HAA7JQEN|       PT10H7M|          0|         false|       false|    false|  394.42|   447.60|             1|               null|             1654251240||16542...|    2022-06-03T06:14:...|           1654266360||16542...|  2022-06-03T08:26:...|                  DEN||SFO|                    EWR||DEN|      United||United|             UA||UA|        Airbus A319||Boei...|              15120||9660|      None||None|       coach||coach|            EWR|\n",
      "+--------------------+----------+----------+------------------+-------------+--------------+-----------+--------------+------------+---------+--------+---------+--------------+-------------------+---------------------------------+------------------------+-------------------------------+----------------------+--------------------------+----------------------------+--------------------+-------------------+----------------------------+-------------------------+----------------+-------------------+---------------+\n",
      "only showing top 10 rows\n",
      "\n"
     ]
    }
   ],
   "source": [
    "num_rows = data.count()\n",
    "num_columns = len(data.columns)\n",
    "print(f\"Number of rows: {num_rows}\")\n",
    "print(f\"Number of columns: {num_columns}\")\n",
    "data.printSchema()\n",
    "data.show(10)\n"
   ]
  },
  {
   "cell_type": "markdown",
   "id": "60e05e6d-b953-4dd6-84ae-dbeac729dc76",
   "metadata": {},
   "source": [
    "# Preprocessing the data"
   ]
  },
  {
   "cell_type": "markdown",
   "id": "498ba510-bff6-4e30-93be-cc765a9b68a4",
   "metadata": {},
   "source": [
    "## Feature Selection"
   ]
  },
  {
   "cell_type": "code",
   "execution_count": 7,
   "id": "00984a8d-8516-47b6-891a-85711cb5f210",
   "metadata": {},
   "outputs": [],
   "source": [
    "from pyspark.sql.functions import udf, col, count, when, dayofmonth, month, sin, cos, lit, regexp_extract\n",
    "from pyspark.sql.types import StringType, IntegerType, FloatType\n",
    "import pyspark.sql.functions as F\n",
    "from collections import Counter\n",
    "import re\n",
    "from math import pi\n",
    "\n",
    "\n",
    "# Define user-defined functions for transformations\n",
    "def find_most_frequent(codes):\n",
    "    if codes is None:\n",
    "        return None\n",
    "    codes_list = codes.split('||')\n",
    "    most_common = Counter(codes_list).most_common(1)\n",
    "    return most_common[0][0]\n",
    "\n",
    "def sum_list_val(codes):\n",
    "    if codes is None:\n",
    "        return None\n",
    "    codes_list = str(codes).split('||')\n",
    "    return sum(float(val) for val in codes_list if val != \"None\")\n",
    "\n",
    "def time_parse(duration):\n",
    "    total_minutes = 0\n",
    "    pattern = r\"P(?:(\\d+)D)?T?(?:(\\d+)H)?(?:(\\d+)M)?\"\n",
    "    match = re.match(pattern, duration)\n",
    "    if match:\n",
    "        days, hours, minutes = match.groups()\n",
    "        total_minutes += int(days) * 1440 if days else 0\n",
    "        total_minutes += int(hours) * 60 if hours else 0\n",
    "        total_minutes += int(minutes) if minutes else 0\n",
    "    return total_minutes * 60\n",
    "\n",
    "# Register UDFs\n",
    "find_most_frequent_udf = udf(find_most_frequent, StringType())\n",
    "sum_list_val_udf = udf(sum_list_val, FloatType())\n",
    "time_parse_udf = udf(time_parse, IntegerType())\n",
    "\n",
    "\n"
   ]
  },
  {
   "cell_type": "code",
   "execution_count": 8,
   "id": "27c00177-7c66-4341-9d9f-6ac1089889e6",
   "metadata": {},
   "outputs": [],
   "source": [
    "# Data Cleaning: Drop unnecessary columns\n",
    "#data = data.drop(*columns_to_drop)\n",
    "\n",
    "# Feature Engineering: Apply UDFs, handle nulls, extract date features, and create cyclic features\n",
    "data = data.withColumn(\"segmentsCabinCode\", find_most_frequent_udf(col(\"segmentsCabinCode\")))\n",
    "data = data.withColumn(\"segmentsAirlineCode\", find_most_frequent_udf(col(\"segmentsAirlineCode\")))\n",
    "data = data.withColumn(\"travelDuration\", time_parse_udf(col(\"travelDuration\")))\n",
    "data = data.withColumn(\"segmentsDurationInSeconds\", sum_list_val_udf(col(\"segmentsDurationInSeconds\")))\n",
    "data = data.withColumn(\"totalTravelDistance\", sum_list_val_udf(col(\"segmentsdistance\")))\n",
    "\n",
    "for categorical_col in categorical_columns:\n",
    "    data = data.withColumn(categorical_col, F.when(col(categorical_col).isNull(), \"Unknown\").otherwise(col(categorical_col)))\n",
    "\n",
    "data = data.withColumn(\"flightDate\", col(\"flightDate\").cast(\"date\"))\n",
    "data = data.withColumn(\"month\", month(\"flightDate\"))\n",
    "data = data.withColumn(\"day\", dayofmonth(\"flightDate\"))\n",
    "data = data.withColumn(\"day_sin\", sin((2 * pi * col(\"day\") / 31)))\n",
    "data = data.withColumn(\"day_cos\", cos((2 * pi * col(\"day\") / 31)))\n",
    "data = data.withColumn(\"month_sin\", sin(2 * pi * (col(\"month\") - 1) / 12))\n",
    "data = data.withColumn(\"month_cos\", cos(2 * pi * (col(\"month\") - 1) / 12))\n",
    "\n",
    "data = data.withColumn(\"label\", col(\"baseFare\"))"
   ]
  },
  {
   "cell_type": "code",
   "execution_count": 9,
   "id": "078657b6-8c1e-4898-a569-20f9e361e319",
   "metadata": {},
   "outputs": [
    {
     "name": "stdout",
     "output_type": "stream",
     "text": [
      "+--------------------+----------+----------+------------------+-------------+--------------+-----------+--------------+------------+---------+--------+---------+--------------+-------------------+---------------------------------+------------------------+-------------------------------+----------------------+--------------------------+----------------------------+--------------------+-------------------+----------------------------+-------------------------+----------------+-----------------+---------------+-----+---+--------------+-----------+-------------+----------+------+\n",
      "|               legid|searchdate|flightDate|destinationAirport|farebasiscode|travelDuration|elapseddays|isBasicEconomy|isRefundable|isNonStop|baseFare|totalfare|seatsRemaining|totalTravelDistance|segmentsdeparturetimeepochseconds|segmentsdeparturetimeraw|segmentsarrivaltimeepochseconds|segmentsarrivaltimeraw|segmentsarrivalairportcode|segmentsdepartureairportcode| segmentsairlinename|segmentsAirlineCode|segmentsequipmentdescription|segmentsDurationInSeconds|segmentsdistance|segmentsCabinCode|startingAirport|month|day|       day_sin|    day_cos|    month_sin| month_cos| label|\n",
      "+--------------------+----------+----------+------------------+-------------+--------------+-----------+--------------+------------+---------+--------+---------+--------------+-------------------+---------------------------------+------------------------+-------------------------------+----------------------+--------------------------+----------------------------+--------------------+-------------------+----------------------------+-------------------------+----------------+-----------------+---------------+-----+---+--------------+-----------+-------------+----------+------+\n",
      "|de9486a469ce07e9a...|2022-05-27|2022-07-08|               LAX|     VAA3AHEN|       21540.0|          0|           0.0|         0.0|      1.0|  296.74|   333.60|           8.0|             2458.0|                       1657305300|    2022-07-08T14:35:...|                     1657326840|  2022-07-08T17:34:...|                       LAX|                         EWR|              United|                 UA|              Boeing 757-200|                  21540.0|            2458|            coach|            EWR|    7|  8|    0.99871653|-0.05064917|1.2246469E-16|      -1.0|296.74|\n",
      "|6f893b03aa382ecb2...|2022-05-26|2022-06-02|               DTW|     GAA7AHDS|       42180.0|          1|           0.0|         0.0|      0.0|  174.88|   221.70|           2.0|              982.0|             1654221780||16542...|    2022-06-02T22:03:...|           1654226580||16542...|  2022-06-02T23:23:...|             BOS||IAD||DTW|               EWR||BOS||IAD|United||United||U...|                 UA|        Boeing 737 MAX 8|...|                  16140.0|   185||406||391|            coach|            EWR|    6|  2|    0.39435586|  0.9189578|          0.5|-0.8660254|174.88|\n",
      "|87fbea93b02bd1197...|2022-05-27|2022-07-06|               ORD|     TAA2PFDN|       40080.0|          1|           0.0|         0.0|      0.0|  217.67|   263.20|           5.0|              735.0|             1657157340||16571...|    2022-07-06T21:29:...|           1657162860||16571...|  2022-07-06T23:01:...|                  PIT||ORD|                    EWR||PIT|      United||United|                 UA|        Embraer 175 (Enha...|                  11340.0|        329||406|            coach|            EWR|    7|  6|     0.9377521| 0.34730524|1.2246469E-16|      -1.0|217.67|\n",
      "|f74a7e91ca89958bc...|2022-05-27|2022-05-31|               MIA|     LA3OA0MQ|       18000.0|          0|           0.0|         0.0|      0.0|   218.6|   258.60|           7.0|             1358.0|             1654028640||16540...|    2022-05-31T16:24:...|           1654037100||16540...|  2022-05-31T18:45:...|                  ATL||MIA|                    EWR||ATL|        Delta||Delta|                 DL|        Boeing 737-900||A...|                  15300.0|        762||596|            coach|            EWR|    5| 31|-2.4492937E-16|        1.0|    0.8660254|      -0.5|218.60|\n",
      "|630681e1306012bf9...|2022-05-27|2022-06-24|               DEN|        RA3NR|       30180.0|          0|           0.0|         0.0|      0.0|   160.0|   267.58|           0.0|               null|             1656102600||16561...|    2022-06-24T16:30:...|           1656114240||16561...|  2022-06-24T19:44:...|                  FLL||DEN|                    EWR||FLL|Spirit Airlines||...|                 NK|        AIRBUS INDUSTRIE ...|                  27420.0|      None||None|            coach|            EWR|    6| 24|   -0.98846835| 0.15142778|          0.5|-0.8660254|160.00|\n",
      "|07094dffd93805d46...|2022-05-27|2022-07-09|               SFO|     VH3AUEL1|       54240.0|          0|           0.0|         0.0|      0.0|  356.27|   412.19|           7.0|             2797.0|             1657364100||16574...|    2022-07-09T06:55:...|           1657384560||16574...|  2022-07-09T09:36:...|                  LAX||SFO|                    EWR||LAX|JetBlue Airways||...|                 B6|        Airbus A319-321||...|                  25500.0|       2458||339|            coach|            EWR|    7|  9|     0.9680771|-0.25065252|1.2246469E-16|      -1.0|356.27|\n",
      "|7d564d41b7415c9e5...|2022-05-26|2022-06-22|               ORD|     V0AHZNN1|        9600.0|          0|           0.0|         0.0|      1.0|  199.07|   228.60|           7.0|              720.0|                       1655941500|    2022-06-22T19:45:...|                     1655951100|  2022-06-22T21:25:...|                       ORD|                         EWR|   American Airlines|                 AA|              Boeing 737-800|                   9600.0|             720|            coach|            EWR|    6| 22|    -0.9680771|-0.25065252|          0.5|-0.8660254|199.07|\n",
      "|f8a188264dd846349...|2022-05-27|2022-06-28|               SFO|     B0AJZNN1|       31680.0|          0|           0.0|         0.0|      0.0|  599.07|   667.60|           7.0|             2567.0|             1656438900||16564...|    2022-06-28T13:55:...|           1656448140||16564...|  2022-06-28T15:29:...|                  ORD||SFO|                    EWR||ORD|American Airlines...|                 AA|        Boeing 737-800||B...|                  25320.0|       720||1847|            coach|            EWR|    6| 28|    -0.5712682| 0.82076347|          0.5|-0.8660254|599.07|\n",
      "|60c0faa022edba490...|2022-05-26|2022-05-29|               CLT|     MAA0PFEN|        7260.0|          0|           0.0|         0.0|      1.0|  366.51|   408.60|           9.0|              545.0|                       1653849720|    2022-05-29T14:42:...|                     1653856980|  2022-05-29T16:43:...|                       CLT|                         EWR|              United|                 UA|        Embraer 175 (Enha...|                   7260.0|             545|            coach|            EWR|    5| 29|   -0.39435586|  0.9189578|    0.8660254|      -0.5|366.51|\n",
      "|35b92ccb050ee26c7...|2022-05-26|2022-06-03|               SFO|     HAA7JQEN|       36420.0|          0|           0.0|         0.0|      0.0|  394.42|   447.60|           1.0|               null|             1654251240||16542...|    2022-06-03T06:14:...|           1654266360||16542...|  2022-06-03T08:26:...|                  DEN||SFO|                    EWR||DEN|      United||United|                 UA|        Airbus A319||Boei...|                  24780.0|      None||None|            coach|            EWR|    6|  3|     0.5712682| 0.82076347|          0.5|-0.8660254|394.42|\n",
      "|cca40677e0af4f307...|2022-05-26|2022-06-30|               PHL|     VAA2ADBN|        3060.0|          0|           1.0|         0.0|      1.0|  166.51|   193.60|           9.0|               97.0|                       1656604740|    2022-06-30T11:59:...|                     1656607800|  2022-06-30T12:50:...|                       PHL|                         EWR|              United|                 UA|                 Embraer 170|                   3060.0|              97|            coach|            EWR|    6| 30|   -0.20129852|  0.9795299|          0.5|-0.8660254|166.51|\n",
      "|5ccece8ff092cd4c0...|2022-05-27|2022-06-20|               OAK|     QAVOA0MQ|       32340.0|          0|           0.0|         0.0|      0.0|  506.98|   568.60|           5.0|             2558.0|             1655762040||16557...|    2022-06-20T17:54:...|           1655780880||16557...|  2022-06-20T21:08:...|                  SLC||OAK|                    EWR||SLC|        Delta||Delta|                 DL|        Boeing 737-900||A...|                  25680.0|       1970||588|            coach|            EWR|    6| 20|    -0.7907757|-0.61210597|          0.5|-0.8660254|506.98|\n",
      "|7e9097c58c86e7de0...|2022-05-26|2022-06-17|               CLT|     GVAHZNN1|        7500.0|          0|           0.0|         0.0|      1.0|  189.76|   218.59|           7.0|              545.0|                       1655500800|    2022-06-17T17:20:...|                     1655508300|  2022-06-17T19:25:...|                       CLT|                         EWR|   American Airlines|                 AA|                 Airbus A321|                   7500.0|             545|            coach|            EWR|    6| 17|   -0.29936314|-0.95413923|          0.5|-0.8660254|189.76|\n",
      "|c49607cf82460a972...|2022-05-26|2022-07-08|               DTW|     VUAHZNN1|       23340.0|          0|           0.0|         0.0|      0.0|  250.24|   291.11|           7.0|             1050.0|             1657282440||16572...|    2022-07-08T08:14:...|           1657289700||16573...|  2022-07-08T10:15:...|                  CLT||DTW|                    EWR||CLT|American Airlines...|                 AA|        Airbus A321||Airb...|                  13320.0|        545||505|            coach|            EWR|    7|  8|    0.99871653|-0.05064917|1.2246469E-16|      -1.0|250.24|\n",
      "|9fa3046c8ca488f37...|2022-05-27|2022-06-23|               IAD|     VUAHZNN1|       24900.0|          0|           0.0|         0.0|      0.0|  386.97|   438.09|           7.0|              872.0|             1655992500||16560...|    2022-06-23T09:55:...|           1655999880||16560...|  2022-06-23T11:58:...|                  CLT||IAD|                    EWR||CLT|American Airlines...|                 AA|        Boeing 737-800||C...|                  12480.0|        545||327|            coach|            EWR|    6| 23|   -0.99871653|-0.05064917|          0.5|-0.8660254|386.97|\n",
      "|eb9c5f69f0404bab0...|2022-05-26|2022-07-22|               ORD|     HA3OA0MQ|       14820.0|          0|           0.0|         0.0|      0.0|  376.74|   428.60|           9.0|              725.0|             1658484000||16584...|    2022-07-22T06:00:...|           1658490360||16584...|  2022-07-22T07:46:...|                  DTW||ORD|                    EWR||DTW|        Delta||Delta|                 DL|        Boeing 717||Boein...|                  11940.0|        485||240|            coach|            EWR|    7| 22|    -0.9680771|-0.25065252|1.2246469E-16|      -1.0|376.74|\n",
      "|bb6688ffd1f2bcb46...|2022-05-26|2022-05-29|               CLT|     M0AHZNN1|        7260.0|          0|           0.0|         0.0|      1.0|  366.51|   408.60|           7.0|              545.0|                       1653867000|    2022-05-29T19:30:...|                     1653874260|  2022-05-29T21:31:...|                       CLT|                         EWR|   American Airlines|                 AA|                 Airbus A321|                   7260.0|             545|            coach|            EWR|    5| 29|   -0.39435586|  0.9189578|    0.8660254|      -0.5|366.51|\n",
      "|ac72c9bb28b049cac...|2022-05-27|2022-06-11|               LAX|     K3AZZNN1|       30780.0|          0|           0.0|         0.0|      0.0|  403.72|   457.60|           4.0|             2573.0|             1654970280||16549...|    2022-06-11T13:58:...|           1654983600||16550...|  2022-06-11T16:40:...|                  DFW||ONT|                    EWR||DFW|American Airlines...|                 AA|        Boeing 737-800||A...|                  23880.0|      1380||1193|            coach|            EWR|    6| 11|     0.7907757|-0.61210597|          0.5|-0.8660254|403.72|\n",
      "|3d3862b2d933642a1...|2022-05-27|2022-06-09|               CLT|     UATNA0MQ|       21060.0|          0|           0.0|         0.0|      0.0|  198.13|   236.59|           9.0|              990.0|             1654768800||16547...|    2022-06-09T06:00:...|           1654775460||16547...|  2022-06-09T07:51:...|                  DTW||CLT|                    EWR||DTW|        Delta||Delta|                 DL|        Boeing 717||Boein...|                  13020.0|        485||505|            coach|            EWR|    6|  9|     0.9680771|-0.25065252|          0.5|-0.8660254|198.13|\n",
      "|4bc425180d8d6ec32...|2022-05-25|2022-07-23|               ORD|     VAA0OFEN|        9120.0|          0|           0.0|         0.0|      1.0|  208.37|   238.60|           9.0|              720.0|                       1658590140|    2022-07-23T11:29:...|                     1658599260|  2022-07-23T13:01:...|                       ORD|                         EWR|              United|                 UA|              Boeing 757-200|                   9120.0|             720|            coach|            EWR|    7| 23|   -0.99871653|-0.05064917|1.2246469E-16|      -1.0|208.37|\n",
      "+--------------------+----------+----------+------------------+-------------+--------------+-----------+--------------+------------+---------+--------+---------+--------------+-------------------+---------------------------------+------------------------+-------------------------------+----------------------+--------------------------+----------------------------+--------------------+-------------------+----------------------------+-------------------------+----------------+-----------------+---------------+-----+---+--------------+-----------+-------------+----------+------+\n",
      "only showing top 20 rows\n",
      "\n"
     ]
    }
   ],
   "source": [
    "columns_to_cast = [\"isBasicEconomy\", \"isRefundable\", \"isNonStop\"]\n",
    "\n",
    "# Cast each column to float\n",
    "for column in columns_to_cast:\n",
    "    data = data.withColumn(column, when(data[column] == True, 1).otherwise(0))\n",
    "\n",
    "# Cast string to float where necessary\n",
    "for column in numerical_columns + [\"baseFare\"]:\n",
    "    data = data.withColumn(column, col(column).cast(\"float\"))\n",
    "\n",
    "#data = data.drop(\"flightDate\", \"day\", \"month\")\n",
    "data.show()"
   ]
  },
  {
   "cell_type": "markdown",
   "id": "5a71bafe-c88b-47d2-accc-a9ca27f3a95d",
   "metadata": {},
   "source": [
    "## Building Pipline"
   ]
  },
  {
   "cell_type": "code",
   "execution_count": 10,
   "id": "1389febd-20de-4346-9d16-57dba4cf56bc",
   "metadata": {},
   "outputs": [
    {
     "name": "stdout",
     "output_type": "stream",
     "text": [
      "+--------------------+----------+----------+------------------+-------------+--------------+-----------+--------------+------------+---------+--------+---------+--------------+-------------------+---------------------------------+------------------------+-------------------------------+----------------------+--------------------------+----------------------------+--------------------+-------------------+----------------------------+-------------------------+----------------+-----------------+---------------+-----+---+-----------+-----------+-------------+----------+------+-----------------------+--------------------------+-------------------------+---------------------------+-------------------------------+----------------------------------+---------------------------------+-----------------------------------+-------------------------------+----------------------------------+---------------------------------+-----------------------------------+----------------------+----------------------+--------------------+-----------------+----------------------+---------------------------+---------------------------------+---------------+---------------+-----------------+-----------------+--------------------+--------------------+\n",
      "|               legid|searchdate|flightDate|destinationAirport|farebasiscode|travelDuration|elapseddays|isBasicEconomy|isRefundable|isNonStop|baseFare|totalfare|seatsRemaining|totalTravelDistance|segmentsdeparturetimeepochseconds|segmentsdeparturetimeraw|segmentsarrivaltimeepochseconds|segmentsarrivaltimeraw|segmentsarrivalairportcode|segmentsdepartureairportcode| segmentsairlinename|segmentsAirlineCode|segmentsequipmentdescription|segmentsDurationInSeconds|segmentsdistance|segmentsCabinCode|startingAirport|month|day|    day_sin|    day_cos|    month_sin| month_cos| label|startingAirport_indexed|destinationAirport_indexed|segmentsCabinCode_indexed|segmentsAirlineCode_indexed|startingAirport_indexed_imputed|destinationAirport_indexed_imputed|segmentsCabinCode_indexed_imputed|segmentsAirlineCode_indexed_imputed|startingAirport_indexed_encoded|destinationAirport_indexed_encoded|segmentsCabinCode_indexed_encoded|segmentsAirlineCode_indexed_encoded|travelDuration_imputed|isBasicEconomy_imputed|isRefundable_imputed|isNonStop_imputed|seatsRemaining_imputed|totalTravelDistance_imputed|segmentsDurationInSeconds_imputed|day_sin_imputed|day_cos_imputed|month_sin_imputed|month_cos_imputed|   nonscaledfeatures|            features|\n",
      "+--------------------+----------+----------+------------------+-------------+--------------+-----------+--------------+------------+---------+--------+---------+--------------+-------------------+---------------------------------+------------------------+-------------------------------+----------------------+--------------------------+----------------------------+--------------------+-------------------+----------------------------+-------------------------+----------------+-----------------+---------------+-----+---+-----------+-----------+-------------+----------+------+-----------------------+--------------------------+-------------------------+---------------------------+-------------------------------+----------------------------------+---------------------------------+-----------------------------------+-------------------------------+----------------------------------+---------------------------------+-----------------------------------+----------------------+----------------------+--------------------+-----------------+----------------------+---------------------------+---------------------------------+---------------+---------------+-----------------+-----------------+--------------------+--------------------+\n",
      "|595458371d52abfed...|2022-05-26|2022-06-22|               BOS|     BA0OA0MQ|       33180.0|          0|           0.0|         0.0|      0.0|  571.16|   637.60|           3.0|             2643.0|             1655902800||16559...|    2022-06-22T06:00:...|           1655923260||16559...|  2022-06-22T14:41:...|                  JFK||BOS|                    LAX||JFK|        Delta||Delta|                 DL|        Boeing 767||Embra...|                  26640.0|       2458||185|            coach|            LAX|    6| 22| -0.9680771|-0.25065252|          0.5|-0.8660254|571.16|                    0.0|                       3.0|                      0.0|                        2.0|                            0.0|                               3.0|                              0.0|                                2.0|                 (15,[0],[1.0])|                    (15,[3],[1.0])|                    (3,[0],[1.0])|                     (13,[2],[1.0])|               33180.0|                   0.0|                 0.0|              0.0|                   3.0|                     2643.0|                          26640.0|     -0.9680771|    -0.25065252|              0.5|       -0.8660254|(57,[0,18,30,35,4...|(57,[0,18,30,35,4...|\n",
      "|ee805f9d7b4b0806b...|2022-05-27|2022-06-11|               JFK|     B3AJZNN1|       34140.0|          0|           0.0|         0.0|      0.0|  539.53|   603.60|           7.0|             2618.0|             1654956000||16549...|    2022-06-11T07:00:...|           1654967820||16549...|  2022-06-11T12:17:...|                  DFW||JFK|                    LAX||DFW|American Airlines...|                 AA|            ||Boeing 737-800|                  25320.0|      1238||1380|            coach|            LAX|    6| 11|  0.7907757|-0.61210597|          0.5|-0.8660254|539.53|                    0.0|                      12.0|                      0.0|                        0.0|                            0.0|                              12.0|                              0.0|                                0.0|                 (15,[0],[1.0])|                   (15,[12],[1.0])|                    (3,[0],[1.0])|                     (13,[0],[1.0])|               34140.0|                   0.0|                 0.0|              0.0|                   7.0|                     2618.0|                          25320.0|      0.7907757|    -0.61210597|              0.5|       -0.8660254|(57,[0,27,30,33,4...|(57,[0,27,30,33,4...|\n",
      "|233436e862bec8cc6...|2022-05-26|2022-06-07|               DEN|     UATOA0MQ|       15540.0|          0|           0.0|         0.0|      0.0|  152.56|   187.60|           4.0|              970.0|             1654605900||16546...|    2022-06-07T05:45:...|           1654613280||16546...|  2022-06-07T08:48:...|                  SLC||DEN|                    LAX||SLC|        Delta||Delta|                 DL|        Airbus A321||Boei...|                  13020.0|        590||380|            coach|            LAX|    6|  7| 0.98846835| 0.15142778|          0.5|-0.8660254|152.56|                    0.0|                      10.0|                      0.0|                        2.0|                            0.0|                              10.0|                              0.0|                                2.0|                 (15,[0],[1.0])|                   (15,[10],[1.0])|                    (3,[0],[1.0])|                     (13,[2],[1.0])|               15540.0|                   0.0|                 0.0|              0.0|                   4.0|                      970.0|                          13020.0|     0.98846835|     0.15142778|              0.5|       -0.8660254|(57,[0,25,30,35,4...|(57,[0,25,30,35,4...|\n",
      "|6df4101181b54e4bf...|2022-05-26|2022-06-28|               LGA|     K3AZZNN1|       24540.0|          0|           0.0|         0.0|      0.0|  394.42|   447.60|           7.0|             2516.0|             1656447540||16564...|    2022-06-28T13:19:...|           1656466200||16564...|  2022-06-28T21:30:...|                  DCA||LGA|                    LAX||DCA|American Airlines...|                 AA|               ||Airbus A319|                  22740.0|       2295||221|            coach|            LAX|    6| 28| -0.5712682| 0.82076347|          0.5|-0.8660254|394.42|                    0.0|                       1.0|                      0.0|                        0.0|                            0.0|                               1.0|                              0.0|                                0.0|                 (15,[0],[1.0])|                    (15,[1],[1.0])|                    (3,[0],[1.0])|                     (13,[0],[1.0])|               24540.0|                   0.0|                 0.0|              0.0|                   7.0|                     2516.0|                          22740.0|     -0.5712682|     0.82076347|              0.5|       -0.8660254|(57,[0,16,30,33,4...|(57,[0,16,30,33,4...|\n",
      "|c244607af102dc3a8...|2022-05-27|2022-06-17|               BOS|     UL4AUEL1|       62700.0|          1|           0.0|         0.0|      0.0|  373.97|   441.32|           7.0|             2745.0|             1655506620||16555...|    2022-06-17T15:57:...|           1655513580||16555...|  2022-06-17T18:53:...|             SLC||JFK||BOS|               LAX||SLC||JFK|JetBlue Airways||...|                 B6|        Airbus A320||Airb...|                  26880.0|  590||1970||185|            coach|            LAX|    6| 17|-0.29936314|-0.95413923|          0.5|-0.8660254|373.97|                    0.0|                       3.0|                      0.0|                        3.0|                            0.0|                               3.0|                              0.0|                                3.0|                 (15,[0],[1.0])|                    (15,[3],[1.0])|                    (3,[0],[1.0])|                     (13,[3],[1.0])|               62700.0|                   0.0|                 0.0|              0.0|                   7.0|                     2745.0|                          26880.0|    -0.29936314|    -0.95413923|              0.5|       -0.8660254|(57,[0,18,30,36,4...|(57,[0,18,30,36,4...|\n",
      "|b70de7d27222ab779...|2022-05-27|2022-06-10|               ATL|     HAUOA0MQ|       15900.0|          0|           0.0|         0.0|      1.0|  468.84|   518.60|           2.0|             1943.0|                       1654896300|    2022-06-10T14:25:...|                     1654912200|  2022-06-10T21:50:...|                       ATL|                         LAX|               Delta|                 DL|                 Airbus A321|                  15900.0|            1943|            coach|            LAX|    6| 10| 0.89780456|-0.44039416|          0.5|-0.8660254|468.84|                    0.0|                       7.0|                      0.0|                        2.0|                            0.0|                               7.0|                              0.0|                                2.0|                 (15,[0],[1.0])|                    (15,[7],[1.0])|                    (3,[0],[1.0])|                     (13,[2],[1.0])|               15900.0|                   0.0|                 0.0|              1.0|                   2.0|                     1943.0|                          15900.0|     0.89780456|    -0.44039416|              0.5|       -0.8660254|(57,[0,22,30,35,4...|(57,[0,22,30,35,4...|\n",
      "|4e3cb16d99fa35055...|2022-05-27|2022-06-14|               JFK|     QH0JUEL1|       20220.0|          0|           0.0|         0.0|      1.0|  380.47|   423.61|           7.0|             2458.0|                       1655235000|    2022-06-14T12:30:...|                     1655255220|  2022-06-14T21:07:...|                       JFK|                         LAX|     JetBlue Airways|                 B6|             Airbus A319-321|                  20220.0|            2458|            coach|            LAX|    6| 14| 0.29936314|-0.95413923|          0.5|-0.8660254|380.47|                    0.0|                      12.0|                      0.0|                        3.0|                            0.0|                              12.0|                              0.0|                                3.0|                 (15,[0],[1.0])|                   (15,[12],[1.0])|                    (3,[0],[1.0])|                     (13,[3],[1.0])|               20220.0|                   0.0|                 0.0|              1.0|                   7.0|                     2458.0|                          20220.0|     0.29936314|    -0.95413923|              0.5|       -0.8660254|(57,[0,27,30,36,4...|(57,[0,27,30,36,4...|\n",
      "|946c70a0e373c86bf...|2022-05-27|2022-07-08|               SFO|     VAA0JKEN|        5280.0|          0|           0.0|         0.0|      1.0|  155.35|   181.60|           2.0|              364.0|                       1657302600|    2022-07-08T10:50:...|                     1657307880|  2022-07-08T12:18:...|                       SFO|                         ONT|              United|                 UA|        Canadair Regional...|                   5280.0|             364|            coach|            LAX|    7|  8| 0.99871653|-0.05064917|1.2246469E-16|      -1.0|155.35|                    0.0|                       5.0|                      0.0|                        1.0|                            0.0|                               5.0|                              0.0|                                1.0|                 (15,[0],[1.0])|                    (15,[5],[1.0])|                    (3,[0],[1.0])|                     (13,[1],[1.0])|                5280.0|                   0.0|                 0.0|              1.0|                   2.0|                      364.0|                           5280.0|     0.99871653|    -0.05064917|    1.2246469E-16|             -1.0|(57,[0,20,30,34,4...|(57,[0,20,30,34,4...|\n",
      "|6f005b4d683c9e299...|2022-05-26|2022-07-02|               PHL|     QAA3AKEN|       27840.0|          1|           0.0|         0.0|      0.0|   480.0|   539.60|           9.0|             2417.0|             1656831300||16568...|    2022-07-02T23:55:...|           1656846420||16568...|  2022-07-03T06:07:...|                  ORD||PHL|                    LAX||ORD|      United||United|                 UA|        Boeing 737-900||A...|                  22740.0|       1745||672|            coach|            LAX|    7|  2| 0.39435586|  0.9189578|1.2246469E-16|      -1.0|480.00|                    0.0|                       9.0|                      0.0|                        1.0|                            0.0|                               9.0|                              0.0|                                1.0|                 (15,[0],[1.0])|                    (15,[9],[1.0])|                    (3,[0],[1.0])|                     (13,[1],[1.0])|               27840.0|                   0.0|                 0.0|              0.0|                   9.0|                     2417.0|                          22740.0|     0.39435586|      0.9189578|    1.2246469E-16|             -1.0|(57,[0,24,30,34,4...|(57,[0,24,30,34,4...|\n",
      "|6f005b4d683c9e299...|2022-05-26|2022-07-02|               PHL|     QAA3AKEN|       27840.0|          1|           0.0|         0.0|      0.0|   480.0|   539.60|           9.0|             2417.0|             1656831300||16568...|    2022-07-02T23:55:...|           1656846420||16568...|  2022-07-03T06:07:...|                  ORD||PHL|                    LAX||ORD|      United||United|                 UA|        Boeing 737-900||A...|                  22740.0|       1745||672|            coach|            LAX|    7|  2| 0.39435586|  0.9189578|1.2246469E-16|      -1.0|480.00|                    0.0|                       9.0|                      0.0|                        1.0|                            0.0|                               9.0|                              0.0|                                1.0|                 (15,[0],[1.0])|                    (15,[9],[1.0])|                    (3,[0],[1.0])|                     (13,[1],[1.0])|               27840.0|                   0.0|                 0.0|              0.0|                   9.0|                     2417.0|                          22740.0|     0.39435586|      0.9189578|    1.2246469E-16|             -1.0|(57,[0,24,30,34,4...|(57,[0,24,30,34,4...|\n",
      "|99b260ad7cbc4ffa1...|2022-05-26|2022-07-08|               LGA|     QAA3AKEN|       35100.0|          0|           0.0|         0.0|      0.0|  439.07|   495.60|           9.0|             2465.0|             1657294500||16573...|    2022-07-08T08:35:...|           1657309920||16573...|  2022-07-08T14:52:...|                  ORD||LGA|                    LAX||ORD|      United||United|                 UA|        Boeing 737 MAX 9|...|                  24120.0|       1745||720|            coach|            LAX|    7|  8| 0.99871653|-0.05064917|1.2246469E-16|      -1.0|439.07|                    0.0|                       1.0|                      0.0|                        1.0|                            0.0|                               1.0|                              0.0|                                1.0|                 (15,[0],[1.0])|                    (15,[1],[1.0])|                    (3,[0],[1.0])|                     (13,[1],[1.0])|               35100.0|                   0.0|                 0.0|              0.0|                   9.0|                     2465.0|                          24120.0|     0.99871653|    -0.05064917|    1.2246469E-16|             -1.0|(57,[0,16,30,34,4...|(57,[0,16,30,34,4...|\n",
      "|7105c672c7fc7c988...|2022-05-26|2022-06-07|               BOS|     YH0KUEY5|       20220.0|          0|           0.0|         0.0|      1.0|  637.91|   700.35|           7.0|             2606.0|                       1654610400|    2022-06-07T07:00:...|                     1654630620|  2022-06-07T15:37:...|                       BOS|                         LAX|   American Airlines|                 AA|                 Airbus A321|                  20220.0|            2606|            coach|            LAX|    6|  7| 0.98846835| 0.15142778|          0.5|-0.8660254|637.91|                    0.0|                       3.0|                      0.0|                        0.0|                            0.0|                               3.0|                              0.0|                                0.0|                 (15,[0],[1.0])|                    (15,[3],[1.0])|                    (3,[0],[1.0])|                     (13,[0],[1.0])|               20220.0|                   0.0|                 0.0|              1.0|                   7.0|                     2606.0|                          20220.0|     0.98846835|     0.15142778|              0.5|       -0.8660254|(57,[0,18,30,33,4...|(57,[0,18,30,33,4...|\n",
      "|12801ddbb2c301e60...|2022-05-27|2022-06-06|               EWR|     G0AIZNN1|       38100.0|          1|           0.0|         0.0|      0.0|  444.65|   506.10|           7.0|             2627.0|             1654561440||16545...|    2022-06-06T17:24:...|           1654565880||16545...|  2022-06-06T18:38:...|             LAS||PHX||EWR|               LAX||LAS||PHX|American Airlines...|                 AA|        Airbus A321||Airb...|                  26100.0|  241||247||2139|            coach|            LAX|    6|  6|  0.9377521| 0.34730524|          0.5|-0.8660254|444.65|                    0.0|                      13.0|                      0.0|                        0.0|                            0.0|                              13.0|                              0.0|                                0.0|                 (15,[0],[1.0])|                   (15,[13],[1.0])|                    (3,[0],[1.0])|                     (13,[0],[1.0])|               38100.0|                   0.0|                 0.0|              0.0|                   7.0|                     2627.0|                          26100.0|      0.9377521|     0.34730524|              0.5|       -0.8660254|(57,[0,28,30,33,4...|(57,[0,28,30,33,4...|\n",
      "|bbb7e0a1365f54c47...|2022-05-26|2022-07-19|               BOS|     WH7AUEL1|       29400.0|          1|           0.0|         0.0|      0.0|  271.63|   315.60|           7.0|             2643.0|             1658300100||16583...|    2022-07-19T23:55:...|           1658320440||16583...|  2022-07-20T08:34:...|                  EWR||BOS|                    LAX||EWR|JetBlue Airways||...|                 B6|        Airbus A319-321||...|                  25680.0|       2458||185|            coach|            LAX|    7| 19| -0.6513725| -0.7587581|1.2246469E-16|      -1.0|271.63|                    0.0|                       3.0|                      0.0|                        3.0|                            0.0|                               3.0|                              0.0|                                3.0|                 (15,[0],[1.0])|                    (15,[3],[1.0])|                    (3,[0],[1.0])|                     (13,[3],[1.0])|               29400.0|                   0.0|                 0.0|              0.0|                   7.0|                     2643.0|                          25680.0|     -0.6513725|     -0.7587581|    1.2246469E-16|             -1.0|(57,[0,18,30,36,4...|(57,[0,18,30,36,4...|\n",
      "|e7cfdfd3785f5456a...|2022-05-26|2022-07-23|               DEN|     KA0NA0MQ|        9180.0|          0|           0.0|         0.0|      1.0|  237.21|   269.60|           5.0|              848.0|                       1658613600|    2022-07-23T15:00:...|                     1658622780|  2022-07-23T18:33:...|                       DEN|                         LAX|               Delta|                 DL|        Embraer 175 (Enha...|                   9180.0|             848|            coach|            LAX|    7| 23|-0.99871653|-0.05064917|1.2246469E-16|      -1.0|237.21|                    0.0|                      10.0|                      0.0|                        2.0|                            0.0|                              10.0|                              0.0|                                2.0|                 (15,[0],[1.0])|                   (15,[10],[1.0])|                    (3,[0],[1.0])|                     (13,[2],[1.0])|                9180.0|                   0.0|                 0.0|              1.0|                   5.0|                      848.0|                           9180.0|    -0.99871653|    -0.05064917|    1.2246469E-16|             -1.0|(57,[0,25,30,35,4...|(57,[0,25,30,35,4...|\n",
      "|adce30247ae5364ff...|2022-05-26|2022-07-01|               LGA|     KH0PUEL1|       33780.0|          1|           0.0|         0.0|      0.0|  631.11|   702.04|           7.0|             2995.0|             1656738420||16567...|    2022-07-01T22:07:...|           1656755220||16567...|  2022-07-02T05:47:...|                  JAX||LGA|                    LAX||JAX|JetBlue Airways||...|                 B6|        Airbus A320||Airb...|                  24960.0|       2153||842|            coach|            LAX|    7|  1| 0.20129852|  0.9795299|1.2246469E-16|      -1.0|631.11|                    0.0|                       1.0|                      0.0|                        3.0|                            0.0|                               1.0|                              0.0|                                3.0|                 (15,[0],[1.0])|                    (15,[1],[1.0])|                    (3,[0],[1.0])|                     (13,[3],[1.0])|               33780.0|                   0.0|                 0.0|              0.0|                   7.0|                     2995.0|                          24960.0|     0.20129852|      0.9795299|    1.2246469E-16|             -1.0|(57,[0,16,30,36,4...|(57,[0,16,30,36,4...|\n",
      "|25733a360f569fe3c...|2022-05-27|2022-07-08|               ORD|     BA0OA0MC|       24660.0|          0|           0.0|         0.0|      0.0|   581.4|   648.61|           9.0|             1875.0|             1657285200||16573...|    2022-07-08T06:00:...|           1657298160||16573...|  2022-07-08T11:36:...|                  MSP||ORD|                    LAX||MSP|        Delta||Delta|                 DL|        Airbus A321||Cana...|                  18780.0|       1534||341|            coach|            LAX|    7|  8| 0.99871653|-0.05064917|1.2246469E-16|      -1.0|581.40|                    0.0|                       4.0|                      0.0|                        2.0|                            0.0|                               4.0|                              0.0|                                2.0|                 (15,[0],[1.0])|                    (15,[4],[1.0])|                    (3,[0],[1.0])|                     (13,[2],[1.0])|               24660.0|                   0.0|                 0.0|              0.0|                   9.0|                     1875.0|                          18780.0|     0.99871653|    -0.05064917|    1.2246469E-16|             -1.0|(57,[0,19,30,35,4...|(57,[0,19,30,35,4...|\n",
      "|5e4a0eafdd000ad0c...|2022-05-27|2022-06-25|               MIA|     LAVOA0MQ|       50700.0|          0|           0.0|         0.0|      0.0|  467.91|   532.20|           4.0|             3037.0|             1656162000||16561...|    2022-06-25T06:00:...|           1656175020||16562...|  2022-06-25T11:37:...|                  MSP||MIA|                    LAX||MSP|        Delta||Delta|                 DL|        Airbus A321||Airb...|                  26160.0|      1534||1503|            coach|            LAX|    6| 25| -0.9377521| 0.34730524|          0.5|-0.8660254|467.91|                    0.0|                       8.0|                      0.0|                        2.0|                            0.0|                               8.0|                              0.0|                                2.0|                 (15,[0],[1.0])|                    (15,[8],[1.0])|                    (3,[0],[1.0])|                     (13,[2],[1.0])|               50700.0|                   0.0|                 0.0|              0.0|                   4.0|                     3037.0|                          26160.0|     -0.9377521|     0.34730524|              0.5|       -0.8660254|(57,[0,23,30,35,4...|(57,[0,23,30,35,4...|\n",
      "|87e460a801bb5a470...|2022-05-27|2022-06-20|               EWR|     G0AIZNN1|       35340.0|          1|           0.0|         0.0|      0.0|  309.77|   356.60|           7.0|             2509.0|             1655773800||16557...|    2022-06-20T18:10:...|           1655779200||16558...|  2022-06-20T19:40:...|                  PHX||EWR|                    LAX||PHX|American Airlines...|                 AA|        Airbus A320||Airb...|                  22800.0|       370||2139|            coach|            LAX|    6| 20| -0.7907757|-0.61210597|          0.5|-0.8660254|309.77|                    0.0|                      13.0|                      0.0|                        0.0|                            0.0|                              13.0|                              0.0|                                0.0|                 (15,[0],[1.0])|                   (15,[13],[1.0])|                    (3,[0],[1.0])|                     (13,[0],[1.0])|               35340.0|                   0.0|                 0.0|              0.0|                   7.0|                     2509.0|                          22800.0|     -0.7907757|    -0.61210597|              0.5|       -0.8660254|(57,[0,28,30,33,4...|(57,[0,28,30,33,4...|\n",
      "|f6817ba815663ce1e...|2022-05-26|2022-07-03|               DTW|     K0AZZNN1|       28380.0|          1|           0.0|         0.0|      0.0|  506.98|   567.10|           7.0|             2581.0|             1656912300||16569...|    2022-07-03T22:25:...|           1656929040||16569...|  2022-07-04T06:04:...|                  CLT||DTW|                    ONT||CLT|American Airlines...|                 AA|        Boeing 737-800||B...|                  23100.0|       2076||505|            coach|            LAX|    7|  3|  0.5712682| 0.82076347|1.2246469E-16|      -1.0|506.98|                    0.0|                      11.0|                      0.0|                        0.0|                            0.0|                              11.0|                              0.0|                                0.0|                 (15,[0],[1.0])|                   (15,[11],[1.0])|                    (3,[0],[1.0])|                     (13,[0],[1.0])|               28380.0|                   0.0|                 0.0|              0.0|                   7.0|                     2581.0|                          23100.0|      0.5712682|     0.82076347|    1.2246469E-16|             -1.0|(57,[0,26,30,33,4...|(57,[0,26,30,33,4...|\n",
      "+--------------------+----------+----------+------------------+-------------+--------------+-----------+--------------+------------+---------+--------+---------+--------------+-------------------+---------------------------------+------------------------+-------------------------------+----------------------+--------------------------+----------------------------+--------------------+-------------------+----------------------------+-------------------------+----------------+-----------------+---------------+-----+---+-----------+-----------+-------------+----------+------+-----------------------+--------------------------+-------------------------+---------------------------+-------------------------------+----------------------------------+---------------------------------+-----------------------------------+-------------------------------+----------------------------------+---------------------------------+-----------------------------------+----------------------+----------------------+--------------------+-----------------+----------------------+---------------------------+---------------------------------+---------------+---------------+-----------------+-----------------+--------------------+--------------------+\n",
      "only showing top 20 rows\n",
      "\n"
     ]
    }
   ],
   "source": [
    "from pyspark.ml import Pipeline\n",
    "from pyspark.ml.feature import StringIndexer, OneHotEncoder, VectorAssembler, StandardScaler, Imputer\n",
    "\n",
    "# Set up the ML pipeline\n",
    "indexers = [StringIndexer(inputCol=c,\n",
    "                          outputCol=\"{0}_indexed\".format(c), handleInvalid='keep') for c in categorical_columns]\n",
    "\n",
    "cat_imputers = [Imputer(inputCol=indexer.getOutputCol(),\n",
    "                        outputCol=\"{0}_imputed\".format(indexer.getOutputCol()), strategy=\"mode\") for indexer in indexers]\n",
    "\n",
    "encoders = [OneHotEncoder(inputCol=imputer.getOutputCol(),\n",
    "                          outputCol=\"{0}_encoded\".format(imputer.getInputCol())) for imputer in cat_imputers]\n",
    "\n",
    "num_imputer = Imputer(inputCols=numerical_columns,\n",
    "                      outputCols=[\"{0}_imputed\".format(c) for c in numerical_columns], strategy=\"mean\")\n",
    "\n",
    "assemblerInputs = [encoder.getOutputCol() for encoder in encoders] + [\"{0}_imputed\".format(c) for c in numerical_columns]\n",
    "\n",
    "assembler = VectorAssembler(inputCols=assemblerInputs, outputCol=\"nonscaledfeatures\")\n",
    "\n",
    "scaler = StandardScaler(inputCol=\"nonscaledfeatures\", outputCol=\"features\")\n",
    "\n",
    "pipeline = Pipeline(stages=indexers + cat_imputers + encoders + [num_imputer, assembler, scaler])\n",
    "\n",
    "model = pipeline.fit(data)\n",
    "\n",
    "transformed_data = model.transform(data)\n",
    "\n",
    "transformed_data.show()"
   ]
  },
  {
   "cell_type": "code",
   "execution_count": 11,
   "id": "171d0339-8373-4ce9-a946-c88b3dcc07ea",
   "metadata": {},
   "outputs": [
    {
     "name": "stdout",
     "output_type": "stream",
     "text": [
      "+-----+----------+----------+------------------+-------------+--------------+-----------+--------------+------------+---------+--------+---------+--------------+-------------------+---------------------------------+------------------------+-------------------------------+----------------------+--------------------------+----------------------------+-------------------+-------------------+----------------------------+-------------------------+----------------+-----------------+---------------+-----+---+-------+-------+---------+---------+-----+\n",
      "|legid|searchdate|flightDate|destinationAirport|farebasiscode|travelDuration|elapseddays|isBasicEconomy|isRefundable|isNonStop|baseFare|totalfare|seatsRemaining|totalTravelDistance|segmentsdeparturetimeepochseconds|segmentsdeparturetimeraw|segmentsarrivaltimeepochseconds|segmentsarrivaltimeraw|segmentsarrivalairportcode|segmentsdepartureairportcode|segmentsairlinename|segmentsAirlineCode|segmentsequipmentdescription|segmentsDurationInSeconds|segmentsdistance|segmentsCabinCode|startingAirport|month|day|day_sin|day_cos|month_sin|month_cos|label|\n",
      "+-----+----------+----------+------------------+-------------+--------------+-----------+--------------+------------+---------+--------+---------+--------------+-------------------+---------------------------------+------------------------+-------------------------------+----------------------+--------------------------+----------------------------+-------------------+-------------------+----------------------------+-------------------------+----------------+-----------------+---------------+-----+---+-------+-------+---------+---------+-----+\n",
      "|    0|         0|         0|                 0|            0|             0|          0|             0|           0|        0|       0|        0|             0|             304169|                                0|                       0|                              0|                     0|                         0|                           0|                  0|                  0|                       77971|                        0|           42735|                0|              0|    0|  0|      0|      0|        0|        0|    0|\n",
      "+-----+----------+----------+------------------+-------------+--------------+-----------+--------------+------------+---------+--------+---------+--------------+-------------------+---------------------------------+------------------------+-------------------------------+----------------------+--------------------------+----------------------------+-------------------+-------------------+----------------------------+-------------------------+----------------+-----------------+---------------+-----+---+-------+-------+---------+---------+-----+\n",
      "\n"
     ]
    }
   ],
   "source": [
    "# Show null values\n",
    "transformed_data.select([count(when(col(c).isNull(), c)).alias(c) for c in data.columns]).show()"
   ]
  },
  {
   "cell_type": "markdown",
   "id": "c4fd3df2-8f31-42ed-8f0f-7dfcb795a5e8",
   "metadata": {},
   "source": [
    "# Split the dataset"
   ]
  },
  {
   "cell_type": "code",
   "execution_count": 12,
   "id": "71ca00fb-a991-47d0-8d09-75e5604ed694",
   "metadata": {},
   "outputs": [
    {
     "data": {
      "text/plain": [
       "''"
      ]
     },
     "execution_count": 12,
     "metadata": {},
     "output_type": "execute_result"
    }
   ],
   "source": [
    "#  split the data into 60% training and 40% test (it is not stratified)\n",
    "(train_data, test_data) = transformed_data.randomSplit([0.7, 0.3], seed = 10)\n",
    "\n",
    "def run(command):\n",
    "    import os\n",
    "    return os.popen(command).read()\n",
    "\n",
    "train_data.select(\"features\", \"label\")\\\n",
    "    .coalesce(1)\\\n",
    "    .write\\\n",
    "    .mode(\"overwrite\")\\\n",
    "    .format(\"json\")\\\n",
    "    .save(\"project/data/train\")\n",
    "\n",
    "# Run it from root directory of the repository\n",
    "run(\"hdfs dfs -cat project/data/train/*.json > data/train.json\")\n",
    "\n",
    "test_data.select(\"features\", \"label\")\\\n",
    "    .coalesce(1)\\\n",
    "    .write\\\n",
    "    .mode(\"overwrite\")\\\n",
    "    .format(\"json\")\\\n",
    "    .save(\"project/data/test\")\n",
    "\n",
    "# Run it from root directory of the repository\n",
    "run(\"hdfs dfs -cat project/data/test/*.json > data/test.json\")"
   ]
  },
  {
   "cell_type": "markdown",
   "id": "12fecd52-189d-45af-841c-47819b311918",
   "metadata": {},
   "source": [
    "# First model"
   ]
  },
  {
   "cell_type": "markdown",
   "id": "6daffa79-5f41-4e78-aa1a-c914f8b3f1f5",
   "metadata": {},
   "source": [
    "## Build a model"
   ]
  },
  {
   "cell_type": "code",
   "execution_count": 13,
   "id": "9892ef1c-f7c4-4acd-8d7d-5630f0823c0c",
   "metadata": {},
   "outputs": [],
   "source": [
    "from pyspark.ml.regression import GBTRegressor\n",
    "\n",
    "# Train a GBT model.\n",
    "gbt = GBTRegressor(featuresCol=\"features\", maxIter=10)\n",
    "\n",
    "\n",
    "# Fit the data to the pipeline stages\n",
    "model_gbt = gbt.fit(train_data)"
   ]
  },
  {
   "cell_type": "markdown",
   "id": "258b1396-77d4-4dd8-8777-d0e6fcbd629f",
   "metadata": {},
   "source": [
    "## Predict for test data"
   ]
  },
  {
   "cell_type": "code",
   "execution_count": 14,
   "id": "b9a0f1ff-a175-4e00-ac1b-a5476dd7dd19",
   "metadata": {},
   "outputs": [
    {
     "name": "stdout",
     "output_type": "stream",
     "text": [
      "+--------------------+----------+----------+------------------+-------------+--------------+-----------+--------------+------------+---------+--------+---------+--------------+-------------------+---------------------------------+------------------------+-------------------------------+----------------------+--------------------------+----------------------------+--------------------+-------------------+----------------------------+-------------------------+----------------+-----------------+---------------+-----+---+-----------+-----------+-------------+------------+------+-----------------------+--------------------------+-------------------------+---------------------------+-------------------------------+----------------------------------+---------------------------------+-----------------------------------+-------------------------------+----------------------------------+---------------------------------+-----------------------------------+----------------------+----------------------+--------------------+-----------------+----------------------+---------------------------+---------------------------------+---------------+---------------+-----------------+-----------------+--------------------+--------------------+------------------+\n",
      "|               legid|searchdate|flightDate|destinationAirport|farebasiscode|travelDuration|elapseddays|isBasicEconomy|isRefundable|isNonStop|baseFare|totalfare|seatsRemaining|totalTravelDistance|segmentsdeparturetimeepochseconds|segmentsdeparturetimeraw|segmentsarrivaltimeepochseconds|segmentsarrivaltimeraw|segmentsarrivalairportcode|segmentsdepartureairportcode| segmentsairlinename|segmentsAirlineCode|segmentsequipmentdescription|segmentsDurationInSeconds|segmentsdistance|segmentsCabinCode|startingAirport|month|day|    day_sin|    day_cos|    month_sin|   month_cos| label|startingAirport_indexed|destinationAirport_indexed|segmentsCabinCode_indexed|segmentsAirlineCode_indexed|startingAirport_indexed_imputed|destinationAirport_indexed_imputed|segmentsCabinCode_indexed_imputed|segmentsAirlineCode_indexed_imputed|startingAirport_indexed_encoded|destinationAirport_indexed_encoded|segmentsCabinCode_indexed_encoded|segmentsAirlineCode_indexed_encoded|travelDuration_imputed|isBasicEconomy_imputed|isRefundable_imputed|isNonStop_imputed|seatsRemaining_imputed|totalTravelDistance_imputed|segmentsDurationInSeconds_imputed|day_sin_imputed|day_cos_imputed|month_sin_imputed|month_cos_imputed|   nonscaledfeatures|            features|        prediction|\n",
      "+--------------------+----------+----------+------------------+-------------+--------------+-----------+--------------+------------+---------+--------+---------+--------------+-------------------+---------------------------------+------------------------+-------------------------------+----------------------+--------------------------+----------------------------+--------------------+-------------------+----------------------------+-------------------------+----------------+-----------------+---------------+-----+---+-----------+-----------+-------------+------------+------+-----------------------+--------------------------+-------------------------+---------------------------+-------------------------------+----------------------------------+---------------------------------+-----------------------------------+-------------------------------+----------------------------------+---------------------------------+-----------------------------------+----------------------+----------------------+--------------------+-----------------+----------------------+---------------------------+---------------------------------+---------------+---------------+-----------------+-----------------+--------------------+--------------------+------------------+\n",
      "|000f29e6b05ffdeff...|2022-04-22|2022-04-26|               IAD|     KA0NA0MQ|       17700.0|          0|           0.0|         0.0|      0.0|  351.63|   401.60|           1.0|             1137.0|             1650982800||16509...|    2022-04-26T10:20:...|           1650989760||16510...|  2022-04-26T12:16:...|                  ATL||IAD|                    MIA||ATL|       Delta||United|                 DL|        Boeing 737-900||E...|                  13620.0|        596||541|            coach|            MIA|    4| 26|-0.84864426|   0.528964|          1.0|6.123234E-17|351.63|                    8.0|                      15.0|                      0.0|                        2.0|                            8.0|                              15.0|                              0.0|                                2.0|                 (15,[8],[1.0])|                        (15,[],[])|                    (3,[0],[1.0])|                     (13,[2],[1.0])|               17700.0|                   0.0|                 0.0|              0.0|                   1.0|                     1137.0|                          13620.0|    -0.84864426|       0.528964|              1.0|     6.123234E-17|(57,[8,30,35,46,5...|(57,[8,30,35,46,5...|355.13249937300833|\n",
      "|00119c4594121c714...|2022-05-09|2022-06-25|               PHL|          MNR|       25860.0|          0|           0.0|         0.0|      0.0|   149.0|   256.58|           0.0|               null|             1656151200||16561...|    2022-06-25T06:00:...|           1656155400||16561...|  2022-06-25T07:10:...|                  MCO||PHL|                    MIA||MCO|Spirit Airlines||...|                 NK|        Airbus A319||AIRB...|                  13680.0|      None||None|            coach|            MIA|    6| 25| -0.9377521| 0.34730524|          0.5|  -0.8660254|149.00|                    8.0|                       9.0|                      0.0|                        4.0|                            8.0|                               9.0|                              0.0|                                4.0|                 (15,[8],[1.0])|                    (15,[9],[1.0])|                    (3,[0],[1.0])|                     (13,[4],[1.0])|               25860.0|                   0.0|                 0.0|              0.0|                   0.0|                  1611.5007|                          13680.0|     -0.9377521|     0.34730524|              0.5|       -0.8660254|(57,[8,24,30,37,4...|(57,[8,24,30,37,4...| 99.68474436144422|\n",
      "|00119c4594121c714...|2022-05-26|2022-06-25|               PHL|          VNR|       25860.0|          0|           0.0|         0.0|      0.0|    89.0|   196.58|           0.0|               null|             1656151200||16561...|    2022-06-25T06:00:...|           1656155400||16561...|  2022-06-25T07:10:...|                  MCO||PHL|                    MIA||MCO|Spirit Airlines||...|                 NK|        Airbus A319||AIRB...|                  13680.0|      None||None|            coach|            MIA|    6| 25| -0.9377521| 0.34730524|          0.5|  -0.8660254| 89.00|                    8.0|                       9.0|                      0.0|                        4.0|                            8.0|                               9.0|                              0.0|                                4.0|                 (15,[8],[1.0])|                    (15,[9],[1.0])|                    (3,[0],[1.0])|                     (13,[4],[1.0])|               25860.0|                   0.0|                 0.0|              0.0|                   0.0|                  1611.5007|                          13680.0|     -0.9377521|     0.34730524|              0.5|       -0.8660254|(57,[8,24,30,37,4...|(57,[8,24,30,37,4...| 99.68474436144422|\n",
      "|00119c4594121c714...|2022-06-06|2022-06-25|               PHL|          VNR|       25860.0|          0|           0.0|         0.0|      0.0|    89.0|   196.58|           0.0|               null|             1656151200||16561...|    2022-06-25T06:00:...|           1656155400||16561...|  2022-06-25T07:10:...|                  MCO||PHL|                    MIA||MCO|Spirit Airlines||...|                 NK|        Airbus A319||AIRB...|                  13680.0|      None||None|            coach|            MIA|    6| 25| -0.9377521| 0.34730524|          0.5|  -0.8660254| 89.00|                    8.0|                       9.0|                      0.0|                        4.0|                            8.0|                               9.0|                              0.0|                                4.0|                 (15,[8],[1.0])|                    (15,[9],[1.0])|                    (3,[0],[1.0])|                     (13,[4],[1.0])|               25860.0|                   0.0|                 0.0|              0.0|                   0.0|                  1611.5007|                          13680.0|     -0.9377521|     0.34730524|              0.5|       -0.8660254|(57,[8,24,30,37,4...|(57,[8,24,30,37,4...| 99.68474436144422|\n",
      "|00119c4594121c714...|2022-06-06|2022-06-25|               PHL|          VNR|       25860.0|          0|           0.0|         0.0|      0.0|    89.0|   196.58|           0.0|               null|             1656151200||16561...|    2022-06-25T06:00:...|           1656155400||16561...|  2022-06-25T07:10:...|                  MCO||PHL|                    MIA||MCO|Spirit Airlines||...|                 NK|        Airbus A319||AIRB...|                  13680.0|      None||None|            coach|            MIA|    6| 25| -0.9377521| 0.34730524|          0.5|  -0.8660254| 89.00|                    8.0|                       9.0|                      0.0|                        4.0|                            8.0|                               9.0|                              0.0|                                4.0|                 (15,[8],[1.0])|                    (15,[9],[1.0])|                    (3,[0],[1.0])|                     (13,[4],[1.0])|               25860.0|                   0.0|                 0.0|              0.0|                   0.0|                  1611.5007|                          13680.0|     -0.9377521|     0.34730524|              0.5|       -0.8660254|(57,[8,24,30,37,4...|(57,[8,24,30,37,4...| 99.68474436144422|\n",
      "|00119c4594121c714...|2022-06-22|2022-06-25|               PHL|        WA3NR|       25860.0|          0|           0.0|         0.0|      0.0|   153.0|   198.58|           0.0|               null|             1656151200||16561...|    2022-06-25T06:00:...|           1656155400||16561...|  2022-06-25T07:10:...|                  MCO||PHL|                    MIA||MCO|Spirit Airlines||...|                 NK|        Airbus A319||AIRB...|                  13680.0|      None||None|            coach|            MIA|    6| 25| -0.9377521| 0.34730524|          0.5|  -0.8660254|153.00|                    8.0|                       9.0|                      0.0|                        4.0|                            8.0|                               9.0|                              0.0|                                4.0|                 (15,[8],[1.0])|                    (15,[9],[1.0])|                    (3,[0],[1.0])|                     (13,[4],[1.0])|               25860.0|                   0.0|                 0.0|              0.0|                   0.0|                  1611.5007|                          13680.0|     -0.9377521|     0.34730524|              0.5|       -0.8660254|(57,[8,24,30,37,4...|(57,[8,24,30,37,4...| 99.68474436144422|\n",
      "|0015eafc6f2839ec7...|2022-09-02|2022-09-21|               BOS|     UA7NA0BQ|       22260.0|          0|           1.0|         0.0|      0.0|  115.35|   147.60|           9.0|             1315.0|             1663789500||16638...|    2022-09-21T15:45:...|           1663797060||16638...|  2022-09-21T17:51:...|                  RDU||BOS|                    MIA||RDU|        Delta||Delta|                 DL|        Boeing 717||Airbu...|                  14820.0|        702||613|            coach|            MIA|    9| 21|-0.89780456|-0.44039416|   -0.8660254|        -0.5|115.35|                    8.0|                       3.0|                      0.0|                        2.0|                            8.0|                               3.0|                              0.0|                                2.0|                 (15,[8],[1.0])|                    (15,[3],[1.0])|                    (3,[0],[1.0])|                     (13,[2],[1.0])|               22260.0|                   1.0|                 0.0|              0.0|                   9.0|                     1315.0|                          14820.0|    -0.89780456|    -0.44039416|       -0.8660254|             -0.5|(57,[8,18,30,35,4...|(57,[8,18,30,35,4...|128.11423096096115|\n",
      "|0016bf3babb7cca41...|2022-06-04|2022-06-18|               DEN|     WAA4OKEN|       23040.0|          0|           0.0|         0.0|      0.0|  236.28|   277.60|           8.0|             1834.0|             1655579760||16555...|    2022-06-18T15:16:...|           1655589720||16556...|  2022-06-18T17:02:...|                  IAH||DEN|                    MIA||IAH|      United||United|                 UA|        Boeing 737 MAX 8|...|                  19260.0|        958||876|            coach|            MIA|    6| 18|-0.48530197| -0.8743466|          0.5|  -0.8660254|236.28|                    8.0|                      10.0|                      0.0|                        1.0|                            8.0|                              10.0|                              0.0|                                1.0|                 (15,[8],[1.0])|                   (15,[10],[1.0])|                    (3,[0],[1.0])|                     (13,[1],[1.0])|               23040.0|                   0.0|                 0.0|              0.0|                   8.0|                     1834.0|                          19260.0|    -0.48530197|     -0.8743466|              0.5|       -0.8660254|(57,[8,25,30,34,4...|(57,[8,25,30,34,4...| 418.6215300134978|\n",
      "|00330e0e3ec3de863...|2022-05-06|2022-05-10|               DTW|     L3AGZNN1|       25500.0|          0|           0.0|         0.0|      0.0|  252.09|   293.10|           1.0|             1157.0|             1652196000||16522...|    2022-05-10T11:20:...|           1652203860||16522...|  2022-05-10T13:31:...|                  CLT||DTW|                    MIA||CLT|American Airlines...|                 AA|        Boeing 737-800||A...|                  14160.0|        652||505|            coach|            MIA|    5| 10| 0.89780456|-0.44039416|    0.8660254|        -0.5|252.09|                    8.0|                      11.0|                      0.0|                        0.0|                            8.0|                              11.0|                              0.0|                                0.0|                 (15,[8],[1.0])|                   (15,[11],[1.0])|                    (3,[0],[1.0])|                     (13,[0],[1.0])|               25500.0|                   0.0|                 0.0|              0.0|                   1.0|                     1157.0|                          14160.0|     0.89780456|    -0.44039416|        0.8660254|             -0.5|(57,[8,26,30,33,4...|(57,[8,26,30,33,4...| 258.7180026498827|\n",
      "|0036a58d3d47194d7...|2022-07-13|2022-09-01|               DEN|     QATOA0MC|       23460.0|          0|           0.0|         0.0|      0.0|  353.49|   403.60|           9.0|             1803.0|             1662042540||16620...|    2022-09-01T10:29:...|           1662049140||16620...|  2022-09-01T12:19:...|                  ATL||DEN|                    MIA||ATL|        Delta||Delta|                 DL|        Boeing 737-900||A...|                  17880.0|       596||1207|            coach|            MIA|    9|  1| 0.20129852|  0.9795299|   -0.8660254|        -0.5|353.49|                    8.0|                      10.0|                      0.0|                        2.0|                            8.0|                              10.0|                              0.0|                                2.0|                 (15,[8],[1.0])|                   (15,[10],[1.0])|                    (3,[0],[1.0])|                     (13,[2],[1.0])|               23460.0|                   0.0|                 0.0|              0.0|                   9.0|                     1803.0|                          17880.0|     0.20129852|      0.9795299|       -0.8660254|             -0.5|(57,[8,25,30,35,4...|(57,[8,25,30,35,4...| 361.5699499964108|\n",
      "|0036a58d3d47194d7...|2022-08-08|2022-09-01|               DEN|     HA0OA0MC|       23460.0|          0|           0.0|         0.0|      0.0|  404.65|   458.60|           9.0|             1803.0|             1662042540||16620...|    2022-09-01T10:29:...|           1662049140||16620...|  2022-09-01T12:19:...|                  ATL||DEN|                    MIA||ATL|        Delta||Delta|                 DL|        Boeing 737-900||A...|                  17880.0|       596||1207|            coach|            MIA|    9|  1| 0.20129852|  0.9795299|   -0.8660254|        -0.5|404.65|                    8.0|                      10.0|                      0.0|                        2.0|                            8.0|                              10.0|                              0.0|                                2.0|                 (15,[8],[1.0])|                   (15,[10],[1.0])|                    (3,[0],[1.0])|                     (13,[2],[1.0])|               23460.0|                   0.0|                 0.0|              0.0|                   9.0|                     1803.0|                          17880.0|     0.20129852|      0.9795299|       -0.8660254|             -0.5|(57,[8,25,30,35,4...|(57,[8,25,30,35,4...| 361.5699499964108|\n",
      "|00371f2bcb2854044...|2022-08-04|2022-08-13|               PHL|     QA7OA0MC|       21000.0|          0|           0.0|         0.0|      0.0|  311.63|   358.60|           2.0|             1263.0|             1660414200||16604...|    2022-08-13T14:10:...|           1660421700||16604...|  2022-08-13T16:15:...|                  ATL||PHL|                    MIA||ATL|        Delta||Delta|                 DL|        Boeing 737-900||B...|                  15000.0|        596||667|            coach|            MIA|    8| 13| 0.48530197| -0.8743466|         -0.5|  -0.8660254|311.63|                    8.0|                       9.0|                      0.0|                        2.0|                            8.0|                               9.0|                              0.0|                                2.0|                 (15,[8],[1.0])|                    (15,[9],[1.0])|                    (3,[0],[1.0])|                     (13,[2],[1.0])|               21000.0|                   0.0|                 0.0|              0.0|                   2.0|                     1263.0|                          15000.0|     0.48530197|     -0.8743466|             -0.5|       -0.8660254|(57,[8,24,30,35,4...|(57,[8,24,30,35,4...|345.85863866124873|\n",
      "|003ddfea00fbe9285...|2022-04-29|2022-06-15|               BOS|     GVAJZNN3|       13200.0|          0|           0.0|         0.0|      1.0|  115.35|   138.60|           7.0|             1260.0|                       1655310120|    2022-06-15T12:22:...|                     1655323320|  2022-06-15T16:02:...|                       BOS|                         MIA|   American Airlines|                 AA|                        null|                  13200.0|            1260|            coach|            MIA|    6| 15| 0.10116832|-0.99486935|          0.5|  -0.8660254|115.35|                    8.0|                       3.0|                      0.0|                        0.0|                            8.0|                               3.0|                              0.0|                                0.0|                 (15,[8],[1.0])|                    (15,[3],[1.0])|                    (3,[0],[1.0])|                     (13,[0],[1.0])|               13200.0|                   0.0|                 0.0|              1.0|                   7.0|                     1260.0|                          13200.0|     0.10116832|    -0.99486935|              0.5|       -0.8660254|(57,[8,18,30,33,4...|(57,[8,18,30,33,4...|210.42647379281973|\n",
      "|003ddfea00fbe9285...|2022-05-08|2022-06-15|               BOS|     L3AJZNN1|       13200.0|          0|           0.0|         0.0|      1.0|  217.67|   248.60|           7.0|             1260.0|                       1655310120|    2022-06-15T12:22:...|                     1655323320|  2022-06-15T16:02:...|                       BOS|                         MIA|   American Airlines|                 AA|                        null|                  13200.0|            1260|            coach|            MIA|    6| 15| 0.10116832|-0.99486935|          0.5|  -0.8660254|217.67|                    8.0|                       3.0|                      0.0|                        0.0|                            8.0|                               3.0|                              0.0|                                0.0|                 (15,[8],[1.0])|                    (15,[3],[1.0])|                    (3,[0],[1.0])|                     (13,[0],[1.0])|               13200.0|                   0.0|                 0.0|              1.0|                   7.0|                     1260.0|                          13200.0|     0.10116832|    -0.99486935|              0.5|       -0.8660254|(57,[8,18,30,33,4...|(57,[8,18,30,33,4...|210.42647379281973|\n",
      "|00709eab40f90539c...|2022-05-03|2022-05-17|               LAX|     VAUNA0BC|       54420.0|          1|           1.0|         0.0|      0.0|  194.42|   242.70|           9.0|             2643.0|             1652831280||16528...|    2022-05-17T19:48:...|           1652838480||16528...|  2022-05-17T21:48:...|             ATL||AUS||LAX|               MIA||ATL||AUS| Delta||Delta||Delta|                 DL|        Airbus A321||Airb...|                  27960.0|  596||811||1236|            coach|            MIA|    5| 17|-0.29936314|-0.95413923|    0.8660254|        -0.5|194.42|                    8.0|                       0.0|                      0.0|                        2.0|                            8.0|                               0.0|                              0.0|                                2.0|                 (15,[8],[1.0])|                    (15,[0],[1.0])|                    (3,[0],[1.0])|                     (13,[2],[1.0])|               54420.0|                   1.0|                 0.0|              0.0|                   9.0|                     2643.0|                          27960.0|    -0.29936314|    -0.95413923|        0.8660254|             -0.5|(57,[8,15,30,35,4...|(57,[8,15,30,35,4...|319.67051687593954|\n",
      "|0076eba1e1b4e3280...|2022-08-03|2022-09-23|               DFW|     NVAIZON3|       16800.0|          0|           0.0|         0.0|      0.0|  146.98|   181.60|           7.0|             1246.0|             1663970520||16639...|    2022-09-23T18:02:...|           1663975200||16639...|  2022-09-23T19:20:...|                  JAX||DFW|                    MIA||JAX|American Airlines...|                 AA|        Airbus A319||Boei...|                  14400.0|        330||916|            coach|            MIA|    9| 23|-0.99871653|-0.05064917|   -0.8660254|        -0.5|146.98|                    8.0|                       2.0|                      0.0|                        0.0|                            8.0|                               2.0|                              0.0|                                0.0|                 (15,[8],[1.0])|                    (15,[2],[1.0])|                    (3,[0],[1.0])|                     (13,[0],[1.0])|               16800.0|                   0.0|                 0.0|              0.0|                   7.0|                     1246.0|                          14400.0|    -0.99871653|    -0.05064917|       -0.8660254|             -0.5|(57,[8,17,30,33,4...|(57,[8,17,30,33,4...|267.88026438661024|\n",
      "|0076eba1e1b4e3280...|2022-08-22|2022-09-23|               DFW|     GVAIZOB3|       16800.0|          0|           1.0|         0.0|      0.0|  146.98|   181.60|           7.0|             1246.0|             1663970520||16639...|    2022-09-23T18:02:...|           1663975200||16639...|  2022-09-23T19:20:...|                  JAX||DFW|                    MIA||JAX|American Airlines...|                 AA|        Airbus A319||Boei...|                  14400.0|        330||916|            coach|            MIA|    9| 23|-0.99871653|-0.05064917|   -0.8660254|        -0.5|146.98|                    8.0|                       2.0|                      0.0|                        0.0|                            8.0|                               2.0|                              0.0|                                0.0|                 (15,[8],[1.0])|                    (15,[2],[1.0])|                    (3,[0],[1.0])|                     (13,[0],[1.0])|               16800.0|                   1.0|                 0.0|              0.0|                   7.0|                     1246.0|                          14400.0|    -0.99871653|    -0.05064917|       -0.8660254|             -0.5|(57,[8,17,30,33,4...|(57,[8,17,30,33,4...| 121.0403390421054|\n",
      "|0076eba1e1b4e3280...|2022-09-17|2022-09-23|               DFW|     L7AIZON1|       16800.0|          0|           0.0|         0.0|      0.0|  252.09|   294.60|           7.0|             1246.0|             1663970520||16639...|    2022-09-23T18:02:...|           1663975200||16639...|  2022-09-23T19:20:...|                  JAX||DFW|                    MIA||JAX|American Airlines...|                 AA|        Airbus A319||Boei...|                  14400.0|        330||916|            coach|            MIA|    9| 23|-0.99871653|-0.05064917|   -0.8660254|        -0.5|252.09|                    8.0|                       2.0|                      0.0|                        0.0|                            8.0|                               2.0|                              0.0|                                0.0|                 (15,[8],[1.0])|                    (15,[2],[1.0])|                    (3,[0],[1.0])|                     (13,[0],[1.0])|               16800.0|                   0.0|                 0.0|              0.0|                   7.0|                     1246.0|                          14400.0|    -0.99871653|    -0.05064917|       -0.8660254|             -0.5|(57,[8,17,30,33,4...|(57,[8,17,30,33,4...|267.88026438661024|\n",
      "|007f7bce52bbcdcb6...|2022-07-05|2022-07-14|               OAK|        WA7Y4|       30240.0|          0|           0.0|         0.0|      0.0|   116.0|   161.58|           0.0|               null|             1657806540||16578...|    2022-07-14T09:49:...|           1657826040||16578...|  2022-07-14T12:14:...|                  LAS||OAK|                    MIA||LAS|Spirit Airlines||...|                 NK|                          |||                  25020.0|      None||None|            coach|            MIA|    7| 14| 0.29936314|-0.95413923|1.2246469E-16|        -1.0|116.00|                    8.0|                      14.0|                      0.0|                        4.0|                            8.0|                              14.0|                              0.0|                                4.0|                 (15,[8],[1.0])|                   (15,[14],[1.0])|                    (3,[0],[1.0])|                     (13,[4],[1.0])|               30240.0|                   0.0|                 0.0|              0.0|                   0.0|                  1611.5007|                          25020.0|     0.29936314|    -0.95413923|    1.2246469E-16|             -1.0|(57,[8,29,30,37,4...|(57,[8,29,30,37,4...|189.13571011810907|\n",
      "|0081d0baf7ee5bbc8...|2022-05-03|2022-06-15|               DEN|     QAA3AKEN|       23160.0|          0|           0.0|         0.0|      0.0|  305.12|   351.60|           4.0|             1834.0|             1655334180||16553...|    2022-06-15T19:03:...|           1655344200||16553...|  2022-06-15T20:50:...|                  IAH||DEN|                    MIA||IAH|      United||United|                 UA|        Boeing 737-900||B...|                  19500.0|        958||876|            coach|            MIA|    6| 15| 0.10116832|-0.99486935|          0.5|  -0.8660254|305.12|                    8.0|                      10.0|                      0.0|                        1.0|                            8.0|                              10.0|                              0.0|                                1.0|                 (15,[8],[1.0])|                   (15,[10],[1.0])|                    (3,[0],[1.0])|                     (13,[1],[1.0])|               23160.0|                   0.0|                 0.0|              0.0|                   4.0|                     1834.0|                          19500.0|     0.10116832|    -0.99486935|              0.5|       -0.8660254|(57,[8,25,30,34,4...|(57,[8,25,30,34,4...| 414.8007629875697|\n",
      "+--------------------+----------+----------+------------------+-------------+--------------+-----------+--------------+------------+---------+--------+---------+--------------+-------------------+---------------------------------+------------------------+-------------------------------+----------------------+--------------------------+----------------------------+--------------------+-------------------+----------------------------+-------------------------+----------------+-----------------+---------------+-----+---+-----------+-----------+-------------+------------+------+-----------------------+--------------------------+-------------------------+---------------------------+-------------------------------+----------------------------------+---------------------------------+-----------------------------------+-------------------------------+----------------------------------+---------------------------------+-----------------------------------+----------------------+----------------------+--------------------+-----------------+----------------------+---------------------------+---------------------------------+---------------+---------------+-----------------+-----------------+--------------------+--------------------+------------------+\n",
      "only showing top 20 rows\n",
      "\n"
     ]
    }
   ],
   "source": [
    "predictions = model_gbt.transform(test_data)\n",
    "predictions.show()"
   ]
  },
  {
   "cell_type": "markdown",
   "id": "32e97403-59a0-4ec4-b044-678ba6aa2b66",
   "metadata": {},
   "source": [
    "## Evaluate the model"
   ]
  },
  {
   "cell_type": "code",
   "execution_count": 15,
   "id": "c6b166ca-8b62-4995-adca-129021dd6d40",
   "metadata": {},
   "outputs": [
    {
     "name": "stdout",
     "output_type": "stream",
     "text": [
      "Root Mean Squared Error (RMSE) on test data = 117.93243361017127\n",
      "R^2 on test data = 0.5843321639400942\n"
     ]
    }
   ],
   "source": [
    "from pyspark.ml.evaluation import RegressionEvaluator \n",
    "\n",
    "# Evaluate the performance of the model\n",
    "evaluator1_rmse = RegressionEvaluator(labelCol=\"label\", predictionCol=\"prediction\", metricName=\"rmse\")\n",
    "evaluator1_r2 = RegressionEvaluator(labelCol=\"label\", predictionCol=\"prediction\", metricName=\"r2\")\n",
    "\n",
    "rmse = evaluator1_rmse.evaluate(predictions)\n",
    "r2 = evaluator1_r2.evaluate(predictions)\n",
    "\n",
    "print(\"Root Mean Squared Error (RMSE) on test data = {}\".format(rmse))\n",
    "print(\"R^2 on test data = {}\".format(r2))"
   ]
  },
  {
   "cell_type": "markdown",
   "id": "b6b0e075-c37c-492a-b894-2f64d4dea72b",
   "metadata": {},
   "source": [
    "## Hyperparameter optimization"
   ]
  },
  {
   "cell_type": "code",
   "execution_count": 16,
   "id": "7e04437d-2bf9-4803-83cc-b7ed17d311e4",
   "metadata": {},
   "outputs": [
    {
     "data": {
      "text/plain": [
       "[Param(parent='GBTRegressor_a44f392bfe19', name='cacheNodeIds', doc='If false, the algorithm will pass trees to executors to match instances with nodes. If true, the algorithm will cache node IDs for each instance. Caching can speed up training of deeper trees. Users can set how often should the cache be checkpointed or disable it by setting checkpointInterval.'),\n",
       " Param(parent='GBTRegressor_a44f392bfe19', name='checkpointInterval', doc='set checkpoint interval (>= 1) or disable checkpoint (-1). E.g. 10 means that the cache will get checkpointed every 10 iterations. Note: this setting will be ignored if the checkpoint directory is not set in the SparkContext.'),\n",
       " Param(parent='GBTRegressor_a44f392bfe19', name='featureSubsetStrategy', doc=\"The number of features to consider for splits at each tree node. Supported options: 'auto' (choose automatically for task: If numTrees == 1, set to 'all'. If numTrees > 1 (forest), set to 'sqrt' for classification and to 'onethird' for regression), 'all' (use all features), 'onethird' (use 1/3 of the features), 'sqrt' (use sqrt(number of features)), 'log2' (use log2(number of features)), 'n' (when n is in the range (0, 1.0], use n * number of features. When n is in the range (1, number of features), use n features). default = 'auto'\"),\n",
       " Param(parent='GBTRegressor_a44f392bfe19', name='featuresCol', doc='features column name.'),\n",
       " Param(parent='GBTRegressor_a44f392bfe19', name='impurity', doc='Criterion used for information gain calculation (case-insensitive). Supported options: variance'),\n",
       " Param(parent='GBTRegressor_a44f392bfe19', name='labelCol', doc='label column name.'),\n",
       " Param(parent='GBTRegressor_a44f392bfe19', name='leafCol', doc='Leaf indices column name. Predicted leaf index of each instance in each tree by preorder.'),\n",
       " Param(parent='GBTRegressor_a44f392bfe19', name='lossType', doc='Loss function which GBT tries to minimize (case-insensitive). Supported options: squared, absolute'),\n",
       " Param(parent='GBTRegressor_a44f392bfe19', name='maxBins', doc='Max number of bins for discretizing continuous features.  Must be >=2 and >= number of categories for any categorical feature.'),\n",
       " Param(parent='GBTRegressor_a44f392bfe19', name='maxDepth', doc='Maximum depth of the tree. (>= 0) E.g., depth 0 means 1 leaf node; depth 1 means 1 internal node + 2 leaf nodes. Must be in range [0, 30].'),\n",
       " Param(parent='GBTRegressor_a44f392bfe19', name='maxIter', doc='max number of iterations (>= 0).'),\n",
       " Param(parent='GBTRegressor_a44f392bfe19', name='maxMemoryInMB', doc='Maximum memory in MB allocated to histogram aggregation. If too small, then 1 node will be split per iteration, and its aggregates may exceed this size.'),\n",
       " Param(parent='GBTRegressor_a44f392bfe19', name='minInfoGain', doc='Minimum information gain for a split to be considered at a tree node.'),\n",
       " Param(parent='GBTRegressor_a44f392bfe19', name='minInstancesPerNode', doc='Minimum number of instances each child must have after split. If a split causes the left or right child to have fewer than minInstancesPerNode, the split will be discarded as invalid. Should be >= 1.'),\n",
       " Param(parent='GBTRegressor_a44f392bfe19', name='minWeightFractionPerNode', doc='Minimum fraction of the weighted sample count that each child must have after split. If a split causes the fraction of the total weight in the left or right child to be less than minWeightFractionPerNode, the split will be discarded as invalid. Should be in interval [0.0, 0.5).'),\n",
       " Param(parent='GBTRegressor_a44f392bfe19', name='predictionCol', doc='prediction column name.'),\n",
       " Param(parent='GBTRegressor_a44f392bfe19', name='seed', doc='random seed.'),\n",
       " Param(parent='GBTRegressor_a44f392bfe19', name='stepSize', doc='Step size (a.k.a. learning rate) in interval (0, 1] for shrinking the contribution of each estimator.'),\n",
       " Param(parent='GBTRegressor_a44f392bfe19', name='subsamplingRate', doc='Fraction of the training data used for learning each decision tree, in range (0, 1].'),\n",
       " Param(parent='GBTRegressor_a44f392bfe19', name='validationIndicatorCol', doc='name of the column that indicates whether each row is for training or for validation. False indicates training; true indicates validation.'),\n",
       " Param(parent='GBTRegressor_a44f392bfe19', name='validationTol', doc='Threshold for stopping early when fit with validation is used. If the error rate on the validation input changes by less than the validationTol, then learning will stop early (before `maxIter`). This parameter is ignored when fit without validation is used.'),\n",
       " Param(parent='GBTRegressor_a44f392bfe19', name='weightCol', doc='weight column name. If this is not set or empty, we treat all instance weights as 1.0.')]"
      ]
     },
     "execution_count": 16,
     "metadata": {},
     "output_type": "execute_result"
    }
   ],
   "source": [
    "model_gbt.params"
   ]
  },
  {
   "cell_type": "code",
   "execution_count": 17,
   "id": "9f4388f9-db94-423c-879d-392c90041d95",
   "metadata": {},
   "outputs": [
    {
     "data": {
      "text/plain": [
       "GBTRegressionModel: uid=GBTRegressor_a44f392bfe19, numTrees=10, numFeatures=57"
      ]
     },
     "execution_count": 17,
     "metadata": {},
     "output_type": "execute_result"
    }
   ],
   "source": [
    "from pyspark.ml.tuning import ParamGridBuilder, CrossValidator \n",
    "\n",
    "import numpy as np\n",
    "\n",
    "\n",
    "grid = ParamGridBuilder()\n",
    "grid = grid.addGrid(\n",
    "                    model_gbt.maxDepth, [3, 4, 5])\\\n",
    "                    .addGrid(model_gbt.lossType , [\"squared\", \"absolute\"]\n",
    "                    )\\\n",
    "                    .build()\n",
    "\n",
    "cv = CrossValidator(estimator = gbt, \n",
    "                    estimatorParamMaps = grid, \n",
    "                    evaluator = evaluator1_rmse,\n",
    "                    parallelism = 5,\n",
    "                    numFolds=3)\n",
    "\n",
    "cvModel = cv.fit(train_data)\n",
    "bestModel = cvModel.bestModel\n",
    "bestModel"
   ]
  },
  {
   "cell_type": "markdown",
   "id": "8a27e31c-959e-438c-bec0-1f109d7e2c15",
   "metadata": {},
   "source": [
    "## Best model 1\n"
   ]
  },
  {
   "cell_type": "code",
   "execution_count": 18,
   "id": "8d86fc18-eb29-4f03-bfef-ed3aa1daa4fa",
   "metadata": {},
   "outputs": [
    {
     "name": "stdout",
     "output_type": "stream",
     "text": [
      "{Param(parent='GBTRegressor_a44f392bfe19', name='impurity', doc='Criterion used for information gain calculation (case-insensitive). Supported options: variance'): 'variance',\n",
      " Param(parent='GBTRegressor_a44f392bfe19', name='checkpointInterval', doc='set checkpoint interval (>= 1) or disable checkpoint (-1). E.g. 10 means that the cache will get checkpointed every 10 iterations. Note: this setting will be ignored if the checkpoint directory is not set in the SparkContext.'): 10,\n",
      " Param(parent='GBTRegressor_a44f392bfe19', name='labelCol', doc='label column name.'): 'label',\n",
      " Param(parent='GBTRegressor_a44f392bfe19', name='featuresCol', doc='features column name.'): 'features',\n",
      " Param(parent='GBTRegressor_a44f392bfe19', name='cacheNodeIds', doc='If false, the algorithm will pass trees to executors to match instances with nodes. If true, the algorithm will cache node IDs for each instance. Caching can speed up training of deeper trees. Users can set how often should the cache be checkpointed or disable it by setting checkpointInterval.'): False,\n",
      " Param(parent='GBTRegressor_a44f392bfe19', name='featureSubsetStrategy', doc=\"The number of features to consider for splits at each tree node. Supported options: 'auto' (choose automatically for task: If numTrees == 1, set to 'all'. If numTrees > 1 (forest), set to 'sqrt' for classification and to 'onethird' for regression), 'all' (use all features), 'onethird' (use 1/3 of the features), 'sqrt' (use sqrt(number of features)), 'log2' (use log2(number of features)), 'n' (when n is in the range (0, 1.0], use n * number of features. When n is in the range (1, number of features), use n features). default = 'auto'\"): 'all',\n",
      " Param(parent='GBTRegressor_a44f392bfe19', name='validationTol', doc='Threshold for stopping early when fit with validation is used. If the error rate on the validation input changes by less than the validationTol, then learning will stop early (before `maxIter`). This parameter is ignored when fit without validation is used.'): 0.01,\n",
      " Param(parent='GBTRegressor_a44f392bfe19', name='maxMemoryInMB', doc='Maximum memory in MB allocated to histogram aggregation. If too small, then 1 node will be split per iteration, and its aggregates may exceed this size.'): 256,\n",
      " Param(parent='GBTRegressor_a44f392bfe19', name='minInfoGain', doc='Minimum information gain for a split to be considered at a tree node.'): 0.0,\n",
      " Param(parent='GBTRegressor_a44f392bfe19', name='maxBins', doc='Max number of bins for discretizing continuous features.  Must be >=2 and >= number of categories for any categorical feature.'): 32,\n",
      " Param(parent='GBTRegressor_a44f392bfe19', name='seed', doc='random seed.'): 6729115258515407901,\n",
      " Param(parent='GBTRegressor_a44f392bfe19', name='predictionCol', doc='prediction column name.'): 'prediction',\n",
      " Param(parent='GBTRegressor_a44f392bfe19', name='subsamplingRate', doc='Fraction of the training data used for learning each decision tree, in range (0, 1].'): 1.0,\n",
      " Param(parent='GBTRegressor_a44f392bfe19', name='stepSize', doc='Step size (a.k.a. learning rate) in interval (0, 1] for shrinking the contribution of each estimator.'): 0.1,\n",
      " Param(parent='GBTRegressor_a44f392bfe19', name='minInstancesPerNode', doc='Minimum number of instances each child must have after split. If a split causes the left or right child to have fewer than minInstancesPerNode, the split will be discarded as invalid. Should be >= 1.'): 1,\n",
      " Param(parent='GBTRegressor_a44f392bfe19', name='maxDepth', doc='Maximum depth of the tree. (>= 0) E.g., depth 0 means 1 leaf node; depth 1 means 1 internal node + 2 leaf nodes. Must be in range [0, 30].'): 5,\n",
      " Param(parent='GBTRegressor_a44f392bfe19', name='minWeightFractionPerNode', doc='Minimum fraction of the weighted sample count that each child must have after split. If a split causes the fraction of the total weight in the left or right child to be less than minWeightFractionPerNode, the split will be discarded as invalid. Should be in interval [0.0, 0.5).'): 0.0,\n",
      " Param(parent='GBTRegressor_a44f392bfe19', name='maxIter', doc='max number of iterations (>= 0).'): 10,\n",
      " Param(parent='GBTRegressor_a44f392bfe19', name='leafCol', doc='Leaf indices column name. Predicted leaf index of each instance in each tree by preorder.'): '',\n",
      " Param(parent='GBTRegressor_a44f392bfe19', name='lossType', doc='Loss function which GBT tries to minimize (case-insensitive). Supported options: squared, absolute'): 'squared'}\n"
     ]
    }
   ],
   "source": [
    "from pprint import pprint\n",
    "model1 = bestModel\n",
    "pprint(model1.extractParamMap())"
   ]
  },
  {
   "cell_type": "code",
   "execution_count": null,
   "id": "67493b18-ee96-4c70-9a7b-1395b63f01f3",
   "metadata": {},
   "outputs": [],
   "source": []
  },
  {
   "cell_type": "markdown",
   "id": "632f666a-f792-4b50-b38f-b39f9208ab25",
   "metadata": {},
   "source": [
    "## Save the model to HDFS"
   ]
  },
  {
   "cell_type": "code",
   "execution_count": 19,
   "id": "e562da25-53d1-46dc-ac5d-68a6e9041927",
   "metadata": {},
   "outputs": [
    {
     "data": {
      "text/plain": [
       "''"
      ]
     },
     "execution_count": 19,
     "metadata": {},
     "output_type": "execute_result"
    }
   ],
   "source": [
    "model1.write().overwrite().save(\"project/models/model1\")\n",
    "\n",
    "# Run it from root directory of the repository\n",
    "run(\"hdfs dfs -get project/models/model1 models/model1\")"
   ]
  },
  {
   "cell_type": "markdown",
   "id": "f0e9b220-54e1-49ce-802c-fc005d8f63c3",
   "metadata": {},
   "source": [
    "## Predict for test data using best model1"
   ]
  },
  {
   "cell_type": "code",
   "execution_count": 20,
   "id": "cf8a05de-dcae-4bb0-8cf1-de760a62e0fb",
   "metadata": {},
   "outputs": [
    {
     "name": "stdout",
     "output_type": "stream",
     "text": [
      "+--------------------+----------+----------+------------------+-------------+--------------+-----------+--------------+------------+---------+--------+---------+--------------+-------------------+---------------------------------+------------------------+-------------------------------+----------------------+--------------------------+----------------------------+--------------------+-------------------+----------------------------+-------------------------+----------------+-----------------+---------------+-----+---+-----------+-----------+----------+--------------+------+-----------------------+--------------------------+-------------------------+---------------------------+-------------------------------+----------------------------------+---------------------------------+-----------------------------------+-------------------------------+----------------------------------+---------------------------------+-----------------------------------+----------------------+----------------------+--------------------+-----------------+----------------------+---------------------------+---------------------------------+---------------+---------------+-----------------+-----------------+--------------------+--------------------+------------------+\n",
      "|               legid|searchdate|flightDate|destinationAirport|farebasiscode|travelDuration|elapseddays|isBasicEconomy|isRefundable|isNonStop|baseFare|totalfare|seatsRemaining|totalTravelDistance|segmentsdeparturetimeepochseconds|segmentsdeparturetimeraw|segmentsarrivaltimeepochseconds|segmentsarrivaltimeraw|segmentsarrivalairportcode|segmentsdepartureairportcode| segmentsairlinename|segmentsAirlineCode|segmentsequipmentdescription|segmentsDurationInSeconds|segmentsdistance|segmentsCabinCode|startingAirport|month|day|    day_sin|    day_cos| month_sin|     month_cos| label|startingAirport_indexed|destinationAirport_indexed|segmentsCabinCode_indexed|segmentsAirlineCode_indexed|startingAirport_indexed_imputed|destinationAirport_indexed_imputed|segmentsCabinCode_indexed_imputed|segmentsAirlineCode_indexed_imputed|startingAirport_indexed_encoded|destinationAirport_indexed_encoded|segmentsCabinCode_indexed_encoded|segmentsAirlineCode_indexed_encoded|travelDuration_imputed|isBasicEconomy_imputed|isRefundable_imputed|isNonStop_imputed|seatsRemaining_imputed|totalTravelDistance_imputed|segmentsDurationInSeconds_imputed|day_sin_imputed|day_cos_imputed|month_sin_imputed|month_cos_imputed|   nonscaledfeatures|            features|        prediction|\n",
      "+--------------------+----------+----------+------------------+-------------+--------------+-----------+--------------+------------+---------+--------+---------+--------------+-------------------+---------------------------------+------------------------+-------------------------------+----------------------+--------------------------+----------------------------+--------------------+-------------------+----------------------------+-------------------------+----------------+-----------------+---------------+-----+---+-----------+-----------+----------+--------------+------+-----------------------+--------------------------+-------------------------+---------------------------+-------------------------------+----------------------------------+---------------------------------+-----------------------------------+-------------------------------+----------------------------------+---------------------------------+-----------------------------------+----------------------+----------------------+--------------------+-----------------+----------------------+---------------------------+---------------------------------+---------------+---------------+-----------------+-----------------+--------------------+--------------------+------------------+\n",
      "|000434c8874104a33...|2022-05-09|2022-06-12|               LGA|     G3BZZNN1|       13080.0|          0|           0.0|         0.0|      0.0|   230.7|   271.60|           2.0|              627.0|             1655040600||16550...|    2022-06-12T09:30:...|           1655046960||16550...|  2022-06-12T11:16:...|                  DCA||LGA|                    BOS||DCA|American Airlines...|                 AA|        Airbus A319||Airb...|                  10440.0|        406||221|            coach|            BOS|    6| 12|  0.6513725| -0.7587581|       0.5|    -0.8660254|230.70|                    2.0|                       1.0|                      0.0|                        0.0|                            2.0|                               1.0|                              0.0|                                0.0|                 (15,[2],[1.0])|                    (15,[1],[1.0])|                    (3,[0],[1.0])|                     (13,[0],[1.0])|               13080.0|                   0.0|                 0.0|              0.0|                   2.0|                      627.0|                          10440.0|      0.6513725|     -0.7587581|              0.5|       -0.8660254|(57,[2,16,30,33,4...|(57,[2,16,30,33,4...| 206.3916839208239|\n",
      "|00054290112a9aeaa...|2022-08-06|2022-08-26|               LAX|     PI4ABEL1|       34140.0|          1|           0.0|         0.0|      0.0|   99.54|   130.61|           7.0|             2643.0|             1661556600||16615...|    2022-08-26T19:30:...|           1661561040||16615...|  2022-08-26T20:44:...|                  JFK||LAX|                    BOS||JFK|JetBlue Airways||...|                 B6|        Airbus A320||Airb...|                  26880.0|       185||2458|            coach|            BOS|    8| 26|-0.84864426|   0.528964|      -0.5|    -0.8660254| 99.54|                    2.0|                       0.0|                      0.0|                        3.0|                            2.0|                               0.0|                              0.0|                                3.0|                 (15,[2],[1.0])|                    (15,[0],[1.0])|                    (3,[0],[1.0])|                     (13,[3],[1.0])|               34140.0|                   0.0|                 0.0|              0.0|                   7.0|                     2643.0|                          26880.0|    -0.84864426|       0.528964|             -0.5|       -0.8660254|(57,[2,15,30,36,4...|(57,[2,15,30,36,4...| 324.8100565615361|\n",
      "|000711ec4d338e893...|2022-10-05|2022-10-13|               LAX|     WAA3AHEN|       28380.0|          0|           0.0|         0.0|      0.0|   458.6|   516.60|           2.0|             2607.0|             1665680820||16656...|    2022-10-13T13:07:...|           1665690900||16657...|  2022-10-13T14:55:...|                  ORD||LAX|                    BOS||ORD|      United||United|                 UA|               Airbus A320|||                  25680.0|       862||1745|            coach|            BOS|   10| 13| 0.48530197| -0.8743466|      -1.0|-1.8369701E-16|458.60|                    2.0|                       0.0|                      0.0|                        1.0|                            2.0|                               0.0|                              0.0|                                1.0|                 (15,[2],[1.0])|                    (15,[0],[1.0])|                    (3,[0],[1.0])|                     (13,[1],[1.0])|               28380.0|                   0.0|                 0.0|              0.0|                   2.0|                     2607.0|                          25680.0|     0.48530197|     -0.8743466|             -1.0|   -1.8369701E-16|(57,[2,15,30,34,4...|(57,[2,15,30,34,4...|342.46018750908576|\n",
      "|000e308fce4ee8566...|2022-05-03|2022-06-11|               DFW|       H7CXNR|       37620.0|          0|           0.0|         0.0|      0.0|   170.0|   277.58|           0.0|               null|             1654943100||16549...|    2022-06-11T06:25:...|           1654954380||16549...|  2022-06-11T09:33:...|                  MCO||DFW|                    BOS||MCO|Spirit Airlines||...|                 NK|        AIRBUS INDUSTRIE ...|                  21720.0|      None||None|            coach|            BOS|    6| 11|  0.7907757|-0.61210597|       0.5|    -0.8660254|170.00|                    2.0|                       2.0|                      0.0|                        4.0|                            2.0|                               2.0|                              0.0|                                4.0|                 (15,[2],[1.0])|                    (15,[2],[1.0])|                    (3,[0],[1.0])|                     (13,[4],[1.0])|               37620.0|                   0.0|                 0.0|              0.0|                   0.0|                  1611.5007|                          21720.0|      0.7907757|    -0.61210597|              0.5|       -0.8660254|(57,[2,17,30,37,4...|(57,[2,17,30,37,4...|189.19557821061343|\n",
      "|000e308fce4ee8566...|2022-05-27|2022-06-11|               DFW|       K7CXNR|       37620.0|          0|           0.0|         0.0|      0.0|   140.0|   247.58|           0.0|               null|             1654943100||16549...|    2022-06-11T06:25:...|           1654954380||16549...|  2022-06-11T09:33:...|                  MCO||DFW|                    BOS||MCO|Spirit Airlines||...|                 NK|        AIRBUS INDUSTRIE ...|                  21720.0|      None||None|            coach|            BOS|    6| 11|  0.7907757|-0.61210597|       0.5|    -0.8660254|140.00|                    2.0|                       2.0|                      0.0|                        4.0|                            2.0|                               2.0|                              0.0|                                4.0|                 (15,[2],[1.0])|                    (15,[2],[1.0])|                    (3,[0],[1.0])|                     (13,[4],[1.0])|               37620.0|                   0.0|                 0.0|              0.0|                   0.0|                  1611.5007|                          21720.0|      0.7907757|    -0.61210597|              0.5|       -0.8660254|(57,[2,17,30,37,4...|(57,[2,17,30,37,4...|189.19557821061343|\n",
      "|00138fa808c0a7970...|2022-09-06|2022-10-11|               DTW|     OUAJZNB3|       27840.0|          0|           1.0|         0.0|      0.0|   73.49|   101.10|           7.0|             1233.0|             1665486000||16655...|    2022-10-11T07:00:...|           1665495300||16655...|  2022-10-11T09:35:...|                  CLT||DTW|                    BOS||CLT|American Airlines...|                 AA|        Airbus A321||Boei...|                  15540.0|        728||505|            coach|            BOS|   10| 11|  0.7907757|-0.61210597|      -1.0|-1.8369701E-16| 73.49|                    2.0|                      11.0|                      0.0|                        0.0|                            2.0|                              11.0|                              0.0|                                0.0|                 (15,[2],[1.0])|                   (15,[11],[1.0])|                    (3,[0],[1.0])|                     (13,[0],[1.0])|               27840.0|                   1.0|                 0.0|              0.0|                   7.0|                     1233.0|                          15540.0|      0.7907757|    -0.61210597|             -1.0|   -1.8369701E-16|(57,[2,26,30,33,4...|(57,[2,26,30,33,4...|118.09808003304393|\n",
      "|0016eb7594cffb597...|2022-10-05|2022-10-26|               SFO|     NI4AUEY5|       24120.0|          0|           0.0|         0.0|      1.0|   190.7|   219.60|           2.0|             2698.0|                       1666819800|    2022-10-26T17:30:...|                     1666843920|  2022-10-26T21:12:...|                       SFO|                         BOS|   American Airlines|                 AA|                 Airbus A321|                  24120.0|            2698|            coach|            BOS|   10| 26|-0.84864426|   0.528964|      -1.0|-1.8369701E-16|190.70|                    2.0|                       5.0|                      0.0|                        0.0|                            2.0|                               5.0|                              0.0|                                0.0|                 (15,[2],[1.0])|                    (15,[5],[1.0])|                    (3,[0],[1.0])|                     (13,[0],[1.0])|               24120.0|                   0.0|                 0.0|              1.0|                   2.0|                     2698.0|                          24120.0|    -0.84864426|       0.528964|             -1.0|   -1.8369701E-16|(57,[2,20,30,33,4...|(57,[2,20,30,33,4...|339.30172519599404|\n",
      "|001c3510603186b90...|2022-09-27|2022-11-04|               OAK|     QAA3OFEN|       59760.0|          0|           0.0|         0.0|      0.0|  490.23|   560.70|           7.0|             3452.0|             1667568420||16675...|    2022-11-04T09:27:...|           1667585640||16676...|  2022-11-04T12:14:...|             DEN||SEA||OAK|               BOS||DEN||SEA|United||Alaska Ai...|                 AS|        Boeing 737 MAX 9|...|                  35700.0| 1763||1017||672|            coach|            BOS|   11|  4|  0.7247928| 0.68896693|-0.8660254|           0.5|490.23|                    2.0|                      14.0|                      0.0|                        5.0|                            2.0|                              14.0|                              0.0|                                5.0|                 (15,[2],[1.0])|                   (15,[14],[1.0])|                    (3,[0],[1.0])|                     (13,[5],[1.0])|               59760.0|                   0.0|                 0.0|              0.0|                   7.0|                     3452.0|                          35700.0|      0.7247928|     0.68896693|       -0.8660254|              0.5|(57,[2,29,30,38,4...|(57,[2,29,30,38,4...| 478.7739982498028|\n",
      "|00477be89d6255ff1...|2022-04-20|2022-04-24|               DEN|     VH0ABEL1|       16920.0|          0|           0.0|         0.0|      1.0|  278.14|   313.60|           7.0|             1763.0|                       1650844800|    2022-04-24T20:00:...|                     1650861720|  2022-04-24T22:42:...|                       DEN|                         BOS|     JetBlue Airways|                 B6|                 Airbus A321|                  16920.0|            1763|            coach|            BOS|    4| 24|-0.98846835| 0.15142778|       1.0|  6.123234E-17|278.14|                    2.0|                      10.0|                      0.0|                        3.0|                            2.0|                              10.0|                              0.0|                                3.0|                 (15,[2],[1.0])|                   (15,[10],[1.0])|                    (3,[0],[1.0])|                     (13,[3],[1.0])|               16920.0|                   0.0|                 0.0|              1.0|                   7.0|                     1763.0|                          16920.0|    -0.98846835|     0.15142778|              1.0|     6.123234E-17|(57,[2,25,30,36,4...|(57,[2,25,30,36,4...|232.79034642622213|\n",
      "|005b77a75504b11a4...|2022-08-18|2022-09-19|               MIA|     M7AHZNN3|       12540.0|          0|           0.0|         0.0|      1.0|   87.44|   108.60|           7.0|             1260.0|                       1663625760|    2022-09-19T18:16:...|                     1663638300|  2022-09-19T21:45:...|                       MIA|                         BOS|     JetBlue Airways|                 B6|                 Airbus A321|                  12540.0|            1260|            coach|            BOS|    9| 19| -0.6513725| -0.7587581|-0.8660254|          -0.5| 87.44|                    2.0|                       8.0|                      0.0|                        3.0|                            2.0|                               8.0|                              0.0|                                3.0|                 (15,[2],[1.0])|                    (15,[8],[1.0])|                    (3,[0],[1.0])|                     (13,[3],[1.0])|               12540.0|                   0.0|                 0.0|              1.0|                   7.0|                     1260.0|                          12540.0|     -0.6513725|     -0.7587581|       -0.8660254|             -0.5|(57,[2,23,30,36,4...|(57,[2,23,30,36,4...|164.37645139116498|\n",
      "|005b77a75504b11a4...|2022-09-18|2022-09-19|               MIA|     V0AHZNN3|       12540.0|          0|           0.0|         0.0|      1.0|  171.16|   198.60|           7.0|             1260.0|                       1663625760|    2022-09-19T18:16:...|                     1663638300|  2022-09-19T21:45:...|                       MIA|                         BOS|     JetBlue Airways|                 B6|                 Airbus A321|                  12540.0|            1260|            coach|            BOS|    9| 19| -0.6513725| -0.7587581|-0.8660254|          -0.5|171.16|                    2.0|                       8.0|                      0.0|                        3.0|                            2.0|                               8.0|                              0.0|                                3.0|                 (15,[2],[1.0])|                    (15,[8],[1.0])|                    (3,[0],[1.0])|                     (13,[3],[1.0])|               12540.0|                   0.0|                 0.0|              1.0|                   7.0|                     1260.0|                          12540.0|     -0.6513725|     -0.7587581|       -0.8660254|             -0.5|(57,[2,23,30,36,4...|(57,[2,23,30,36,4...|164.37645139116498|\n",
      "|00664c9bd125790b6...|2022-07-28|2022-09-02|               LAX|     G7AZZNN1|       38880.0|          0|           0.0|         0.0|      0.0|  227.91|   268.60|           7.0|             2749.0|             1662148800||16621...|    2022-09-02T16:00:...|           1662164040||16621...|  2022-09-02T19:14:...|                  DFW||ONT|                    BOS||DFW|American Airlines...|                 AA|        Airbus A321||Airb...|                  26220.0|      1556||1193|            coach|            BOS|    9|  2| 0.39435586|  0.9189578|-0.8660254|          -0.5|227.91|                    2.0|                       0.0|                      0.0|                        0.0|                            2.0|                               0.0|                              0.0|                                0.0|                 (15,[2],[1.0])|                    (15,[0],[1.0])|                    (3,[0],[1.0])|                     (13,[0],[1.0])|               38880.0|                   0.0|                 0.0|              0.0|                   7.0|                     2749.0|                          26220.0|     0.39435586|      0.9189578|       -0.8660254|             -0.5|(57,[2,15,30,33,4...|(57,[2,15,30,33,4...|343.89023853964835|\n",
      "|006dc1f9e4fe2b376...|2022-04-22|2022-06-15|               LGA|     GI7AUEY5|        4800.0|          0|           0.0|         0.0|      1.0|   78.14|    98.60|           1.0|              185.0|                       1655301600|    2022-06-15T10:00:...|                     1655306400|  2022-06-15T11:20:...|                       LGA|                         BOS|   American Airlines|                 AA|                 Embraer 190|                   4800.0|             185|            coach|            BOS|    6| 15| 0.10116832|-0.99486935|       0.5|    -0.8660254| 78.14|                    2.0|                       1.0|                      0.0|                        0.0|                            2.0|                               1.0|                              0.0|                                0.0|                 (15,[2],[1.0])|                    (15,[1],[1.0])|                    (3,[0],[1.0])|                     (13,[0],[1.0])|                4800.0|                   0.0|                 0.0|              1.0|                   1.0|                      185.0|                           4800.0|     0.10116832|    -0.99486935|              0.5|       -0.8660254|(57,[2,16,30,33,4...|(57,[2,16,30,33,4...|173.03510617000663|\n",
      "|006dc1f9e4fe2b376...|2022-05-13|2022-06-15|               LGA|     QL2AUEY5|        4800.0|          0|           0.0|         0.0|      1.0|   60.47|    79.61|           3.0|              185.0|                       1655301600|    2022-06-15T10:00:...|                     1655306400|  2022-06-15T11:20:...|                       LGA|                         BOS|   American Airlines|                 AA|                 Embraer 190|                   4800.0|             185|            coach|            BOS|    6| 15| 0.10116832|-0.99486935|       0.5|    -0.8660254| 60.47|                    2.0|                       1.0|                      0.0|                        0.0|                            2.0|                               1.0|                              0.0|                                0.0|                 (15,[2],[1.0])|                    (15,[1],[1.0])|                    (3,[0],[1.0])|                     (13,[0],[1.0])|                4800.0|                   0.0|                 0.0|              1.0|                   3.0|                      185.0|                           4800.0|     0.10116832|    -0.99486935|              0.5|       -0.8660254|(57,[2,16,30,33,4...|(57,[2,16,30,33,4...|173.03510617000663|\n",
      "|008f8d8f6bbea655c...|2022-05-02|2022-06-17|               DEN|     HAA0OFEN|       16080.0|          0|           0.0|         0.0|      1.0|  385.12|   428.60|           9.0|             1763.0|                       1655460900|    2022-06-17T06:15:...|                     1655476980|  2022-06-17T08:43:...|                       DEN|                         BOS|              United|                 UA|            Boeing 737 MAX 9|                  16080.0|            1763|            coach|            BOS|    6| 17|-0.29936314|-0.95413923|       0.5|    -0.8660254|385.12|                    2.0|                      10.0|                      0.0|                        1.0|                            2.0|                              10.0|                              0.0|                                1.0|                 (15,[2],[1.0])|                   (15,[10],[1.0])|                    (3,[0],[1.0])|                     (13,[1],[1.0])|               16080.0|                   0.0|                 0.0|              1.0|                   9.0|                     1763.0|                          16080.0|    -0.29936314|    -0.95413923|              0.5|       -0.8660254|(57,[2,25,30,34,4...|(57,[2,25,30,34,4...|366.15005822700067|\n",
      "|008f8d8f6bbea655c...|2022-05-13|2022-06-17|               DEN|     QAA3OFEN|       16080.0|          0|           0.0|         0.0|      1.0|   329.3|   368.60|           3.0|             1763.0|                       1655460900|    2022-06-17T06:15:...|                     1655476980|  2022-06-17T08:43:...|                       DEN|                         BOS|              United|                 UA|            Boeing 737 MAX 9|                  16080.0|            1763|            coach|            BOS|    6| 17|-0.29936314|-0.95413923|       0.5|    -0.8660254|329.30|                    2.0|                      10.0|                      0.0|                        1.0|                            2.0|                              10.0|                              0.0|                                1.0|                 (15,[2],[1.0])|                   (15,[10],[1.0])|                    (3,[0],[1.0])|                     (13,[1],[1.0])|               16080.0|                   0.0|                 0.0|              1.0|                   3.0|                     1763.0|                          16080.0|    -0.29936314|    -0.95413923|              0.5|       -0.8660254|(57,[2,25,30,34,4...|(57,[2,25,30,34,4...|290.20577577426195|\n",
      "|009e8cd635278aff3...|2022-09-11|2022-10-13|               LAX|     QAA4AHEN|       31140.0|          0|           0.0|         0.0|      0.0|  453.96|   511.61|           7.0|             2701.0|             1665686520||16656...|    2022-10-13T14:42:...|           1665692700||16657...|  2022-10-13T16:25:...|                  IAD||LAX|                    BOS||IAD|United||Alaska Ai...|                 UA|        Boeing 737 MAX 9|...|                  26940.0|       406||2295|            coach|            BOS|   10| 13| 0.48530197| -0.8743466|      -1.0|-1.8369701E-16|453.96|                    2.0|                       0.0|                      0.0|                        1.0|                            2.0|                               0.0|                              0.0|                                1.0|                 (15,[2],[1.0])|                    (15,[0],[1.0])|                    (3,[0],[1.0])|                     (13,[1],[1.0])|               31140.0|                   0.0|                 0.0|              0.0|                   7.0|                     2701.0|                          26940.0|     0.48530197|     -0.8743466|             -1.0|   -1.8369701E-16|(57,[2,15,30,34,4...|(57,[2,15,30,34,4...|342.46018750908576|\n",
      "|00a372481643ef638...|2022-08-11|2022-09-27|               DFW|     M7AWZNN1|       15480.0|          0|           0.0|         0.0|      1.0|  362.79|   404.60|           7.0|             1556.0|                       1664282700|    2022-09-27T08:45:...|                     1664298180|  2022-09-27T12:03:...|                       DFW|                         BOS|   American Airlines|                 AA|              Boeing 737-800|                  15480.0|            1556|            coach|            BOS|    9| 27| -0.7247928| 0.68896693|-0.8660254|          -0.5|362.79|                    2.0|                       2.0|                      0.0|                        0.0|                            2.0|                               2.0|                              0.0|                                0.0|                 (15,[2],[1.0])|                    (15,[2],[1.0])|                    (3,[0],[1.0])|                     (13,[0],[1.0])|               15480.0|                   0.0|                 0.0|              1.0|                   7.0|                     1556.0|                          15480.0|     -0.7247928|     0.68896693|       -0.8660254|             -0.5|(57,[2,17,30,33,4...|(57,[2,17,30,33,4...| 271.8813586799212|\n",
      "|00a545d3bd743a4aa...|2022-08-04|2022-09-13|               EWR|     OVBIZSN3|       34440.0|          0|           0.0|         0.0|      0.0|  142.33|   182.21|           7.0|             1582.0|             1663093140||16631...|    2022-09-13T14:19:...|           1663103760||16631...|  2022-09-13T16:16:...|                  ORD||EWR|                    BOS||ORD|American Airlines...|                 AA|        Boeing 737-800||B...|                  18300.0|        862||720|            coach|            BOS|    9| 13| 0.48530197| -0.8743466|-0.8660254|          -0.5|142.33|                    2.0|                      13.0|                      0.0|                        0.0|                            2.0|                              13.0|                              0.0|                                0.0|                 (15,[2],[1.0])|                   (15,[13],[1.0])|                    (3,[0],[1.0])|                     (13,[0],[1.0])|               34440.0|                   0.0|                 0.0|              0.0|                   7.0|                     1582.0|                          18300.0|     0.48530197|     -0.8743466|       -0.8660254|             -0.5|(57,[2,28,30,33,4...|(57,[2,28,30,33,4...| 267.6544318319305|\n",
      "|00a545d3bd743a4aa...|2022-08-12|2022-09-13|               EWR|     OUBHZNB3|       34440.0|          0|           1.0|         0.0|      0.0|  128.37|   167.20|           7.0|             1582.0|             1663093140||16631...|    2022-09-13T14:19:...|           1663103760||16631...|  2022-09-13T16:16:...|                  ORD||EWR|                    BOS||ORD|American Airlines...|                 AA|        Boeing 737-800||B...|                  18300.0|        862||720|            coach|            BOS|    9| 13| 0.48530197| -0.8743466|-0.8660254|          -0.5|128.37|                    2.0|                      13.0|                      0.0|                        0.0|                            2.0|                              13.0|                              0.0|                                0.0|                 (15,[2],[1.0])|                   (15,[13],[1.0])|                    (3,[0],[1.0])|                     (13,[0],[1.0])|               34440.0|                   1.0|                 0.0|              0.0|                   7.0|                     1582.0|                          18300.0|     0.48530197|     -0.8743466|       -0.8660254|             -0.5|(57,[2,28,30,33,4...|(57,[2,28,30,33,4...|176.24988564174873|\n",
      "+--------------------+----------+----------+------------------+-------------+--------------+-----------+--------------+------------+---------+--------+---------+--------------+-------------------+---------------------------------+------------------------+-------------------------------+----------------------+--------------------------+----------------------------+--------------------+-------------------+----------------------------+-------------------------+----------------+-----------------+---------------+-----+---+-----------+-----------+----------+--------------+------+-----------------------+--------------------------+-------------------------+---------------------------+-------------------------------+----------------------------------+---------------------------------+-----------------------------------+-------------------------------+----------------------------------+---------------------------------+-----------------------------------+----------------------+----------------------+--------------------+-----------------+----------------------+---------------------------+---------------------------------+---------------+---------------+-----------------+-----------------+--------------------+--------------------+------------------+\n",
      "only showing top 20 rows\n",
      "\n"
     ]
    }
   ],
   "source": [
    "predictions = model1.transform(test_data)\n",
    "predictions.show()"
   ]
  },
  {
   "cell_type": "code",
   "execution_count": 21,
   "id": "096936c5-a575-48b7-92d2-be22893e892c",
   "metadata": {},
   "outputs": [
    {
     "data": {
      "text/plain": [
       "''"
      ]
     },
     "execution_count": 21,
     "metadata": {},
     "output_type": "execute_result"
    }
   ],
   "source": [
    "predictions.select(\"label\", \"prediction\")\\\n",
    "    .coalesce(1)\\\n",
    "    .write\\\n",
    "    .mode(\"overwrite\")\\\n",
    "    .format(\"csv\")\\\n",
    "    .option(\"sep\", \",\")\\\n",
    "    .option(\"header\",\"true\")\\\n",
    "    .save(\"project/output/model1_predictions.csv\")\n",
    "\n",
    "# Run it from root directory of the repository\n",
    "run(\"hdfs dfs -cat project/output/model1_predictions.csv/*.csv > output/model1_predictions.csv\")"
   ]
  },
  {
   "cell_type": "markdown",
   "id": "89f9a43d-80ce-4ec1-930f-671a240673d9",
   "metadata": {},
   "source": [
    "## Evaluate the best model1"
   ]
  },
  {
   "cell_type": "code",
   "execution_count": 22,
   "id": "1d0cc0e6-7d0d-4030-a372-375e5e9b84f7",
   "metadata": {},
   "outputs": [
    {
     "name": "stdout",
     "output_type": "stream",
     "text": [
      "Root Mean Squared Error (RMSE) on test data = 119.95159936371351\n",
      "R^2 on test data = 0.5717973116498679\n"
     ]
    }
   ],
   "source": [
    "from pyspark.ml.evaluation import RegressionEvaluator \n",
    "\n",
    "# Evaluate the performance of the model\n",
    "evaluator1_rmse = RegressionEvaluator(labelCol=\"label\", predictionCol=\"prediction\", metricName=\"rmse\")\n",
    "evaluator1_r2 = RegressionEvaluator(labelCol=\"label\", predictionCol=\"prediction\", metricName=\"r2\")\n",
    "\n",
    "rmse1 = evaluator1_rmse.evaluate(predictions)\n",
    "r21 = evaluator1_r2.evaluate(predictions)\n",
    "\n",
    "print(\"Root Mean Squared Error (RMSE) on test data = {}\".format(rmse1))\n",
    "print(\"R^2 on test data = {}\".format(r21))"
   ]
  },
  {
   "cell_type": "markdown",
   "id": "5308587c-3e52-41c6-ba7d-494d53cc45b1",
   "metadata": {},
   "source": [
    "# Second model"
   ]
  },
  {
   "cell_type": "markdown",
   "id": "d929b5a0-a159-4c94-ae56-086d3cf52df0",
   "metadata": {},
   "source": [
    "## Build a model"
   ]
  },
  {
   "cell_type": "code",
   "execution_count": 23,
   "id": "55d8981a-e274-4ab7-9d03-fefdc068b51b",
   "metadata": {},
   "outputs": [],
   "source": [
    "from pyspark.ml.regression import RandomForestRegressor\n",
    "\n",
    "# Create Linear Regression Model\n",
    "rf = RandomForestRegressor()\n",
    "\n",
    "# Fit the data to the pipeline stages\n",
    "model_rf = rf.fit(train_data)"
   ]
  },
  {
   "cell_type": "markdown",
   "id": "7b1c9a67-fe61-49fe-898f-017df0c4006b",
   "metadata": {},
   "source": [
    "## Predict for test data"
   ]
  },
  {
   "cell_type": "code",
   "execution_count": 24,
   "id": "6cb95001-9d15-4da4-98df-2b87c0c39200",
   "metadata": {},
   "outputs": [
    {
     "name": "stdout",
     "output_type": "stream",
     "text": [
      "+--------------------+----------+----------+------------------+-------------+--------------+-----------+--------------+------------+---------+--------+---------+--------------+-------------------+---------------------------------+------------------------+-------------------------------+----------------------+--------------------------+----------------------------+--------------------+-------------------+----------------------------+-------------------------+----------------+-----------------+---------------+-----+---+-----------+-----------+-------------+--------------+-------+-----------------------+--------------------------+-------------------------+---------------------------+-------------------------------+----------------------------------+---------------------------------+-----------------------------------+-------------------------------+----------------------------------+---------------------------------+-----------------------------------+----------------------+----------------------+--------------------+-----------------+----------------------+---------------------------+---------------------------------+---------------+---------------+-----------------+-----------------+--------------------+--------------------+------------------+\n",
      "|               legid|searchdate|flightDate|destinationAirport|farebasiscode|travelDuration|elapseddays|isBasicEconomy|isRefundable|isNonStop|baseFare|totalfare|seatsRemaining|totalTravelDistance|segmentsdeparturetimeepochseconds|segmentsdeparturetimeraw|segmentsarrivaltimeepochseconds|segmentsarrivaltimeraw|segmentsarrivalairportcode|segmentsdepartureairportcode| segmentsairlinename|segmentsAirlineCode|segmentsequipmentdescription|segmentsDurationInSeconds|segmentsdistance|segmentsCabinCode|startingAirport|month|day|    day_sin|    day_cos|    month_sin|     month_cos|  label|startingAirport_indexed|destinationAirport_indexed|segmentsCabinCode_indexed|segmentsAirlineCode_indexed|startingAirport_indexed_imputed|destinationAirport_indexed_imputed|segmentsCabinCode_indexed_imputed|segmentsAirlineCode_indexed_imputed|startingAirport_indexed_encoded|destinationAirport_indexed_encoded|segmentsCabinCode_indexed_encoded|segmentsAirlineCode_indexed_encoded|travelDuration_imputed|isBasicEconomy_imputed|isRefundable_imputed|isNonStop_imputed|seatsRemaining_imputed|totalTravelDistance_imputed|segmentsDurationInSeconds_imputed|day_sin_imputed|day_cos_imputed|month_sin_imputed|month_cos_imputed|   nonscaledfeatures|            features|        prediction|\n",
      "+--------------------+----------+----------+------------------+-------------+--------------+-----------+--------------+------------+---------+--------+---------+--------------+-------------------+---------------------------------+------------------------+-------------------------------+----------------------+--------------------------+----------------------------+--------------------+-------------------+----------------------------+-------------------------+----------------+-----------------+---------------+-----+---+-----------+-----------+-------------+--------------+-------+-----------------------+--------------------------+-------------------------+---------------------------+-------------------------------+----------------------------------+---------------------------------+-----------------------------------+-------------------------------+----------------------------------+---------------------------------+-----------------------------------+----------------------+----------------------+--------------------+-----------------+----------------------+---------------------------+---------------------------------+---------------+---------------+-----------------+-----------------+--------------------+--------------------+------------------+\n",
      "|000327e34b10dc16a...|2022-07-28|2022-09-07|               LAX|     OH2OAVBN|       39600.0|          0|           1.0|         0.0|      0.0|  128.37|   167.20|           7.0|             1378.0|             1662567900||16625...|    2022-09-07T09:25:...|           1662573660||16626...|  2022-09-07T11:01:...|                  PDX||LAX|                    OAK||PDX|Alaska Airlines||...|                 AS|        Embraer 175||Boei...|                  14460.0|        543||835|            coach|            OAK|    9|  7| 0.98846835| 0.15142778|   -0.8660254|          -0.5| 128.37|                   14.0|                       0.0|                      0.0|                        5.0|                           14.0|                               0.0|                              0.0|                                5.0|                (15,[14],[1.0])|                    (15,[0],[1.0])|                    (3,[0],[1.0])|                     (13,[5],[1.0])|               39600.0|                   1.0|                 0.0|              0.0|                   7.0|                     1378.0|                          14460.0|     0.98846835|     0.15142778|       -0.8660254|             -0.5|(57,[14,15,30,38,...|(57,[14,15,30,38,...| 192.2124834742907|\n",
      "|000a18a0739433c8e...|2022-05-19|2022-06-28|               ORD|          YNR|       30780.0|          0|           0.0|         0.0|      0.0|   234.0|   341.58|           0.0|               null|             1656435900||16564...|    2022-06-28T10:05:...|           1656441480||16564...|  2022-06-28T11:38:...|                  LAS||ORD|                    OAK||LAS|Spirit Airlines||...|                 NK|        AIRBUS INDUSTRIE ...|                  18900.0|      None||None|            coach|            OAK|    6| 28| -0.5712682| 0.82076347|          0.5|    -0.8660254| 234.00|                   14.0|                       4.0|                      0.0|                        4.0|                           14.0|                               4.0|                              0.0|                                4.0|                (15,[14],[1.0])|                    (15,[4],[1.0])|                    (3,[0],[1.0])|                     (13,[4],[1.0])|               30780.0|                   0.0|                 0.0|              0.0|                   0.0|                  1611.5007|                          18900.0|     -0.5712682|     0.82076347|              0.5|       -0.8660254|(57,[14,19,30,37,...|(57,[14,19,30,37,...|147.67403517418694|\n",
      "|00183c7420513ac48...|2022-10-01|2022-11-08|               CLT|     GH4ODVMN|       69480.0|          1|           0.0|         0.0|      0.0|  388.84|   451.70|           7.0|             3616.0|             1667941500||16679...|    2022-11-08T13:05:...|           1667949000||16679...|  2022-11-08T15:10:...|             SEA||EWR||CLT|               OAK||SEA||EWR|Alaska Airlines||...|                 UA|        Boeing 737-800||B...|                  34260.0|  672||2406||538|            coach|            OAK|   11|  8| 0.99871653|-0.05064917|   -0.8660254|           0.5| 388.84|                   14.0|                       6.0|                      0.0|                        1.0|                           14.0|                               6.0|                              0.0|                                1.0|                (15,[14],[1.0])|                    (15,[6],[1.0])|                    (3,[0],[1.0])|                     (13,[1],[1.0])|               69480.0|                   0.0|                 0.0|              0.0|                   7.0|                     3616.0|                          34260.0|     0.99871653|    -0.05064917|       -0.8660254|              0.5|(57,[14,21,30,34,...|(57,[14,21,30,34,...| 506.8881975584651|\n",
      "|001e86b9780a3ec90...|2022-09-03|2022-10-06|               DTW|        PA7NR|       33480.0|          0|           0.0|         0.0|      0.0|   216.0|   247.58|           0.0|               null|             1665063300||16650...|    2022-10-06T06:35:...|           1665068100||16650...|  2022-10-06T07:55:...|                  LAX||DTW|                    OAK||LAX|Spirit Airlines||...|                 NK|        AIRBUS INDUSTRIE ...|                  20880.0|      None||None|            coach|            OAK|   10|  6|  0.9377521| 0.34730524|         -1.0|-1.8369701E-16| 216.00|                   14.0|                      11.0|                      0.0|                        4.0|                           14.0|                              11.0|                              0.0|                                4.0|                (15,[14],[1.0])|                   (15,[11],[1.0])|                    (3,[0],[1.0])|                     (13,[4],[1.0])|               33480.0|                   0.0|                 0.0|              0.0|                   0.0|                  1611.5007|                          20880.0|      0.9377521|     0.34730524|             -1.0|   -1.8369701E-16|(57,[14,26,30,37,...|(57,[14,26,30,37,...|125.86339511126502|\n",
      "|001e86b9780a3ec90...|2022-09-11|2022-10-06|               DTW|        PA7NR|       33480.0|          0|           0.0|         0.0|      0.0|   100.0|   131.58|           0.0|               null|             1665063300||16650...|    2022-10-06T06:35:...|           1665068100||16650...|  2022-10-06T07:55:...|                  LAX||DTW|                    OAK||LAX|Spirit Airlines||...|                 NK|        AIRBUS INDUSTRIE ...|                  20880.0|      None||None|            coach|            OAK|   10|  6|  0.9377521| 0.34730524|         -1.0|-1.8369701E-16| 100.00|                   14.0|                      11.0|                      0.0|                        4.0|                           14.0|                              11.0|                              0.0|                                4.0|                (15,[14],[1.0])|                   (15,[11],[1.0])|                    (3,[0],[1.0])|                     (13,[4],[1.0])|               33480.0|                   0.0|                 0.0|              0.0|                   0.0|                  1611.5007|                          20880.0|      0.9377521|     0.34730524|             -1.0|   -1.8369701E-16|(57,[14,26,30,37,...|(57,[14,26,30,37,...|125.86339511126502|\n",
      "|001e8bbfac14c62e2...|2022-08-22|2022-09-09|               DTW|     KA7OA0MC|       50340.0|          1|           0.0|         0.0|      0.0|  484.65|   549.10|           7.0|             3281.0|             1662732240||16627...|    2022-09-09T07:04:...|           1662738000||16627...|  2022-09-09T08:40:...|             LAX||EWR||DTW|               OAK||LAX||EWR|Delta||United||Un...|                 UA|        Embraer 175 (Enha...|                  32280.0|  338||2458||485|            coach|            OAK|    9|  9|  0.9680771|-0.25065252|   -0.8660254|          -0.5| 484.65|                   14.0|                      11.0|                      0.0|                        1.0|                           14.0|                              11.0|                              0.0|                                1.0|                (15,[14],[1.0])|                   (15,[11],[1.0])|                    (3,[0],[1.0])|                     (13,[1],[1.0])|               50340.0|                   0.0|                 0.0|              0.0|                   7.0|                     3281.0|                          32280.0|      0.9680771|    -0.25065252|       -0.8660254|             -0.5|(57,[14,26,30,34,...|(57,[14,26,30,34,...|501.60400987521416|\n",
      "|0026bd0e18acd1ed4...|2022-09-21|2022-10-12|               DTW|     XAVNA0ME|       33060.0|          1|           0.0|         0.0|      0.0|  379.54|   437.21|           4.0|             2074.0|             1665619560||16656...|    2022-10-12T17:06:...|           1665625980||16656...|  2022-10-12T19:53:...|                  SLC||DTW|                    OAK||SLC|        Delta||Delta|                 DL|        Embraer 175 (Enha...|                  18540.0|       588||1486|            coach|            OAK|   10| 12|  0.6513725| -0.7587581|         -1.0|-1.8369701E-16| 379.54|                   14.0|                      11.0|                      0.0|                        2.0|                           14.0|                              11.0|                              0.0|                                2.0|                (15,[14],[1.0])|                   (15,[11],[1.0])|                    (3,[0],[1.0])|                     (13,[2],[1.0])|               33060.0|                   0.0|                 0.0|              0.0|                   4.0|                     2074.0|                          18540.0|      0.6513725|     -0.7587581|             -1.0|   -1.8369701E-16|(57,[14,26,30,35,...|(57,[14,26,30,35,...| 410.8600330985849|\n",
      "|00334b0589538e3c0...|2022-07-04|2022-08-23|               EWR|     OH2OAVMN|       50880.0|          1|           0.0|         0.0|      0.0|  370.23|   427.20|           7.0|             3069.0|             1661284620||16613...|    2022-08-23T12:57:...|           1661292120||16613...|  2022-08-23T15:02:...|                  SEA||EWR|                    OAK||SEA|Alaska Airlines||...|                 AS|        Boeing 737-700||B...|                  26100.0|       672||2397|            coach|            OAK|    8| 23|-0.99871653|-0.05064917|         -0.5|    -0.8660254| 370.23|                   14.0|                      13.0|                      0.0|                        5.0|                           14.0|                              13.0|                              0.0|                                5.0|                (15,[14],[1.0])|                   (15,[13],[1.0])|                    (3,[0],[1.0])|                     (13,[5],[1.0])|               50880.0|                   0.0|                 0.0|              0.0|                   7.0|                     3069.0|                          26100.0|    -0.99871653|    -0.05064917|             -0.5|       -0.8660254|(57,[14,28,30,38,...|(57,[14,28,30,38,...| 465.2758251780906|\n",
      "|003881bf4eb5905bb...|2022-07-26|2022-08-30|               BOS|     OH2OAVMN|       67980.0|          1|           0.0|         0.0|      0.0|  412.09|   476.70|           7.0|             3452.0|             1661871660||16619...|    2022-08-30T08:01:...|           1661879400||16619...|  2022-08-30T10:10:...|             SEA||DEN||BOS|               OAK||SEA||DEN|Alaska Airlines||...|                 UA|        Boeing 737-900||B...|                  31440.0| 672||1017||1763|            coach|            OAK|    8| 30|-0.20129852|  0.9795299|         -0.5|    -0.8660254| 412.09|                   14.0|                       3.0|                      0.0|                        1.0|                           14.0|                               3.0|                              0.0|                                1.0|                (15,[14],[1.0])|                    (15,[3],[1.0])|                    (3,[0],[1.0])|                     (13,[1],[1.0])|               67980.0|                   0.0|                 0.0|              0.0|                   7.0|                     3452.0|                          31440.0|    -0.20129852|      0.9795299|             -0.5|       -0.8660254|(57,[14,18,30,34,...|(57,[14,18,30,34,...| 501.5202037733778|\n",
      "|003f139a3da739303...|2022-09-17|2022-09-26|               SFO|     QH7OAJMN|       43920.0|          0|           0.0|         0.0|      0.0|  314.42|   370.60|           7.0|             1594.0|             1664200800||16642...|    2022-09-26T07:00:...|           1664208600||16642...|  2022-09-26T09:10:...|             SEA||BOI||SFO|               OAK||SEA||BOI|Alaska Airlines||...|                 AS|        Boeing 737-900||D...|                  19740.0|   672||399||523|            coach|            OAK|    9| 26|-0.84864426|   0.528964|   -0.8660254|          -0.5| 314.42|                   14.0|                       5.0|                      0.0|                        5.0|                           14.0|                               5.0|                              0.0|                                5.0|                (15,[14],[1.0])|                    (15,[5],[1.0])|                    (3,[0],[1.0])|                     (13,[5],[1.0])|               43920.0|                   0.0|                 0.0|              0.0|                   7.0|                     1594.0|                          19740.0|    -0.84864426|       0.528964|       -0.8660254|             -0.5|(57,[14,20,30,38,...|(57,[14,20,30,38,...|  323.715348010198|\n",
      "|0046e7a450eea681d...|2022-06-08|2022-06-30|               DFW|     KAUOA0MC|       35880.0|          0|           0.0|         0.0|      0.0|  640.93|   717.10|           9.0|             1836.0|             1656614760||16566...|    2022-06-30T11:46:...|           1656619800||16566...|  2022-06-30T13:10:...|             LAX||DEN||DFW|               OAK||LAX||DEN|Delta||United||Un...|                 UA|        Embraer 175 (Enha...|                  20760.0|   338||848||650|            coach|            OAK|    6| 30|-0.20129852|  0.9795299|          0.5|    -0.8660254| 640.93|                   14.0|                       2.0|                      0.0|                        1.0|                           14.0|                               2.0|                              0.0|                                1.0|                (15,[14],[1.0])|                    (15,[2],[1.0])|                    (3,[0],[1.0])|                     (13,[1],[1.0])|               35880.0|                   0.0|                 0.0|              0.0|                   9.0|                     1836.0|                          20760.0|    -0.20129852|      0.9795299|              0.5|       -0.8660254|(57,[14,17,30,34,...|(57,[14,17,30,34,...|375.89998080765554|\n",
      "|004a5eca2075b10cb...|2022-05-26|2022-06-15|               DTW|     KA3UA0MC|       34020.0|          0|           0.0|         0.0|      0.0|  841.86|   933.10|           3.0|             2323.0|             1655304480||16553...|    2022-06-15T07:48:...|           1655309700||16553...|  2022-06-15T09:15:...|             LAX||ORD||DTW|               OAK||LAX||ORD|Delta||United||Un...|                 UA|        Embraer 175 (Enha...|                  25080.0|  338||1745||240|            coach|            OAK|    6| 15| 0.10116832|-0.99486935|          0.5|    -0.8660254| 841.86|                   14.0|                      11.0|                      0.0|                        1.0|                           14.0|                              11.0|                              0.0|                                1.0|                (15,[14],[1.0])|                   (15,[11],[1.0])|                    (3,[0],[1.0])|                     (13,[1],[1.0])|               34020.0|                   0.0|                 0.0|              0.0|                   3.0|                     2323.0|                          25080.0|     0.10116832|    -0.99486935|              0.5|       -0.8660254|(57,[14,26,30,34,...|(57,[14,26,30,34,...|505.85518700824724|\n",
      "|0055d4fb1bea3f26a...|2022-08-16|2022-08-18|               BOS|        YASAA|       69180.0|          1|           0.0|         0.0|      0.0|  974.89|  1081.71|           7.0|             3324.0|             1660852620||16608...|    2022-08-18T12:57:...|           1660860120||16609...|  2022-08-18T15:02:...|             SEA||PHL||BOS|               OAK||SEA||PHL|American Airlines...|                 AA|        Boeing 737||Airbu...|                  30780.0|  672||2372||280|            coach|            OAK|    8| 18|-0.48530197| -0.8743466|         -0.5|    -0.8660254| 974.89|                   14.0|                       3.0|                      0.0|                        0.0|                           14.0|                               3.0|                              0.0|                                0.0|                (15,[14],[1.0])|                    (15,[3],[1.0])|                    (3,[0],[1.0])|                     (13,[0],[1.0])|               69180.0|                   0.0|                 0.0|              0.0|                   7.0|                     3324.0|                          30780.0|    -0.48530197|     -0.8743466|             -0.5|       -0.8660254|(57,[14,18,30,33,...|(57,[14,18,30,33,...| 678.8555199127707|\n",
      "|0056841e23b9badb5...|2022-04-21|2022-06-16|               LGA|     HH0OASMN|       37620.0|          0|           0.0|         0.0|      0.0|   938.6|  1037.10|           7.0|             3076.0|             1655399640||16554...|    2022-06-16T10:14:...|           1655406720||16554...|  2022-06-16T12:12:...|             SEA||MSP||LGA|               OAK||SEA||MSP|Alaska Airlines||...|                 AS|        Embraer 175||Boei...|                  28920.0| 672||1395||1009|            coach|            OAK|    6| 16|-0.10116832|-0.99486935|          0.5|    -0.8660254| 938.60|                   14.0|                       1.0|                      0.0|                        5.0|                           14.0|                               1.0|                              0.0|                                5.0|                (15,[14],[1.0])|                    (15,[1],[1.0])|                    (3,[0],[1.0])|                     (13,[5],[1.0])|               37620.0|                   0.0|                 0.0|              0.0|                   7.0|                     3076.0|                          28920.0|    -0.10116832|    -0.99486935|              0.5|       -0.8660254|(57,[14,16,30,38,...|(57,[14,16,30,38,...| 536.2675908825188|\n",
      "|0070dc351ba1062a7...|2022-05-23|2022-06-05|               BOS|        YASR1|       53580.0|          1|           0.0|         0.0|      0.0| 1021.76|  1127.59|           7.0|               null|             1654457100||16544...|    2022-06-05T12:25:...|           1654464300||16545...|  2022-06-05T14:25:...|                  SEA||BOS|                    OAK||SEA|Alaska Airlines||...|                 AS|        Embraer 175||Boei...|                  26280.0|      None||None|            coach|            OAK|    6|  5| 0.84864426|   0.528964|          0.5|    -0.8660254|1021.76|                   14.0|                       3.0|                      0.0|                        5.0|                           14.0|                               3.0|                              0.0|                                5.0|                (15,[14],[1.0])|                    (15,[3],[1.0])|                    (3,[0],[1.0])|                     (13,[5],[1.0])|               53580.0|                   0.0|                 0.0|              0.0|                   7.0|                  1611.5007|                          26280.0|     0.84864426|       0.528964|              0.5|       -0.8660254|(57,[14,18,30,38,...|(57,[14,18,30,38,...|371.23445713514235|\n",
      "|0070dc351ba1062a7...|2022-05-23|2022-06-05|               BOS|        YASR1|       53580.0|          1|           0.0|         0.0|      0.0| 1021.76|  1127.59|           7.0|               null|             1654457100||16544...|    2022-06-05T12:25:...|           1654464300||16545...|  2022-06-05T14:25:...|                  SEA||BOS|                    OAK||SEA|Alaska Airlines||...|                 AS|        Embraer 175||Boei...|                  26280.0|      None||None|            coach|            OAK|    6|  5| 0.84864426|   0.528964|          0.5|    -0.8660254|1021.76|                   14.0|                       3.0|                      0.0|                        5.0|                           14.0|                               3.0|                              0.0|                                5.0|                (15,[14],[1.0])|                    (15,[3],[1.0])|                    (3,[0],[1.0])|                     (13,[5],[1.0])|               53580.0|                   0.0|                 0.0|              0.0|                   7.0|                  1611.5007|                          26280.0|     0.84864426|       0.528964|              0.5|       -0.8660254|(57,[14,18,30,38,...|(57,[14,18,30,38,...|371.23445713514235|\n",
      "|0087dd43f5b1d224b...|2022-08-11|2022-10-02|               ORD|     GH2OAVMN|       25200.0|          0|           0.0|         0.0|      0.0|  277.21|   321.60|           7.0|             2395.0|             1664719200||16647...|    2022-10-02T07:00:...|           1664727000||16647...|  2022-10-02T09:10:...|                  SEA||ORD|                    OAK||SEA|Alaska Airlines||...|                 AS|        Boeing 737-900||B...|                  22800.0|       672||1723|            coach|            OAK|   10|  2| 0.39435586|  0.9189578|         -1.0|-1.8369701E-16| 277.21|                   14.0|                       4.0|                      0.0|                        5.0|                           14.0|                               4.0|                              0.0|                                5.0|                (15,[14],[1.0])|                    (15,[4],[1.0])|                    (3,[0],[1.0])|                     (13,[5],[1.0])|               25200.0|                   0.0|                 0.0|              0.0|                   7.0|                     2395.0|                          22800.0|     0.39435586|      0.9189578|             -1.0|   -1.8369701E-16|(57,[14,19,30,38,...|(57,[14,19,30,38,...| 445.3527672513554|\n",
      "|0087dd43f5b1d224b...|2022-08-17|2022-10-02|               ORD|     NH2OASBN|       25200.0|          0|           1.0|         0.0|      0.0|  245.58|   287.60|           7.0|             2395.0|             1664719200||16647...|    2022-10-02T07:00:...|           1664727000||16647...|  2022-10-02T09:10:...|                  SEA||ORD|                    OAK||SEA|Alaska Airlines||...|                 AS|        Boeing 737-900||B...|                  22800.0|       672||1723|            coach|            OAK|   10|  2| 0.39435586|  0.9189578|         -1.0|-1.8369701E-16| 245.58|                   14.0|                       4.0|                      0.0|                        5.0|                           14.0|                               4.0|                              0.0|                                5.0|                (15,[14],[1.0])|                    (15,[4],[1.0])|                    (3,[0],[1.0])|                     (13,[5],[1.0])|               25200.0|                   1.0|                 0.0|              0.0|                   7.0|                     2395.0|                          22800.0|     0.39435586|      0.9189578|             -1.0|   -1.8369701E-16|(57,[14,19,30,38,...|(57,[14,19,30,38,...| 259.2971408311786|\n",
      "|009b2fa08ab966ed9...|2022-08-14|2022-09-19|               BOS|     SH7OAJMN|       48600.0|          1|           0.0|         0.0|      0.0|  565.93|   636.48|           7.0|             3257.0|             1663641960||16636...|    2022-09-19T19:46:...|           1663649400||16636...|  2022-09-19T21:50:...|             SEA||ORD||BOS|               OAK||SEA||ORD|Alaska Airlines||...|                 AS|        Embraer 175||AIRB...|                  30120.0|  672||1723||862|            coach|            OAK|    9| 19| -0.6513725| -0.7587581|   -0.8660254|          -0.5| 565.93|                   14.0|                       3.0|                      0.0|                        5.0|                           14.0|                               3.0|                              0.0|                                5.0|                (15,[14],[1.0])|                    (15,[3],[1.0])|                    (3,[0],[1.0])|                     (13,[5],[1.0])|               48600.0|                   0.0|                 0.0|              0.0|                   7.0|                     3257.0|                          30120.0|     -0.6513725|     -0.7587581|       -0.8660254|             -0.5|(57,[14,18,30,38,...|(57,[14,18,30,38,...|501.60400987521416|\n",
      "|009be2583f43d89ac...|2022-06-30|2022-07-29|               ORD|     KA0NA0MC|       47040.0|          0|           0.0|         0.0|      0.0|  621.39|   696.09|           4.0|             2654.0|             1659106080||16591...|    2022-07-29T07:48:...|           1659111300||16591...|  2022-07-29T09:15:...|             LAX||IAH||ORD|               OAK||LAX||IAH|Delta||United||Un...|                 UA|        Embraer 175 (Enha...|                  27360.0|  338||1383||933|            coach|            OAK|    7| 29|-0.39435586|  0.9189578|1.2246469E-16|          -1.0| 621.39|                   14.0|                       4.0|                      0.0|                        1.0|                           14.0|                               4.0|                              0.0|                                1.0|                (15,[14],[1.0])|                    (15,[4],[1.0])|                    (3,[0],[1.0])|                     (13,[1],[1.0])|               47040.0|                   0.0|                 0.0|              0.0|                   4.0|                     2654.0|                          27360.0|    -0.39435586|      0.9189578|    1.2246469E-16|             -1.0|(57,[14,19,30,34,...|(57,[14,19,30,34,...|  510.029083003144|\n",
      "+--------------------+----------+----------+------------------+-------------+--------------+-----------+--------------+------------+---------+--------+---------+--------------+-------------------+---------------------------------+------------------------+-------------------------------+----------------------+--------------------------+----------------------------+--------------------+-------------------+----------------------------+-------------------------+----------------+-----------------+---------------+-----+---+-----------+-----------+-------------+--------------+-------+-----------------------+--------------------------+-------------------------+---------------------------+-------------------------------+----------------------------------+---------------------------------+-----------------------------------+-------------------------------+----------------------------------+---------------------------------+-----------------------------------+----------------------+----------------------+--------------------+-----------------+----------------------+---------------------------+---------------------------------+---------------+---------------+-----------------+-----------------+--------------------+--------------------+------------------+\n",
      "only showing top 20 rows\n",
      "\n"
     ]
    }
   ],
   "source": [
    "predictions = model_rf.transform(test_data)\n",
    "predictions.show()"
   ]
  },
  {
   "cell_type": "markdown",
   "id": "6c94da6f-f913-45ec-a377-d9c42dacb075",
   "metadata": {},
   "source": [
    "## Evaluate the model"
   ]
  },
  {
   "cell_type": "code",
   "execution_count": 25,
   "id": "f3508997-af5a-4882-8fd6-8d0a5be07ccb",
   "metadata": {},
   "outputs": [
    {
     "name": "stdout",
     "output_type": "stream",
     "text": [
      "Root Mean Squared Error (RMSE) on test data = 130.1153372693691\n",
      "R^2 on test data = 0.4943987826924128\n"
     ]
    }
   ],
   "source": [
    "from pyspark.ml.evaluation import RegressionEvaluator \n",
    "\n",
    "# Evaluate the performance of the model\n",
    "evaluator2_rmse = RegressionEvaluator(labelCol=\"label\", predictionCol=\"prediction\", metricName=\"rmse\")\n",
    "evaluator2_r2 = RegressionEvaluator(labelCol=\"label\", predictionCol=\"prediction\", metricName=\"r2\")\n",
    "\n",
    "rmse2 = evaluator2_rmse.evaluate(predictions)\n",
    "r22 = evaluator2_r2.evaluate(predictions)\n",
    "\n",
    "print(\"Root Mean Squared Error (RMSE) on test data = {}\".format(rmse2))\n",
    "print(\"R^2 on test data = {}\".format(r22))"
   ]
  },
  {
   "cell_type": "markdown",
   "id": "943a2d06-39bd-4c71-b0cc-18a63d995949",
   "metadata": {},
   "source": [
    "## Hyperparameter optimization"
   ]
  },
  {
   "cell_type": "code",
   "execution_count": 26,
   "id": "b99e50b9-5090-45ed-bfa7-7ddca0706176",
   "metadata": {},
   "outputs": [
    {
     "data": {
      "text/plain": [
       "[Param(parent='RandomForestRegressor_c11ddb253bc9', name='bootstrap', doc='Whether bootstrap samples are used when building trees.'),\n",
       " Param(parent='RandomForestRegressor_c11ddb253bc9', name='cacheNodeIds', doc='If false, the algorithm will pass trees to executors to match instances with nodes. If true, the algorithm will cache node IDs for each instance. Caching can speed up training of deeper trees. Users can set how often should the cache be checkpointed or disable it by setting checkpointInterval.'),\n",
       " Param(parent='RandomForestRegressor_c11ddb253bc9', name='checkpointInterval', doc='set checkpoint interval (>= 1) or disable checkpoint (-1). E.g. 10 means that the cache will get checkpointed every 10 iterations. Note: this setting will be ignored if the checkpoint directory is not set in the SparkContext.'),\n",
       " Param(parent='RandomForestRegressor_c11ddb253bc9', name='featureSubsetStrategy', doc=\"The number of features to consider for splits at each tree node. Supported options: 'auto' (choose automatically for task: If numTrees == 1, set to 'all'. If numTrees > 1 (forest), set to 'sqrt' for classification and to 'onethird' for regression), 'all' (use all features), 'onethird' (use 1/3 of the features), 'sqrt' (use sqrt(number of features)), 'log2' (use log2(number of features)), 'n' (when n is in the range (0, 1.0], use n * number of features. When n is in the range (1, number of features), use n features). default = 'auto'\"),\n",
       " Param(parent='RandomForestRegressor_c11ddb253bc9', name='featuresCol', doc='features column name.'),\n",
       " Param(parent='RandomForestRegressor_c11ddb253bc9', name='impurity', doc='Criterion used for information gain calculation (case-insensitive). Supported options: variance'),\n",
       " Param(parent='RandomForestRegressor_c11ddb253bc9', name='labelCol', doc='label column name.'),\n",
       " Param(parent='RandomForestRegressor_c11ddb253bc9', name='leafCol', doc='Leaf indices column name. Predicted leaf index of each instance in each tree by preorder.'),\n",
       " Param(parent='RandomForestRegressor_c11ddb253bc9', name='maxBins', doc='Max number of bins for discretizing continuous features.  Must be >=2 and >= number of categories for any categorical feature.'),\n",
       " Param(parent='RandomForestRegressor_c11ddb253bc9', name='maxDepth', doc='Maximum depth of the tree. (>= 0) E.g., depth 0 means 1 leaf node; depth 1 means 1 internal node + 2 leaf nodes. Must be in range [0, 30].'),\n",
       " Param(parent='RandomForestRegressor_c11ddb253bc9', name='maxMemoryInMB', doc='Maximum memory in MB allocated to histogram aggregation. If too small, then 1 node will be split per iteration, and its aggregates may exceed this size.'),\n",
       " Param(parent='RandomForestRegressor_c11ddb253bc9', name='minInfoGain', doc='Minimum information gain for a split to be considered at a tree node.'),\n",
       " Param(parent='RandomForestRegressor_c11ddb253bc9', name='minInstancesPerNode', doc='Minimum number of instances each child must have after split. If a split causes the left or right child to have fewer than minInstancesPerNode, the split will be discarded as invalid. Should be >= 1.'),\n",
       " Param(parent='RandomForestRegressor_c11ddb253bc9', name='minWeightFractionPerNode', doc='Minimum fraction of the weighted sample count that each child must have after split. If a split causes the fraction of the total weight in the left or right child to be less than minWeightFractionPerNode, the split will be discarded as invalid. Should be in interval [0.0, 0.5).'),\n",
       " Param(parent='RandomForestRegressor_c11ddb253bc9', name='numTrees', doc='Number of trees to train (>= 1).'),\n",
       " Param(parent='RandomForestRegressor_c11ddb253bc9', name='predictionCol', doc='prediction column name.'),\n",
       " Param(parent='RandomForestRegressor_c11ddb253bc9', name='seed', doc='random seed.'),\n",
       " Param(parent='RandomForestRegressor_c11ddb253bc9', name='subsamplingRate', doc='Fraction of the training data used for learning each decision tree, in range (0, 1].'),\n",
       " Param(parent='RandomForestRegressor_c11ddb253bc9', name='weightCol', doc='weight column name. If this is not set or empty, we treat all instance weights as 1.0.')]"
      ]
     },
     "execution_count": 26,
     "metadata": {},
     "output_type": "execute_result"
    }
   ],
   "source": [
    "model_rf.params"
   ]
  },
  {
   "cell_type": "code",
   "execution_count": 27,
   "id": "5dea6a22-9f7a-483b-818e-0b4e62f723e3",
   "metadata": {},
   "outputs": [
    {
     "data": {
      "text/plain": [
       "RandomForestRegressionModel: uid=RandomForestRegressor_c11ddb253bc9, numTrees=20, numFeatures=57"
      ]
     },
     "execution_count": 27,
     "metadata": {},
     "output_type": "execute_result"
    }
   ],
   "source": [
    "from pyspark.ml.tuning import ParamGridBuilder, CrossValidator \n",
    "\n",
    "import numpy as np\n",
    "\n",
    "\n",
    "grid = ParamGridBuilder()\n",
    "grid = grid.addGrid(model_rf.subsamplingRate, [0.3, 0.6, 1.0]).addGrid(model_rf.numTrees, [30, 40, 50]).build()\n",
    "\n",
    "cv = CrossValidator(estimator = rf, \n",
    "                    estimatorParamMaps = grid, \n",
    "                    evaluator = evaluator2_rmse,\n",
    "                    parallelism = 5,\n",
    "                    numFolds=3)\n",
    "\n",
    "cvModel = cv.fit(train_data)\n",
    "bestModel = cvModel.bestModel\n",
    "bestModel"
   ]
  },
  {
   "cell_type": "markdown",
   "id": "1524320f-8764-4ed4-b8ff-9d0a43b2ee29",
   "metadata": {},
   "source": [
    "## Best model 2\n"
   ]
  },
  {
   "cell_type": "code",
   "execution_count": 28,
   "id": "ccafef7f-5a51-4370-8572-447f06b92248",
   "metadata": {},
   "outputs": [
    {
     "name": "stdout",
     "output_type": "stream",
     "text": [
      "{Param(parent='RandomForestRegressor_c11ddb253bc9', name='checkpointInterval', doc='set checkpoint interval (>= 1) or disable checkpoint (-1). E.g. 10 means that the cache will get checkpointed every 10 iterations. Note: this setting will be ignored if the checkpoint directory is not set in the SparkContext.'): 10,\n",
      " Param(parent='RandomForestRegressor_c11ddb253bc9', name='leafCol', doc='Leaf indices column name. Predicted leaf index of each instance in each tree by preorder.'): '',\n",
      " Param(parent='RandomForestRegressor_c11ddb253bc9', name='cacheNodeIds', doc='If false, the algorithm will pass trees to executors to match instances with nodes. If true, the algorithm will cache node IDs for each instance. Caching can speed up training of deeper trees. Users can set how often should the cache be checkpointed or disable it by setting checkpointInterval.'): False,\n",
      " Param(parent='RandomForestRegressor_c11ddb253bc9', name='maxMemoryInMB', doc='Maximum memory in MB allocated to histogram aggregation. If too small, then 1 node will be split per iteration, and its aggregates may exceed this size.'): 256,\n",
      " Param(parent='RandomForestRegressor_c11ddb253bc9', name='labelCol', doc='label column name.'): 'label',\n",
      " Param(parent='RandomForestRegressor_c11ddb253bc9', name='maxDepth', doc='Maximum depth of the tree. (>= 0) E.g., depth 0 means 1 leaf node; depth 1 means 1 internal node + 2 leaf nodes. Must be in range [0, 30].'): 5,\n",
      " Param(parent='RandomForestRegressor_c11ddb253bc9', name='featureSubsetStrategy', doc=\"The number of features to consider for splits at each tree node. Supported options: 'auto' (choose automatically for task: If numTrees == 1, set to 'all'. If numTrees > 1 (forest), set to 'sqrt' for classification and to 'onethird' for regression), 'all' (use all features), 'onethird' (use 1/3 of the features), 'sqrt' (use sqrt(number of features)), 'log2' (use log2(number of features)), 'n' (when n is in the range (0, 1.0], use n * number of features. When n is in the range (1, number of features), use n features). default = 'auto'\"): 'auto',\n",
      " Param(parent='RandomForestRegressor_c11ddb253bc9', name='bootstrap', doc='Whether bootstrap samples are used when building trees.'): True,\n",
      " Param(parent='RandomForestRegressor_c11ddb253bc9', name='maxBins', doc='Max number of bins for discretizing continuous features.  Must be >=2 and >= number of categories for any categorical feature.'): 32,\n",
      " Param(parent='RandomForestRegressor_c11ddb253bc9', name='impurity', doc='Criterion used for information gain calculation (case-insensitive). Supported options: variance'): 'variance',\n",
      " Param(parent='RandomForestRegressor_c11ddb253bc9', name='featuresCol', doc='features column name.'): 'features',\n",
      " Param(parent='RandomForestRegressor_c11ddb253bc9', name='numTrees', doc='Number of trees to train (>= 1).'): 20,\n",
      " Param(parent='RandomForestRegressor_c11ddb253bc9', name='predictionCol', doc='prediction column name.'): 'prediction',\n",
      " Param(parent='RandomForestRegressor_c11ddb253bc9', name='minInfoGain', doc='Minimum information gain for a split to be considered at a tree node.'): 0.0,\n",
      " Param(parent='RandomForestRegressor_c11ddb253bc9', name='minWeightFractionPerNode', doc='Minimum fraction of the weighted sample count that each child must have after split. If a split causes the fraction of the total weight in the left or right child to be less than minWeightFractionPerNode, the split will be discarded as invalid. Should be in interval [0.0, 0.5).'): 0.0,\n",
      " Param(parent='RandomForestRegressor_c11ddb253bc9', name='seed', doc='random seed.'): 4628462789497838376,\n",
      " Param(parent='RandomForestRegressor_c11ddb253bc9', name='subsamplingRate', doc='Fraction of the training data used for learning each decision tree, in range (0, 1].'): 1.0,\n",
      " Param(parent='RandomForestRegressor_c11ddb253bc9', name='minInstancesPerNode', doc='Minimum number of instances each child must have after split. If a split causes the left or right child to have fewer than minInstancesPerNode, the split will be discarded as invalid. Should be >= 1.'): 1}\n"
     ]
    }
   ],
   "source": [
    "from pprint import pprint\n",
    "model2 = bestModel\n",
    "pprint(model2.extractParamMap())"
   ]
  },
  {
   "cell_type": "markdown",
   "id": "336a3f34-cd0b-4e7e-a0ff-8670bee1e2ef",
   "metadata": {},
   "source": [
    "## Save the model to HDFS"
   ]
  },
  {
   "cell_type": "code",
   "execution_count": 29,
   "id": "098bb094-67c3-4a8b-a52a-95a1f7c7bc74",
   "metadata": {},
   "outputs": [
    {
     "data": {
      "text/plain": [
       "''"
      ]
     },
     "execution_count": 29,
     "metadata": {},
     "output_type": "execute_result"
    }
   ],
   "source": [
    "model2.write().overwrite().save(\"project/models/model2\")\n",
    "\n",
    "# Run it from root directory of the repository\n",
    "run(\"hdfs dfs -get project/models/model2 models/model2\")"
   ]
  },
  {
   "cell_type": "markdown",
   "id": "2220eee3-99d3-44cc-82ab-b941fd5e5e7c",
   "metadata": {},
   "source": [
    "## Predict for test data using best model2"
   ]
  },
  {
   "cell_type": "code",
   "execution_count": 30,
   "id": "53789d15-33a1-43b2-8e8e-df7627df5de1",
   "metadata": {},
   "outputs": [
    {
     "name": "stdout",
     "output_type": "stream",
     "text": [
      "+--------------------+----------+----------+------------------+-------------+--------------+-----------+--------------+------------+---------+--------+---------+--------------+-------------------+---------------------------------+------------------------+-------------------------------+----------------------+--------------------------+----------------------------+--------------------+-------------------+----------------------------+-------------------------+----------------+-----------------+---------------+-----+---+-----------+-----------+-------------+------------+------+-----------------------+--------------------------+-------------------------+---------------------------+-------------------------------+----------------------------------+---------------------------------+-----------------------------------+-------------------------------+----------------------------------+---------------------------------+-----------------------------------+----------------------+----------------------+--------------------+-----------------+----------------------+---------------------------+---------------------------------+---------------+---------------+-----------------+-----------------+--------------------+--------------------+------------------+\n",
      "|               legid|searchdate|flightDate|destinationAirport|farebasiscode|travelDuration|elapseddays|isBasicEconomy|isRefundable|isNonStop|baseFare|totalfare|seatsRemaining|totalTravelDistance|segmentsdeparturetimeepochseconds|segmentsdeparturetimeraw|segmentsarrivaltimeepochseconds|segmentsarrivaltimeraw|segmentsarrivalairportcode|segmentsdepartureairportcode| segmentsairlinename|segmentsAirlineCode|segmentsequipmentdescription|segmentsDurationInSeconds|segmentsdistance|segmentsCabinCode|startingAirport|month|day|    day_sin|    day_cos|    month_sin|   month_cos| label|startingAirport_indexed|destinationAirport_indexed|segmentsCabinCode_indexed|segmentsAirlineCode_indexed|startingAirport_indexed_imputed|destinationAirport_indexed_imputed|segmentsCabinCode_indexed_imputed|segmentsAirlineCode_indexed_imputed|startingAirport_indexed_encoded|destinationAirport_indexed_encoded|segmentsCabinCode_indexed_encoded|segmentsAirlineCode_indexed_encoded|travelDuration_imputed|isBasicEconomy_imputed|isRefundable_imputed|isNonStop_imputed|seatsRemaining_imputed|totalTravelDistance_imputed|segmentsDurationInSeconds_imputed|day_sin_imputed|day_cos_imputed|month_sin_imputed|month_cos_imputed|   nonscaledfeatures|            features|        prediction|\n",
      "+--------------------+----------+----------+------------------+-------------+--------------+-----------+--------------+------------+---------+--------+---------+--------------+-------------------+---------------------------------+------------------------+-------------------------------+----------------------+--------------------------+----------------------------+--------------------+-------------------+----------------------------+-------------------------+----------------+-----------------+---------------+-----+---+-----------+-----------+-------------+------------+------+-----------------------+--------------------------+-------------------------+---------------------------+-------------------------------+----------------------------------+---------------------------------+-----------------------------------+-------------------------------+----------------------------------+---------------------------------+-----------------------------------+----------------------+----------------------+--------------------+-----------------+----------------------+---------------------------+---------------------------------+---------------+---------------+-----------------+-----------------+--------------------+--------------------+------------------+\n",
      "|000f29e6b05ffdeff...|2022-04-22|2022-04-26|               IAD|     KA0NA0MQ|       17700.0|          0|           0.0|         0.0|      0.0|  351.63|   401.60|           1.0|             1137.0|             1650982800||16509...|    2022-04-26T10:20:...|           1650989760||16510...|  2022-04-26T12:16:...|                  ATL||IAD|                    MIA||ATL|       Delta||United|                 DL|        Boeing 737-900||E...|                  13620.0|        596||541|            coach|            MIA|    4| 26|-0.84864426|   0.528964|          1.0|6.123234E-17|351.63|                    8.0|                      15.0|                      0.0|                        2.0|                            8.0|                              15.0|                              0.0|                                2.0|                 (15,[8],[1.0])|                        (15,[],[])|                    (3,[0],[1.0])|                     (13,[2],[1.0])|               17700.0|                   0.0|                 0.0|              0.0|                   1.0|                     1137.0|                          13620.0|    -0.84864426|       0.528964|              1.0|     6.123234E-17|(57,[8,30,35,46,5...|(57,[8,30,35,46,5...| 320.9379458647961|\n",
      "|00119c4594121c714...|2022-05-09|2022-06-25|               PHL|          MNR|       25860.0|          0|           0.0|         0.0|      0.0|   149.0|   256.58|           0.0|               null|             1656151200||16561...|    2022-06-25T06:00:...|           1656155400||16561...|  2022-06-25T07:10:...|                  MCO||PHL|                    MIA||MCO|Spirit Airlines||...|                 NK|        Airbus A319||AIRB...|                  13680.0|      None||None|            coach|            MIA|    6| 25| -0.9377521| 0.34730524|          0.5|  -0.8660254|149.00|                    8.0|                       9.0|                      0.0|                        4.0|                            8.0|                               9.0|                              0.0|                                4.0|                 (15,[8],[1.0])|                    (15,[9],[1.0])|                    (3,[0],[1.0])|                     (13,[4],[1.0])|               25860.0|                   0.0|                 0.0|              0.0|                   0.0|                  1611.5007|                          13680.0|     -0.9377521|     0.34730524|              0.5|       -0.8660254|(57,[8,24,30,37,4...|(57,[8,24,30,37,4...|113.83481810181426|\n",
      "|00119c4594121c714...|2022-05-26|2022-06-25|               PHL|          VNR|       25860.0|          0|           0.0|         0.0|      0.0|    89.0|   196.58|           0.0|               null|             1656151200||16561...|    2022-06-25T06:00:...|           1656155400||16561...|  2022-06-25T07:10:...|                  MCO||PHL|                    MIA||MCO|Spirit Airlines||...|                 NK|        Airbus A319||AIRB...|                  13680.0|      None||None|            coach|            MIA|    6| 25| -0.9377521| 0.34730524|          0.5|  -0.8660254| 89.00|                    8.0|                       9.0|                      0.0|                        4.0|                            8.0|                               9.0|                              0.0|                                4.0|                 (15,[8],[1.0])|                    (15,[9],[1.0])|                    (3,[0],[1.0])|                     (13,[4],[1.0])|               25860.0|                   0.0|                 0.0|              0.0|                   0.0|                  1611.5007|                          13680.0|     -0.9377521|     0.34730524|              0.5|       -0.8660254|(57,[8,24,30,37,4...|(57,[8,24,30,37,4...|113.83481810181426|\n",
      "|00119c4594121c714...|2022-06-06|2022-06-25|               PHL|          VNR|       25860.0|          0|           0.0|         0.0|      0.0|    89.0|   196.58|           0.0|               null|             1656151200||16561...|    2022-06-25T06:00:...|           1656155400||16561...|  2022-06-25T07:10:...|                  MCO||PHL|                    MIA||MCO|Spirit Airlines||...|                 NK|        Airbus A319||AIRB...|                  13680.0|      None||None|            coach|            MIA|    6| 25| -0.9377521| 0.34730524|          0.5|  -0.8660254| 89.00|                    8.0|                       9.0|                      0.0|                        4.0|                            8.0|                               9.0|                              0.0|                                4.0|                 (15,[8],[1.0])|                    (15,[9],[1.0])|                    (3,[0],[1.0])|                     (13,[4],[1.0])|               25860.0|                   0.0|                 0.0|              0.0|                   0.0|                  1611.5007|                          13680.0|     -0.9377521|     0.34730524|              0.5|       -0.8660254|(57,[8,24,30,37,4...|(57,[8,24,30,37,4...|113.83481810181426|\n",
      "|00119c4594121c714...|2022-06-06|2022-06-25|               PHL|          VNR|       25860.0|          0|           0.0|         0.0|      0.0|    89.0|   196.58|           0.0|               null|             1656151200||16561...|    2022-06-25T06:00:...|           1656155400||16561...|  2022-06-25T07:10:...|                  MCO||PHL|                    MIA||MCO|Spirit Airlines||...|                 NK|        Airbus A319||AIRB...|                  13680.0|      None||None|            coach|            MIA|    6| 25| -0.9377521| 0.34730524|          0.5|  -0.8660254| 89.00|                    8.0|                       9.0|                      0.0|                        4.0|                            8.0|                               9.0|                              0.0|                                4.0|                 (15,[8],[1.0])|                    (15,[9],[1.0])|                    (3,[0],[1.0])|                     (13,[4],[1.0])|               25860.0|                   0.0|                 0.0|              0.0|                   0.0|                  1611.5007|                          13680.0|     -0.9377521|     0.34730524|              0.5|       -0.8660254|(57,[8,24,30,37,4...|(57,[8,24,30,37,4...|113.83481810181426|\n",
      "|00119c4594121c714...|2022-06-22|2022-06-25|               PHL|        WA3NR|       25860.0|          0|           0.0|         0.0|      0.0|   153.0|   198.58|           0.0|               null|             1656151200||16561...|    2022-06-25T06:00:...|           1656155400||16561...|  2022-06-25T07:10:...|                  MCO||PHL|                    MIA||MCO|Spirit Airlines||...|                 NK|        Airbus A319||AIRB...|                  13680.0|      None||None|            coach|            MIA|    6| 25| -0.9377521| 0.34730524|          0.5|  -0.8660254|153.00|                    8.0|                       9.0|                      0.0|                        4.0|                            8.0|                               9.0|                              0.0|                                4.0|                 (15,[8],[1.0])|                    (15,[9],[1.0])|                    (3,[0],[1.0])|                     (13,[4],[1.0])|               25860.0|                   0.0|                 0.0|              0.0|                   0.0|                  1611.5007|                          13680.0|     -0.9377521|     0.34730524|              0.5|       -0.8660254|(57,[8,24,30,37,4...|(57,[8,24,30,37,4...|113.83481810181426|\n",
      "|0015eafc6f2839ec7...|2022-09-02|2022-09-21|               BOS|     UA7NA0BQ|       22260.0|          0|           1.0|         0.0|      0.0|  115.35|   147.60|           9.0|             1315.0|             1663789500||16638...|    2022-09-21T15:45:...|           1663797060||16638...|  2022-09-21T17:51:...|                  RDU||BOS|                    MIA||RDU|        Delta||Delta|                 DL|        Boeing 717||Airbu...|                  14820.0|        702||613|            coach|            MIA|    9| 21|-0.89780456|-0.44039416|   -0.8660254|        -0.5|115.35|                    8.0|                       3.0|                      0.0|                        2.0|                            8.0|                               3.0|                              0.0|                                2.0|                 (15,[8],[1.0])|                    (15,[3],[1.0])|                    (3,[0],[1.0])|                     (13,[2],[1.0])|               22260.0|                   1.0|                 0.0|              0.0|                   9.0|                     1315.0|                          14820.0|    -0.89780456|    -0.44039416|       -0.8660254|             -0.5|(57,[8,18,30,35,4...|(57,[8,18,30,35,4...| 145.1548932962528|\n",
      "|0016bf3babb7cca41...|2022-06-04|2022-06-18|               DEN|     WAA4OKEN|       23040.0|          0|           0.0|         0.0|      0.0|  236.28|   277.60|           8.0|             1834.0|             1655579760||16555...|    2022-06-18T15:16:...|           1655589720||16556...|  2022-06-18T17:02:...|                  IAH||DEN|                    MIA||IAH|      United||United|                 UA|        Boeing 737 MAX 8|...|                  19260.0|        958||876|            coach|            MIA|    6| 18|-0.48530197| -0.8743466|          0.5|  -0.8660254|236.28|                    8.0|                      10.0|                      0.0|                        1.0|                            8.0|                              10.0|                              0.0|                                1.0|                 (15,[8],[1.0])|                   (15,[10],[1.0])|                    (3,[0],[1.0])|                     (13,[1],[1.0])|               23040.0|                   0.0|                 0.0|              0.0|                   8.0|                     1834.0|                          19260.0|    -0.48530197|     -0.8743466|              0.5|       -0.8660254|(57,[8,25,30,34,4...|(57,[8,25,30,34,4...| 317.9504900130119|\n",
      "|00330e0e3ec3de863...|2022-05-06|2022-05-10|               DTW|     L3AGZNN1|       25500.0|          0|           0.0|         0.0|      0.0|  252.09|   293.10|           1.0|             1157.0|             1652196000||16522...|    2022-05-10T11:20:...|           1652203860||16522...|  2022-05-10T13:31:...|                  CLT||DTW|                    MIA||CLT|American Airlines...|                 AA|        Boeing 737-800||A...|                  14160.0|        652||505|            coach|            MIA|    5| 10| 0.89780456|-0.44039416|    0.8660254|        -0.5|252.09|                    8.0|                      11.0|                      0.0|                        0.0|                            8.0|                              11.0|                              0.0|                                0.0|                 (15,[8],[1.0])|                   (15,[11],[1.0])|                    (3,[0],[1.0])|                     (13,[0],[1.0])|               25500.0|                   0.0|                 0.0|              0.0|                   1.0|                     1157.0|                          14160.0|     0.89780456|    -0.44039416|        0.8660254|             -0.5|(57,[8,26,30,33,4...|(57,[8,26,30,33,4...|281.43629598545596|\n",
      "|0036a58d3d47194d7...|2022-07-13|2022-09-01|               DEN|     QATOA0MC|       23460.0|          0|           0.0|         0.0|      0.0|  353.49|   403.60|           9.0|             1803.0|             1662042540||16620...|    2022-09-01T10:29:...|           1662049140||16620...|  2022-09-01T12:19:...|                  ATL||DEN|                    MIA||ATL|        Delta||Delta|                 DL|        Boeing 737-900||A...|                  17880.0|       596||1207|            coach|            MIA|    9|  1| 0.20129852|  0.9795299|   -0.8660254|        -0.5|353.49|                    8.0|                      10.0|                      0.0|                        2.0|                            8.0|                              10.0|                              0.0|                                2.0|                 (15,[8],[1.0])|                   (15,[10],[1.0])|                    (3,[0],[1.0])|                     (13,[2],[1.0])|               23460.0|                   0.0|                 0.0|              0.0|                   9.0|                     1803.0|                          17880.0|     0.20129852|      0.9795299|       -0.8660254|             -0.5|(57,[8,25,30,35,4...|(57,[8,25,30,35,4...| 325.6058594129373|\n",
      "|0036a58d3d47194d7...|2022-08-08|2022-09-01|               DEN|     HA0OA0MC|       23460.0|          0|           0.0|         0.0|      0.0|  404.65|   458.60|           9.0|             1803.0|             1662042540||16620...|    2022-09-01T10:29:...|           1662049140||16620...|  2022-09-01T12:19:...|                  ATL||DEN|                    MIA||ATL|        Delta||Delta|                 DL|        Boeing 737-900||A...|                  17880.0|       596||1207|            coach|            MIA|    9|  1| 0.20129852|  0.9795299|   -0.8660254|        -0.5|404.65|                    8.0|                      10.0|                      0.0|                        2.0|                            8.0|                              10.0|                              0.0|                                2.0|                 (15,[8],[1.0])|                   (15,[10],[1.0])|                    (3,[0],[1.0])|                     (13,[2],[1.0])|               23460.0|                   0.0|                 0.0|              0.0|                   9.0|                     1803.0|                          17880.0|     0.20129852|      0.9795299|       -0.8660254|             -0.5|(57,[8,25,30,35,4...|(57,[8,25,30,35,4...| 325.6058594129373|\n",
      "|00371f2bcb2854044...|2022-08-04|2022-08-13|               PHL|     QA7OA0MC|       21000.0|          0|           0.0|         0.0|      0.0|  311.63|   358.60|           2.0|             1263.0|             1660414200||16604...|    2022-08-13T14:10:...|           1660421700||16604...|  2022-08-13T16:15:...|                  ATL||PHL|                    MIA||ATL|        Delta||Delta|                 DL|        Boeing 737-900||B...|                  15000.0|        596||667|            coach|            MIA|    8| 13| 0.48530197| -0.8743466|         -0.5|  -0.8660254|311.63|                    8.0|                       9.0|                      0.0|                        2.0|                            8.0|                               9.0|                              0.0|                                2.0|                 (15,[8],[1.0])|                    (15,[9],[1.0])|                    (3,[0],[1.0])|                     (13,[2],[1.0])|               21000.0|                   0.0|                 0.0|              0.0|                   2.0|                     1263.0|                          15000.0|     0.48530197|     -0.8743466|             -0.5|       -0.8660254|(57,[8,24,30,35,4...|(57,[8,24,30,35,4...| 315.6143016340808|\n",
      "|003ddfea00fbe9285...|2022-04-29|2022-06-15|               BOS|     GVAJZNN3|       13200.0|          0|           0.0|         0.0|      1.0|  115.35|   138.60|           7.0|             1260.0|                       1655310120|    2022-06-15T12:22:...|                     1655323320|  2022-06-15T16:02:...|                       BOS|                         MIA|   American Airlines|                 AA|                        null|                  13200.0|            1260|            coach|            MIA|    6| 15| 0.10116832|-0.99486935|          0.5|  -0.8660254|115.35|                    8.0|                       3.0|                      0.0|                        0.0|                            8.0|                               3.0|                              0.0|                                0.0|                 (15,[8],[1.0])|                    (15,[3],[1.0])|                    (3,[0],[1.0])|                     (13,[0],[1.0])|               13200.0|                   0.0|                 0.0|              1.0|                   7.0|                     1260.0|                          13200.0|     0.10116832|    -0.99486935|              0.5|       -0.8660254|(57,[8,18,30,33,4...|(57,[8,18,30,33,4...|239.89763516762414|\n",
      "|003ddfea00fbe9285...|2022-05-08|2022-06-15|               BOS|     L3AJZNN1|       13200.0|          0|           0.0|         0.0|      1.0|  217.67|   248.60|           7.0|             1260.0|                       1655310120|    2022-06-15T12:22:...|                     1655323320|  2022-06-15T16:02:...|                       BOS|                         MIA|   American Airlines|                 AA|                        null|                  13200.0|            1260|            coach|            MIA|    6| 15| 0.10116832|-0.99486935|          0.5|  -0.8660254|217.67|                    8.0|                       3.0|                      0.0|                        0.0|                            8.0|                               3.0|                              0.0|                                0.0|                 (15,[8],[1.0])|                    (15,[3],[1.0])|                    (3,[0],[1.0])|                     (13,[0],[1.0])|               13200.0|                   0.0|                 0.0|              1.0|                   7.0|                     1260.0|                          13200.0|     0.10116832|    -0.99486935|              0.5|       -0.8660254|(57,[8,18,30,33,4...|(57,[8,18,30,33,4...|239.89763516762414|\n",
      "|00709eab40f90539c...|2022-05-03|2022-05-17|               LAX|     VAUNA0BC|       54420.0|          1|           1.0|         0.0|      0.0|  194.42|   242.70|           9.0|             2643.0|             1652831280||16528...|    2022-05-17T19:48:...|           1652838480||16528...|  2022-05-17T21:48:...|             ATL||AUS||LAX|               MIA||ATL||AUS| Delta||Delta||Delta|                 DL|        Airbus A321||Airb...|                  27960.0|  596||811||1236|            coach|            MIA|    5| 17|-0.29936314|-0.95413923|    0.8660254|        -0.5|194.42|                    8.0|                       0.0|                      0.0|                        2.0|                            8.0|                               0.0|                              0.0|                                2.0|                 (15,[8],[1.0])|                    (15,[0],[1.0])|                    (3,[0],[1.0])|                     (13,[2],[1.0])|               54420.0|                   1.0|                 0.0|              0.0|                   9.0|                     2643.0|                          27960.0|    -0.29936314|    -0.95413923|        0.8660254|             -0.5|(57,[8,15,30,35,4...|(57,[8,15,30,35,4...| 284.7575044634469|\n",
      "|0076eba1e1b4e3280...|2022-08-03|2022-09-23|               DFW|     NVAIZON3|       16800.0|          0|           0.0|         0.0|      0.0|  146.98|   181.60|           7.0|             1246.0|             1663970520||16639...|    2022-09-23T18:02:...|           1663975200||16639...|  2022-09-23T19:20:...|                  JAX||DFW|                    MIA||JAX|American Airlines...|                 AA|        Airbus A319||Boei...|                  14400.0|        330||916|            coach|            MIA|    9| 23|-0.99871653|-0.05064917|   -0.8660254|        -0.5|146.98|                    8.0|                       2.0|                      0.0|                        0.0|                            8.0|                               2.0|                              0.0|                                0.0|                 (15,[8],[1.0])|                    (15,[2],[1.0])|                    (3,[0],[1.0])|                     (13,[0],[1.0])|               16800.0|                   0.0|                 0.0|              0.0|                   7.0|                     1246.0|                          14400.0|    -0.99871653|    -0.05064917|       -0.8660254|             -0.5|(57,[8,17,30,33,4...|(57,[8,17,30,33,4...| 279.3060743541229|\n",
      "|0076eba1e1b4e3280...|2022-08-22|2022-09-23|               DFW|     GVAIZOB3|       16800.0|          0|           1.0|         0.0|      0.0|  146.98|   181.60|           7.0|             1246.0|             1663970520||16639...|    2022-09-23T18:02:...|           1663975200||16639...|  2022-09-23T19:20:...|                  JAX||DFW|                    MIA||JAX|American Airlines...|                 AA|        Airbus A319||Boei...|                  14400.0|        330||916|            coach|            MIA|    9| 23|-0.99871653|-0.05064917|   -0.8660254|        -0.5|146.98|                    8.0|                       2.0|                      0.0|                        0.0|                            8.0|                               2.0|                              0.0|                                0.0|                 (15,[8],[1.0])|                    (15,[2],[1.0])|                    (3,[0],[1.0])|                     (13,[0],[1.0])|               16800.0|                   1.0|                 0.0|              0.0|                   7.0|                     1246.0|                          14400.0|    -0.99871653|    -0.05064917|       -0.8660254|             -0.5|(57,[8,17,30,33,4...|(57,[8,17,30,33,4...|140.18523211169747|\n",
      "|0076eba1e1b4e3280...|2022-09-17|2022-09-23|               DFW|     L7AIZON1|       16800.0|          0|           0.0|         0.0|      0.0|  252.09|   294.60|           7.0|             1246.0|             1663970520||16639...|    2022-09-23T18:02:...|           1663975200||16639...|  2022-09-23T19:20:...|                  JAX||DFW|                    MIA||JAX|American Airlines...|                 AA|        Airbus A319||Boei...|                  14400.0|        330||916|            coach|            MIA|    9| 23|-0.99871653|-0.05064917|   -0.8660254|        -0.5|252.09|                    8.0|                       2.0|                      0.0|                        0.0|                            8.0|                               2.0|                              0.0|                                0.0|                 (15,[8],[1.0])|                    (15,[2],[1.0])|                    (3,[0],[1.0])|                     (13,[0],[1.0])|               16800.0|                   0.0|                 0.0|              0.0|                   7.0|                     1246.0|                          14400.0|    -0.99871653|    -0.05064917|       -0.8660254|             -0.5|(57,[8,17,30,33,4...|(57,[8,17,30,33,4...| 279.3060743541229|\n",
      "|007f7bce52bbcdcb6...|2022-07-05|2022-07-14|               OAK|        WA7Y4|       30240.0|          0|           0.0|         0.0|      0.0|   116.0|   161.58|           0.0|               null|             1657806540||16578...|    2022-07-14T09:49:...|           1657826040||16578...|  2022-07-14T12:14:...|                  LAS||OAK|                    MIA||LAS|Spirit Airlines||...|                 NK|                          |||                  25020.0|      None||None|            coach|            MIA|    7| 14| 0.29936314|-0.95413923|1.2246469E-16|        -1.0|116.00|                    8.0|                      14.0|                      0.0|                        4.0|                            8.0|                              14.0|                              0.0|                                4.0|                 (15,[8],[1.0])|                   (15,[14],[1.0])|                    (3,[0],[1.0])|                     (13,[4],[1.0])|               30240.0|                   0.0|                 0.0|              0.0|                   0.0|                  1611.5007|                          25020.0|     0.29936314|    -0.95413923|    1.2246469E-16|             -1.0|(57,[8,29,30,37,4...|(57,[8,29,30,37,4...|170.01817911677858|\n",
      "|0081d0baf7ee5bbc8...|2022-05-03|2022-06-15|               DEN|     QAA3AKEN|       23160.0|          0|           0.0|         0.0|      0.0|  305.12|   351.60|           4.0|             1834.0|             1655334180||16553...|    2022-06-15T19:03:...|           1655344200||16553...|  2022-06-15T20:50:...|                  IAH||DEN|                    MIA||IAH|      United||United|                 UA|        Boeing 737-900||B...|                  19500.0|        958||876|            coach|            MIA|    6| 15| 0.10116832|-0.99486935|          0.5|  -0.8660254|305.12|                    8.0|                      10.0|                      0.0|                        1.0|                            8.0|                              10.0|                              0.0|                                1.0|                 (15,[8],[1.0])|                   (15,[10],[1.0])|                    (3,[0],[1.0])|                     (13,[1],[1.0])|               23160.0|                   0.0|                 0.0|              0.0|                   4.0|                     1834.0|                          19500.0|     0.10116832|    -0.99486935|              0.5|       -0.8660254|(57,[8,25,30,34,4...|(57,[8,25,30,34,4...|337.02608687640856|\n",
      "+--------------------+----------+----------+------------------+-------------+--------------+-----------+--------------+------------+---------+--------+---------+--------------+-------------------+---------------------------------+------------------------+-------------------------------+----------------------+--------------------------+----------------------------+--------------------+-------------------+----------------------------+-------------------------+----------------+-----------------+---------------+-----+---+-----------+-----------+-------------+------------+------+-----------------------+--------------------------+-------------------------+---------------------------+-------------------------------+----------------------------------+---------------------------------+-----------------------------------+-------------------------------+----------------------------------+---------------------------------+-----------------------------------+----------------------+----------------------+--------------------+-----------------+----------------------+---------------------------+---------------------------------+---------------+---------------+-----------------+-----------------+--------------------+--------------------+------------------+\n",
      "only showing top 20 rows\n",
      "\n"
     ]
    }
   ],
   "source": [
    "predictions = model2.transform(test_data)\n",
    "predictions.show()"
   ]
  },
  {
   "cell_type": "code",
   "execution_count": 31,
   "id": "52df5365-5d86-407f-b71a-878fff80b152",
   "metadata": {},
   "outputs": [
    {
     "data": {
      "text/plain": [
       "''"
      ]
     },
     "execution_count": 31,
     "metadata": {},
     "output_type": "execute_result"
    }
   ],
   "source": [
    "predictions.select(\"label\", \"prediction\")\\\n",
    "    .coalesce(1)\\\n",
    "    .write\\\n",
    "    .mode(\"overwrite\")\\\n",
    "    .format(\"csv\")\\\n",
    "    .option(\"sep\", \",\")\\\n",
    "    .option(\"header\",\"true\")\\\n",
    "    .save(\"project/output/model2_predictions.csv\")\n",
    "\n",
    "# Run it from root directory of the repository\n",
    "run(\"hdfs dfs -cat project/output/model2_predictions.csv/*.csv > output/model2_predictions.csv\")"
   ]
  },
  {
   "cell_type": "markdown",
   "id": "64f9e394-a65a-4cb3-b9c8-1036fd3a443a",
   "metadata": {},
   "source": [
    "## Evaluate the best model2"
   ]
  },
  {
   "cell_type": "code",
   "execution_count": 32,
   "id": "2e83b832-0088-4e95-95fc-768bc13d70ee",
   "metadata": {},
   "outputs": [
    {
     "name": "stdout",
     "output_type": "stream",
     "text": [
      "Root Mean Squared Error (RMSE) on test data = 129.0482092550575\n",
      "R^2 on test data = 0.5007361130917505\n"
     ]
    }
   ],
   "source": [
    "from pyspark.ml.evaluation import RegressionEvaluator \n",
    "\n",
    "# Evaluate the performance of the model\n",
    "evaluator2_rmse = RegressionEvaluator(labelCol=\"label\", predictionCol=\"prediction\", metricName=\"rmse\")\n",
    "evaluator2_r2 = RegressionEvaluator(labelCol=\"label\", predictionCol=\"prediction\", metricName=\"r2\")\n",
    "\n",
    "rmse2 = evaluator2_rmse.evaluate(predictions)\n",
    "r22 = evaluator2_r2.evaluate(predictions)\n",
    "\n",
    "print(\"Root Mean Squared Error (RMSE) on test data = {}\".format(rmse2))\n",
    "print(\"R^2 on test data = {}\".format(r22))"
   ]
  },
  {
   "cell_type": "markdown",
   "id": "22bd7b48-f536-495a-ac38-90ea1b9014af",
   "metadata": {},
   "source": [
    "# Compare best models"
   ]
  },
  {
   "cell_type": "code",
   "execution_count": 33,
   "id": "8b91f3c3-50ca-4ce1-9dfa-dba7449fbc35",
   "metadata": {},
   "outputs": [
    {
     "name": "stdout",
     "output_type": "stream",
     "text": [
      "+------------------------------------------------------------------------------------------------+------------------+------------------+\n",
      "|model                                                                                           |RMSE              |R2                |\n",
      "+------------------------------------------------------------------------------------------------+------------------+------------------+\n",
      "|GBTRegressionModel: uid=GBTRegressor_a44f392bfe19, numTrees=10, numFeatures=57                  |119.95159936371351|0.5717973116498679|\n",
      "|RandomForestRegressionModel: uid=RandomForestRegressor_c11ddb253bc9, numTrees=20, numFeatures=57|129.0482092550575 |0.5007361130917505|\n",
      "+------------------------------------------------------------------------------------------------+------------------+------------------+\n",
      "\n"
     ]
    }
   ],
   "source": [
    "models = [[str(model1),rmse1, r21], [str(model2),rmse2, r22]]\n",
    "\n",
    "df = spark.createDataFrame(models, [\"model\", \"RMSE\", \"R2\"])\n",
    "df.show(truncate=False)"
   ]
  },
  {
   "cell_type": "code",
   "execution_count": null,
   "id": "e008d30b-9489-44a2-84a0-95bcd9608319",
   "metadata": {},
   "outputs": [
    {
     "data": {
      "text/plain": [
       "''"
      ]
     },
     "execution_count": 34,
     "metadata": {},
     "output_type": "execute_result"
    }
   ],
   "source": [
    "df.coalesce(1)\\\n",
    "    .write\\\n",
    "    .mode(\"overwrite\")\\\n",
    "    .format(\"csv\")\\\n",
    "    .option(\"sep\", \",\")\\\n",
    "    .option(\"header\",\"true\")\\\n",
    "    .save(\"project/output/evaluation.csv\")\n",
    "\n",
    "# Run it from root directory of the repository\n",
    "run(\"hdfs dfs -cat project/output/evaluation.csv/*.csv > output/evaluation.csv\")"
   ]
  },
  {
   "cell_type": "code",
   "execution_count": null,
   "id": "68dbaa9c-8ddd-4581-9a8c-ddfc5a68c2f1",
   "metadata": {},
   "outputs": [],
   "source": [
    "import json\n",
    "with open('./data/model1ParamMap.json', 'w') as json_file:\n",
    "    json.dump(model1.extractParamMap(), json_file)\n"
   ]
  },
  {
   "cell_type": "code",
   "execution_count": null,
   "id": "0f90d8c2-c452-4309-955b-e3a2a3f71ad4",
   "metadata": {},
   "outputs": [],
   "source": [
    "with open('./data/model2ParamMap.json', 'w') as json_file:\n",
    "    json.dump(model2.extractParamMap(), json_file)\n"
   ]
  }
 ],
 "metadata": {
  "kernelspec": {
   "display_name": "Pyspark 3",
   "language": "python",
   "name": "python3"
  },
  "language_info": {
   "codemirror_mode": {
    "name": "ipython",
    "version": 3
   },
   "file_extension": ".py",
   "mimetype": "text/x-python",
   "name": "python",
   "nbconvert_exporter": "python",
   "pygments_lexer": "ipython3",
   "version": "3.6.8"
  },
  "toc-autonumbering": true,
  "toc-showtags": false
 },
 "nbformat": 4,
 "nbformat_minor": 5
}
